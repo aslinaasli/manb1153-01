{
 "cells": [
  {
   "cell_type": "markdown",
   "metadata": {},
   "source": [
    "# MASTER OF SCIENCE IN BUSINESS INTELLIGENCE AND ANALYTICS\n",
    "\n",
    "### MANB2153 (MACHINE LEARNING FOR BUSINESS PROBLEMS) SEMESTER 2 SESSION 2017/ 2018\n",
    "\n",
    "\n",
    "### LECTURER: DR. NILAM NUR AMIR SJARIF\n"
   ]
  },
  {
   "cell_type": "markdown",
   "metadata": {},
   "source": [
    "\n",
    "#### ASSIGNMENT 1: SPAM DETECTION USING MACHINE LEARNING ALGORITHMS WITH PYTHON\n",
    "#### Student: Nur Asiah Tuan Yaacob(MAN171051)"
   ]
  },
  {
   "cell_type": "markdown",
   "metadata": {},
   "source": [
    "##### Start of Scripts"
   ]
  },
  {
   "cell_type": "code",
   "execution_count": 1,
   "metadata": {},
   "outputs": [
    {
     "name": "stdout",
     "output_type": "stream",
     "text": [
      "Using matplotlib backend: Qt4Agg\n"
     ]
    }
   ],
   "source": [
    "%matplotlib"
   ]
  },
  {
   "cell_type": "code",
   "execution_count": 50,
   "metadata": {
    "collapsed": true
   },
   "outputs": [],
   "source": [
    "#import libraries\n",
    "import pandas as pd\n",
    "import numpy as np\n",
    "from matplotlib import style\n",
    "%matplotlib inline\n",
    "import matplotlib.pyplot as plt # graphics package\n",
    "import seaborn as sns\n",
    "from IPython.display import display, HTML"
   ]
  },
  {
   "cell_type": "code",
   "execution_count": 51,
   "metadata": {},
   "outputs": [
    {
     "data": {
      "text/html": [
       "<div>\n",
       "<style>\n",
       "    .dataframe thead tr:only-child th {\n",
       "        text-align: right;\n",
       "    }\n",
       "\n",
       "    .dataframe thead th {\n",
       "        text-align: left;\n",
       "    }\n",
       "\n",
       "    .dataframe tbody tr th {\n",
       "        vertical-align: top;\n",
       "    }\n",
       "</style>\n",
       "<table border=\"1\" class=\"dataframe\">\n",
       "  <thead>\n",
       "    <tr style=\"text-align: right;\">\n",
       "      <th></th>\n",
       "      <th>v1</th>\n",
       "      <th>v2</th>\n",
       "      <th>Unnamed: 2</th>\n",
       "      <th>Unnamed: 3</th>\n",
       "      <th>Unnamed: 4</th>\n",
       "    </tr>\n",
       "  </thead>\n",
       "  <tbody>\n",
       "    <tr>\n",
       "      <th>0</th>\n",
       "      <td>ham</td>\n",
       "      <td>Go until jurong point, crazy.. Available only ...</td>\n",
       "      <td>NaN</td>\n",
       "      <td>NaN</td>\n",
       "      <td>NaN</td>\n",
       "    </tr>\n",
       "    <tr>\n",
       "      <th>1</th>\n",
       "      <td>ham</td>\n",
       "      <td>Ok lar... Joking wif u oni...</td>\n",
       "      <td>NaN</td>\n",
       "      <td>NaN</td>\n",
       "      <td>NaN</td>\n",
       "    </tr>\n",
       "    <tr>\n",
       "      <th>2</th>\n",
       "      <td>spam</td>\n",
       "      <td>Free entry in 2 a wkly comp to win FA Cup fina...</td>\n",
       "      <td>NaN</td>\n",
       "      <td>NaN</td>\n",
       "      <td>NaN</td>\n",
       "    </tr>\n",
       "    <tr>\n",
       "      <th>3</th>\n",
       "      <td>ham</td>\n",
       "      <td>U dun say so early hor... U c already then say...</td>\n",
       "      <td>NaN</td>\n",
       "      <td>NaN</td>\n",
       "      <td>NaN</td>\n",
       "    </tr>\n",
       "    <tr>\n",
       "      <th>4</th>\n",
       "      <td>ham</td>\n",
       "      <td>Nah I don't think he goes to usf, he lives aro...</td>\n",
       "      <td>NaN</td>\n",
       "      <td>NaN</td>\n",
       "      <td>NaN</td>\n",
       "    </tr>\n",
       "    <tr>\n",
       "      <th>5</th>\n",
       "      <td>spam</td>\n",
       "      <td>FreeMsg Hey there darling it's been 3 week's n...</td>\n",
       "      <td>NaN</td>\n",
       "      <td>NaN</td>\n",
       "      <td>NaN</td>\n",
       "    </tr>\n",
       "    <tr>\n",
       "      <th>6</th>\n",
       "      <td>ham</td>\n",
       "      <td>Even my brother is not like to speak with me. ...</td>\n",
       "      <td>NaN</td>\n",
       "      <td>NaN</td>\n",
       "      <td>NaN</td>\n",
       "    </tr>\n",
       "    <tr>\n",
       "      <th>7</th>\n",
       "      <td>ham</td>\n",
       "      <td>As per your request 'Melle Melle (Oru Minnamin...</td>\n",
       "      <td>NaN</td>\n",
       "      <td>NaN</td>\n",
       "      <td>NaN</td>\n",
       "    </tr>\n",
       "    <tr>\n",
       "      <th>8</th>\n",
       "      <td>spam</td>\n",
       "      <td>WINNER!! As a valued network customer you have...</td>\n",
       "      <td>NaN</td>\n",
       "      <td>NaN</td>\n",
       "      <td>NaN</td>\n",
       "    </tr>\n",
       "    <tr>\n",
       "      <th>9</th>\n",
       "      <td>spam</td>\n",
       "      <td>Had your mobile 11 months or more? U R entitle...</td>\n",
       "      <td>NaN</td>\n",
       "      <td>NaN</td>\n",
       "      <td>NaN</td>\n",
       "    </tr>\n",
       "  </tbody>\n",
       "</table>\n",
       "</div>"
      ],
      "text/plain": [
       "     v1                                                 v2 Unnamed: 2  \\\n",
       "0   ham  Go until jurong point, crazy.. Available only ...        NaN   \n",
       "1   ham                      Ok lar... Joking wif u oni...        NaN   \n",
       "2  spam  Free entry in 2 a wkly comp to win FA Cup fina...        NaN   \n",
       "3   ham  U dun say so early hor... U c already then say...        NaN   \n",
       "4   ham  Nah I don't think he goes to usf, he lives aro...        NaN   \n",
       "5  spam  FreeMsg Hey there darling it's been 3 week's n...        NaN   \n",
       "6   ham  Even my brother is not like to speak with me. ...        NaN   \n",
       "7   ham  As per your request 'Melle Melle (Oru Minnamin...        NaN   \n",
       "8  spam  WINNER!! As a valued network customer you have...        NaN   \n",
       "9  spam  Had your mobile 11 months or more? U R entitle...        NaN   \n",
       "\n",
       "  Unnamed: 3 Unnamed: 4  \n",
       "0        NaN        NaN  \n",
       "1        NaN        NaN  \n",
       "2        NaN        NaN  \n",
       "3        NaN        NaN  \n",
       "4        NaN        NaN  \n",
       "5        NaN        NaN  \n",
       "6        NaN        NaN  \n",
       "7        NaN        NaN  \n",
       "8        NaN        NaN  \n",
       "9        NaN        NaN  "
      ]
     },
     "execution_count": 51,
     "metadata": {},
     "output_type": "execute_result"
    }
   ],
   "source": [
    "#import dataset\n",
    "SMS = pd.read_csv('C:\\Users\\NurAsiah\\Desktop\\spam.csv', encoding='latin-1')\n",
    "SMS.head(10)"
   ]
  },
  {
   "cell_type": "code",
   "execution_count": 52,
   "metadata": {},
   "outputs": [
    {
     "data": {
      "text/html": [
       "<div>\n",
       "<style>\n",
       "    .dataframe thead tr:only-child th {\n",
       "        text-align: right;\n",
       "    }\n",
       "\n",
       "    .dataframe thead th {\n",
       "        text-align: left;\n",
       "    }\n",
       "\n",
       "    .dataframe tbody tr th {\n",
       "        vertical-align: top;\n",
       "    }\n",
       "</style>\n",
       "<table border=\"1\" class=\"dataframe\">\n",
       "  <thead>\n",
       "    <tr style=\"text-align: right;\">\n",
       "      <th></th>\n",
       "      <th>v1</th>\n",
       "      <th>v2</th>\n",
       "      <th>Unnamed: 2</th>\n",
       "      <th>Unnamed: 3</th>\n",
       "      <th>Unnamed: 4</th>\n",
       "    </tr>\n",
       "  </thead>\n",
       "  <tbody>\n",
       "    <tr>\n",
       "      <th>5567</th>\n",
       "      <td>spam</td>\n",
       "      <td>This is the 2nd time we have tried 2 contact u...</td>\n",
       "      <td>NaN</td>\n",
       "      <td>NaN</td>\n",
       "      <td>NaN</td>\n",
       "    </tr>\n",
       "    <tr>\n",
       "      <th>5568</th>\n",
       "      <td>ham</td>\n",
       "      <td>Will Ì_ b going to esplanade fr home?</td>\n",
       "      <td>NaN</td>\n",
       "      <td>NaN</td>\n",
       "      <td>NaN</td>\n",
       "    </tr>\n",
       "    <tr>\n",
       "      <th>5569</th>\n",
       "      <td>ham</td>\n",
       "      <td>Pity, * was in mood for that. So...any other s...</td>\n",
       "      <td>NaN</td>\n",
       "      <td>NaN</td>\n",
       "      <td>NaN</td>\n",
       "    </tr>\n",
       "    <tr>\n",
       "      <th>5570</th>\n",
       "      <td>ham</td>\n",
       "      <td>The guy did some bitching but I acted like i'd...</td>\n",
       "      <td>NaN</td>\n",
       "      <td>NaN</td>\n",
       "      <td>NaN</td>\n",
       "    </tr>\n",
       "    <tr>\n",
       "      <th>5571</th>\n",
       "      <td>ham</td>\n",
       "      <td>Rofl. Its true to its name</td>\n",
       "      <td>NaN</td>\n",
       "      <td>NaN</td>\n",
       "      <td>NaN</td>\n",
       "    </tr>\n",
       "  </tbody>\n",
       "</table>\n",
       "</div>"
      ],
      "text/plain": [
       "        v1                                                 v2 Unnamed: 2  \\\n",
       "5567  spam  This is the 2nd time we have tried 2 contact u...        NaN   \n",
       "5568   ham              Will Ì_ b going to esplanade fr home?        NaN   \n",
       "5569   ham  Pity, * was in mood for that. So...any other s...        NaN   \n",
       "5570   ham  The guy did some bitching but I acted like i'd...        NaN   \n",
       "5571   ham                         Rofl. Its true to its name        NaN   \n",
       "\n",
       "     Unnamed: 3 Unnamed: 4  \n",
       "5567        NaN        NaN  \n",
       "5568        NaN        NaN  \n",
       "5569        NaN        NaN  \n",
       "5570        NaN        NaN  \n",
       "5571        NaN        NaN  "
      ]
     },
     "execution_count": 52,
     "metadata": {},
     "output_type": "execute_result"
    }
   ],
   "source": [
    "SMS.tail(5)"
   ]
  },
  {
   "cell_type": "code",
   "execution_count": 53,
   "metadata": {},
   "outputs": [
    {
     "name": "stdout",
     "output_type": "stream",
     "text": [
      "        v1                                                 v2\n",
      "0      ham  Go until jurong point, crazy.. Available only ...\n",
      "1      ham                      Ok lar... Joking wif u oni...\n",
      "2     spam  Free entry in 2 a wkly comp to win FA Cup fina...\n",
      "3      ham  U dun say so early hor... U c already then say...\n",
      "4      ham  Nah I don't think he goes to usf, he lives aro...\n",
      "5     spam  FreeMsg Hey there darling it's been 3 week's n...\n",
      "6      ham  Even my brother is not like to speak with me. ...\n",
      "7      ham  As per your request 'Melle Melle (Oru Minnamin...\n",
      "8     spam  WINNER!! As a valued network customer you have...\n",
      "9     spam  Had your mobile 11 months or more? U R entitle...\n",
      "10     ham  I'm gonna be home soon and i don't want to tal...\n",
      "11    spam  SIX chances to win CASH! From 100 to 20,000 po...\n",
      "12    spam  URGENT! You have won a 1 week FREE membership ...\n",
      "13     ham  I've been searching for the right words to tha...\n",
      "14     ham                I HAVE A DATE ON SUNDAY WITH WILL!!\n",
      "15    spam  XXXMobileMovieClub: To use your credit, click ...\n",
      "16     ham                         Oh k...i'm watching here:)\n",
      "17     ham  Eh u remember how 2 spell his name... Yes i di...\n",
      "18     ham  Fine if thatåÕs the way u feel. ThatåÕs the wa...\n",
      "19    spam  England v Macedonia - dont miss the goals/team...\n",
      "20     ham          Is that seriously how you spell his name?\n",
      "21     ham  IÛ÷m going to try for 2 months ha ha only joking\n",
      "22     ham  So Ì_ pay first lar... Then when is da stock c...\n",
      "23     ham  Aft i finish my lunch then i go str down lor. ...\n",
      "24     ham  Ffffffffff. Alright no way I can meet up with ...\n",
      "25     ham  Just forced myself to eat a slice. I'm really ...\n",
      "26     ham                     Lol your always so convincing.\n",
      "27     ham  Did you catch the bus ? Are you frying an egg ...\n",
      "28     ham  I'm back &amp; we're packing the car now, I'll...\n",
      "29     ham  Ahhh. Work. I vaguely remember that! What does...\n",
      "...    ...                                                ...\n",
      "5542   ham           Armand says get your ass over to epsilon\n",
      "5543   ham             U still havent got urself a jacket ah?\n",
      "5544   ham  I'm taking derek &amp; taylor to walmart, if I...\n",
      "5545   ham      Hi its in durban are you still on this number\n",
      "5546   ham         Ic. There are a lotta childporn cars then.\n",
      "5547  spam  Had your contract mobile 11 Mnths? Latest Moto...\n",
      "5548   ham                 No, I was trying it all weekend ;V\n",
      "5549   ham  You know, wot people wear. T shirts, jumpers, ...\n",
      "5550   ham        Cool, what time you think you can get here?\n",
      "5551   ham  Wen did you get so spiritual and deep. That's ...\n",
      "5552   ham  Have a safe trip to Nigeria. Wish you happines...\n",
      "5553   ham                        Hahaha..use your brain dear\n",
      "5554   ham  Well keep in mind I've only got enough gas for...\n",
      "5555   ham  Yeh. Indians was nice. Tho it did kane me off ...\n",
      "5556   ham  Yes i have. So that's why u texted. Pshew...mi...\n",
      "5557   ham  No. I meant the calculation is the same. That ...\n",
      "5558   ham                             Sorry, I'll call later\n",
      "5559   ham  if you aren't here in the next  &lt;#&gt;  hou...\n",
      "5560   ham                  Anything lor. Juz both of us lor.\n",
      "5561   ham  Get me out of this dump heap. My mom decided t...\n",
      "5562   ham  Ok lor... Sony ericsson salesman... I ask shuh...\n",
      "5563   ham                                Ard 6 like dat lor.\n",
      "5564   ham  Why don't you wait 'til at least wednesday to ...\n",
      "5565   ham                                       Huh y lei...\n",
      "5566  spam  REMINDER FROM O2: To get 2.50 pounds free call...\n",
      "5567  spam  This is the 2nd time we have tried 2 contact u...\n",
      "5568   ham              Will Ì_ b going to esplanade fr home?\n",
      "5569   ham  Pity, * was in mood for that. So...any other s...\n",
      "5570   ham  The guy did some bitching but I acted like i'd...\n",
      "5571   ham                         Rofl. Its true to its name\n",
      "\n",
      "[5572 rows x 2 columns]\n"
     ]
    }
   ],
   "source": [
    "#Drop the unwanted columns\n",
    "SMS = SMS.drop(['Unnamed: 2', 'Unnamed: 3', 'Unnamed: 4'], axis = 1)\n",
    "print(SMS)"
   ]
  },
  {
   "cell_type": "code",
   "execution_count": 54,
   "metadata": {},
   "outputs": [
    {
     "name": "stdout",
     "output_type": "stream",
     "text": [
      "     Label                                               Data\n",
      "0      ham  Go until jurong point, crazy.. Available only ...\n",
      "1      ham                      Ok lar... Joking wif u oni...\n",
      "2     spam  Free entry in 2 a wkly comp to win FA Cup fina...\n",
      "3      ham  U dun say so early hor... U c already then say...\n",
      "4      ham  Nah I don't think he goes to usf, he lives aro...\n",
      "5     spam  FreeMsg Hey there darling it's been 3 week's n...\n",
      "6      ham  Even my brother is not like to speak with me. ...\n",
      "7      ham  As per your request 'Melle Melle (Oru Minnamin...\n",
      "8     spam  WINNER!! As a valued network customer you have...\n",
      "9     spam  Had your mobile 11 months or more? U R entitle...\n",
      "10     ham  I'm gonna be home soon and i don't want to tal...\n",
      "11    spam  SIX chances to win CASH! From 100 to 20,000 po...\n",
      "12    spam  URGENT! You have won a 1 week FREE membership ...\n",
      "13     ham  I've been searching for the right words to tha...\n",
      "14     ham                I HAVE A DATE ON SUNDAY WITH WILL!!\n",
      "15    spam  XXXMobileMovieClub: To use your credit, click ...\n",
      "16     ham                         Oh k...i'm watching here:)\n",
      "17     ham  Eh u remember how 2 spell his name... Yes i di...\n",
      "18     ham  Fine if thatåÕs the way u feel. ThatåÕs the wa...\n",
      "19    spam  England v Macedonia - dont miss the goals/team...\n",
      "20     ham          Is that seriously how you spell his name?\n",
      "21     ham  IÛ÷m going to try for 2 months ha ha only joking\n",
      "22     ham  So Ì_ pay first lar... Then when is da stock c...\n",
      "23     ham  Aft i finish my lunch then i go str down lor. ...\n",
      "24     ham  Ffffffffff. Alright no way I can meet up with ...\n",
      "25     ham  Just forced myself to eat a slice. I'm really ...\n",
      "26     ham                     Lol your always so convincing.\n",
      "27     ham  Did you catch the bus ? Are you frying an egg ...\n",
      "28     ham  I'm back &amp; we're packing the car now, I'll...\n",
      "29     ham  Ahhh. Work. I vaguely remember that! What does...\n",
      "...    ...                                                ...\n",
      "5542   ham           Armand says get your ass over to epsilon\n",
      "5543   ham             U still havent got urself a jacket ah?\n",
      "5544   ham  I'm taking derek &amp; taylor to walmart, if I...\n",
      "5545   ham      Hi its in durban are you still on this number\n",
      "5546   ham         Ic. There are a lotta childporn cars then.\n",
      "5547  spam  Had your contract mobile 11 Mnths? Latest Moto...\n",
      "5548   ham                 No, I was trying it all weekend ;V\n",
      "5549   ham  You know, wot people wear. T shirts, jumpers, ...\n",
      "5550   ham        Cool, what time you think you can get here?\n",
      "5551   ham  Wen did you get so spiritual and deep. That's ...\n",
      "5552   ham  Have a safe trip to Nigeria. Wish you happines...\n",
      "5553   ham                        Hahaha..use your brain dear\n",
      "5554   ham  Well keep in mind I've only got enough gas for...\n",
      "5555   ham  Yeh. Indians was nice. Tho it did kane me off ...\n",
      "5556   ham  Yes i have. So that's why u texted. Pshew...mi...\n",
      "5557   ham  No. I meant the calculation is the same. That ...\n",
      "5558   ham                             Sorry, I'll call later\n",
      "5559   ham  if you aren't here in the next  &lt;#&gt;  hou...\n",
      "5560   ham                  Anything lor. Juz both of us lor.\n",
      "5561   ham  Get me out of this dump heap. My mom decided t...\n",
      "5562   ham  Ok lor... Sony ericsson salesman... I ask shuh...\n",
      "5563   ham                                Ard 6 like dat lor.\n",
      "5564   ham  Why don't you wait 'til at least wednesday to ...\n",
      "5565   ham                                       Huh y lei...\n",
      "5566  spam  REMINDER FROM O2: To get 2.50 pounds free call...\n",
      "5567  spam  This is the 2nd time we have tried 2 contact u...\n",
      "5568   ham              Will Ì_ b going to esplanade fr home?\n",
      "5569   ham  Pity, * was in mood for that. So...any other s...\n",
      "5570   ham  The guy did some bitching but I acted like i'd...\n",
      "5571   ham                         Rofl. Its true to its name\n",
      "\n",
      "[5572 rows x 2 columns]\n"
     ]
    }
   ],
   "source": [
    "#Rename columns\n",
    "SMS = SMS.rename(columns = {\"v1\":\"Label\", \"v2\":\"Data\"})\n",
    "print(SMS)"
   ]
  },
  {
   "cell_type": "code",
   "execution_count": 55,
   "metadata": {},
   "outputs": [
    {
     "data": {
      "text/plain": [
       "ham     4825\n",
       "spam     747\n",
       "Name: Label, dtype: int64"
      ]
     },
     "execution_count": 55,
     "metadata": {},
     "output_type": "execute_result"
    }
   ],
   "source": [
    "#Exploration of label value\n",
    "pd.value_counts(SMS[\"Label\"])"
   ]
  },
  {
   "cell_type": "code",
   "execution_count": 56,
   "metadata": {},
   "outputs": [
    {
     "name": "stdout",
     "output_type": "stream",
     "text": [
      "Label    object\n",
      "Data     object\n",
      "dtype: object\n"
     ]
    }
   ],
   "source": [
    "print(SMS.dtypes)"
   ]
  },
  {
   "cell_type": "code",
   "execution_count": 57,
   "metadata": {},
   "outputs": [
    {
     "data": {
      "text/plain": [
       "array([u'ham', u'spam'], dtype=object)"
      ]
     },
     "execution_count": 57,
     "metadata": {},
     "output_type": "execute_result"
    }
   ],
   "source": [
    "SMS['Label'].unique()"
   ]
  },
  {
   "cell_type": "code",
   "execution_count": 58,
   "metadata": {},
   "outputs": [
    {
     "data": {
      "text/html": [
       "<div>\n",
       "<style>\n",
       "    .dataframe thead tr:only-child th {\n",
       "        text-align: right;\n",
       "    }\n",
       "\n",
       "    .dataframe thead th {\n",
       "        text-align: left;\n",
       "    }\n",
       "\n",
       "    .dataframe tbody tr th {\n",
       "        vertical-align: top;\n",
       "    }\n",
       "</style>\n",
       "<table border=\"1\" class=\"dataframe\">\n",
       "  <thead>\n",
       "    <tr style=\"text-align: right;\">\n",
       "      <th></th>\n",
       "      <th>Label</th>\n",
       "      <th>Data</th>\n",
       "    </tr>\n",
       "  </thead>\n",
       "  <tbody>\n",
       "    <tr>\n",
       "      <th>column type</th>\n",
       "      <td>object</td>\n",
       "      <td>object</td>\n",
       "    </tr>\n",
       "    <tr>\n",
       "      <th>null values (nb)</th>\n",
       "      <td>0</td>\n",
       "      <td>0</td>\n",
       "    </tr>\n",
       "    <tr>\n",
       "      <th>null values (%)</th>\n",
       "      <td>0</td>\n",
       "      <td>0</td>\n",
       "    </tr>\n",
       "  </tbody>\n",
       "</table>\n",
       "</div>"
      ],
      "text/plain": [
       "                   Label    Data\n",
       "column type       object  object\n",
       "null values (nb)       0       0\n",
       "null values (%)        0       0"
      ]
     },
     "metadata": {},
     "output_type": "display_data"
    },
    {
     "name": "stdout",
     "output_type": "stream",
     "text": [
      "                   Label    Data\n",
      "column type       object  object\n",
      "null values (nb)       0       0\n",
      "null values (%)        0       0\n"
     ]
    }
   ],
   "source": [
    "#Check missing value/null\n",
    "tab_info=pd.DataFrame(SMS.dtypes).T.rename(index={0:'column type'})\n",
    "tab_info=tab_info.append(pd.DataFrame(SMS.isnull().sum()).T.rename(index={0:'null values (nb)'}))\n",
    "tab_info=tab_info.append(pd.DataFrame(SMS.isnull().sum()/SMS.shape[0]*100).T.rename(index={0:'null values (%)'}))\n",
    "display(tab_info)\n",
    "print(tab_info)"
   ]
  },
  {
   "cell_type": "code",
   "execution_count": 59,
   "metadata": {},
   "outputs": [
    {
     "data": {
      "image/png": "[encoded data removed]",
      "text/plain": [
       "<matplotlib.figure.Figure at 0x11433f60>"
      ]
     },
     "metadata": {},
     "output_type": "display_data"
    }
   ],
   "source": [
    "#Visualize data with bar chart\n",
    "objects = ('ham', 'spam')\n",
    "y_pos = np.arange(len(objects))\n",
    "performance = [4825,747]\n",
    "plt.bar(y_pos, performance, align='center', alpha=0.5, color=['b','g'])\n",
    "plt.xticks(y_pos, objects)\n",
    "plt.ylabel('Count')\n",
    "plt.xlabel('ham or spam')\n",
    "plt.title('Count of ham and spam')\n",
    "plt.show()"
   ]
  },
  {
   "cell_type": "code",
   "execution_count": 60,
   "metadata": {},
   "outputs": [
    {
     "data": {
      "image/png": "[encoded data removed]",
      "text/plain": [
       "<matplotlib.figure.Figure at 0x1132f3c8>"
      ]
     },
     "metadata": {},
     "output_type": "display_data"
    }
   ],
   "source": [
    "# Data to plot\n",
    "labels = 'ham', 'spam'\n",
    "sizes = [4825, 747]\n",
    "colors = ['lightcoral', 'turquoise']\n",
    "explode = (0.1, 0)  # explode 1st slice\n",
    "\n",
    "# Visualize data with pie chart\n",
    "plt.pie(sizes, explode=explode, labels=labels, colors=colors,\n",
    "autopct='%1.1f%%', shadow=True, startangle=140)\n",
    "plt.axis('equal')\n",
    "plt.legend(labels,loc=3)\n",
    "plt.show()"
   ]
  },
  {
   "cell_type": "code",
   "execution_count": 61,
   "metadata": {},
   "outputs": [
    {
     "data": {
      "text/html": [
       "<div>\n",
       "<style>\n",
       "    .dataframe thead tr:only-child th {\n",
       "        text-align: right;\n",
       "    }\n",
       "\n",
       "    .dataframe thead th {\n",
       "        text-align: left;\n",
       "    }\n",
       "\n",
       "    .dataframe tbody tr th {\n",
       "        vertical-align: top;\n",
       "    }\n",
       "</style>\n",
       "<table border=\"1\" class=\"dataframe\">\n",
       "  <thead>\n",
       "    <tr>\n",
       "      <th></th>\n",
       "      <th colspan=\"4\" halign=\"left\">Data</th>\n",
       "    </tr>\n",
       "    <tr>\n",
       "      <th></th>\n",
       "      <th>count</th>\n",
       "      <th>unique</th>\n",
       "      <th>top</th>\n",
       "      <th>freq</th>\n",
       "    </tr>\n",
       "    <tr>\n",
       "      <th>Label</th>\n",
       "      <th></th>\n",
       "      <th></th>\n",
       "      <th></th>\n",
       "      <th></th>\n",
       "    </tr>\n",
       "  </thead>\n",
       "  <tbody>\n",
       "    <tr>\n",
       "      <th>ham</th>\n",
       "      <td>4825</td>\n",
       "      <td>4516</td>\n",
       "      <td>Sorry, I'll call later</td>\n",
       "      <td>30</td>\n",
       "    </tr>\n",
       "    <tr>\n",
       "      <th>spam</th>\n",
       "      <td>747</td>\n",
       "      <td>653</td>\n",
       "      <td>Please call our customer service representativ...</td>\n",
       "      <td>4</td>\n",
       "    </tr>\n",
       "  </tbody>\n",
       "</table>\n",
       "</div>"
      ],
      "text/plain": [
       "       Data                                                               \n",
       "      count unique                                                top freq\n",
       "Label                                                                     \n",
       "ham    4825   4516                             Sorry, I'll call later   30\n",
       "spam    747    653  Please call our customer service representativ...    4"
      ]
     },
     "execution_count": 61,
     "metadata": {},
     "output_type": "execute_result"
    }
   ],
   "source": [
    "SMS.groupby('Label').describe()"
   ]
  },
  {
   "cell_type": "code",
   "execution_count": 62,
   "metadata": {
    "collapsed": true
   },
   "outputs": [],
   "source": [
    "#Add a column: the length of the message\n",
    "SMS['Length'] = SMS['Data'].apply(len)"
   ]
  },
  {
   "cell_type": "code",
   "execution_count": 63,
   "metadata": {},
   "outputs": [
    {
     "data": {
      "text/html": [
       "<div>\n",
       "<style>\n",
       "    .dataframe thead tr:only-child th {\n",
       "        text-align: right;\n",
       "    }\n",
       "\n",
       "    .dataframe thead th {\n",
       "        text-align: left;\n",
       "    }\n",
       "\n",
       "    .dataframe tbody tr th {\n",
       "        vertical-align: top;\n",
       "    }\n",
       "</style>\n",
       "<table border=\"1\" class=\"dataframe\">\n",
       "  <thead>\n",
       "    <tr style=\"text-align: right;\">\n",
       "      <th></th>\n",
       "      <th>Label</th>\n",
       "      <th>Data</th>\n",
       "      <th>Length</th>\n",
       "    </tr>\n",
       "  </thead>\n",
       "  <tbody>\n",
       "    <tr>\n",
       "      <th>5567</th>\n",
       "      <td>spam</td>\n",
       "      <td>This is the 2nd time we have tried 2 contact u...</td>\n",
       "      <td>161</td>\n",
       "    </tr>\n",
       "    <tr>\n",
       "      <th>5568</th>\n",
       "      <td>ham</td>\n",
       "      <td>Will Ì_ b going to esplanade fr home?</td>\n",
       "      <td>37</td>\n",
       "    </tr>\n",
       "    <tr>\n",
       "      <th>5569</th>\n",
       "      <td>ham</td>\n",
       "      <td>Pity, * was in mood for that. So...any other s...</td>\n",
       "      <td>57</td>\n",
       "    </tr>\n",
       "    <tr>\n",
       "      <th>5570</th>\n",
       "      <td>ham</td>\n",
       "      <td>The guy did some bitching but I acted like i'd...</td>\n",
       "      <td>125</td>\n",
       "    </tr>\n",
       "    <tr>\n",
       "      <th>5571</th>\n",
       "      <td>ham</td>\n",
       "      <td>Rofl. Its true to its name</td>\n",
       "      <td>26</td>\n",
       "    </tr>\n",
       "  </tbody>\n",
       "</table>\n",
       "</div>"
      ],
      "text/plain": [
       "     Label                                               Data  Length\n",
       "5567  spam  This is the 2nd time we have tried 2 contact u...     161\n",
       "5568   ham              Will Ì_ b going to esplanade fr home?      37\n",
       "5569   ham  Pity, * was in mood for that. So...any other s...      57\n",
       "5570   ham  The guy did some bitching but I acted like i'd...     125\n",
       "5571   ham                         Rofl. Its true to its name      26"
      ]
     },
     "execution_count": 63,
     "metadata": {},
     "output_type": "execute_result"
    }
   ],
   "source": [
    "SMS.tail(5)"
   ]
  },
  {
   "cell_type": "code",
   "execution_count": 65,
   "metadata": {},
   "outputs": [
    {
     "data": {
      "text/plain": [
       "array([<matplotlib.axes._subplots.AxesSubplot object at 0x00000000118E7588>,\n",
       "       <matplotlib.axes._subplots.AxesSubplot object at 0x0000000011B29C18>], dtype=object)"
      ]
     },
     "execution_count": 65,
     "metadata": {},
     "output_type": "execute_result"
    },
    {
     "data": {
      "image/png": "[encoded data removed]",
      "text/plain": [
       "<matplotlib.figure.Figure at 0x118e7c18>"
      ]
     },
     "metadata": {},
     "output_type": "display_data"
    }
   ],
   "source": [
    "#Visualize the message lengths\n",
    "SMS.hist(column='Length',by='Label',bins=50, figsize=(15,6))"
   ]
  },
  {
   "cell_type": "code",
   "execution_count": 66,
   "metadata": {
    "collapsed": true
   },
   "outputs": [],
   "source": [
    "#Label ham and spam messages with 0 and 1\n",
    "SMS['Status'] = SMS.Label.map({'ham':0, 'spam':1})"
   ]
  },
  {
   "cell_type": "code",
   "execution_count": 67,
   "metadata": {},
   "outputs": [
    {
     "data": {
      "text/html": [
       "<div>\n",
       "<style>\n",
       "    .dataframe thead tr:only-child th {\n",
       "        text-align: right;\n",
       "    }\n",
       "\n",
       "    .dataframe thead th {\n",
       "        text-align: left;\n",
       "    }\n",
       "\n",
       "    .dataframe tbody tr th {\n",
       "        vertical-align: top;\n",
       "    }\n",
       "</style>\n",
       "<table border=\"1\" class=\"dataframe\">\n",
       "  <thead>\n",
       "    <tr style=\"text-align: right;\">\n",
       "      <th></th>\n",
       "      <th>Label</th>\n",
       "      <th>Data</th>\n",
       "      <th>Length</th>\n",
       "      <th>Status</th>\n",
       "    </tr>\n",
       "  </thead>\n",
       "  <tbody>\n",
       "    <tr>\n",
       "      <th>0</th>\n",
       "      <td>ham</td>\n",
       "      <td>Go until jurong point, crazy.. Available only ...</td>\n",
       "      <td>111</td>\n",
       "      <td>0</td>\n",
       "    </tr>\n",
       "    <tr>\n",
       "      <th>1</th>\n",
       "      <td>ham</td>\n",
       "      <td>Ok lar... Joking wif u oni...</td>\n",
       "      <td>29</td>\n",
       "      <td>0</td>\n",
       "    </tr>\n",
       "    <tr>\n",
       "      <th>2</th>\n",
       "      <td>spam</td>\n",
       "      <td>Free entry in 2 a wkly comp to win FA Cup fina...</td>\n",
       "      <td>155</td>\n",
       "      <td>1</td>\n",
       "    </tr>\n",
       "    <tr>\n",
       "      <th>3</th>\n",
       "      <td>ham</td>\n",
       "      <td>U dun say so early hor... U c already then say...</td>\n",
       "      <td>49</td>\n",
       "      <td>0</td>\n",
       "    </tr>\n",
       "    <tr>\n",
       "      <th>4</th>\n",
       "      <td>ham</td>\n",
       "      <td>Nah I don't think he goes to usf, he lives aro...</td>\n",
       "      <td>61</td>\n",
       "      <td>0</td>\n",
       "    </tr>\n",
       "  </tbody>\n",
       "</table>\n",
       "</div>"
      ],
      "text/plain": [
       "  Label                                               Data  Length  Status\n",
       "0   ham  Go until jurong point, crazy.. Available only ...     111       0\n",
       "1   ham                      Ok lar... Joking wif u oni...      29       0\n",
       "2  spam  Free entry in 2 a wkly comp to win FA Cup fina...     155       1\n",
       "3   ham  U dun say so early hor... U c already then say...      49       0\n",
       "4   ham  Nah I don't think he goes to usf, he lives aro...      61       0"
      ]
     },
     "execution_count": 67,
     "metadata": {},
     "output_type": "execute_result"
    }
   ],
   "source": [
    "SMS.head(5)"
   ]
  },
  {
   "cell_type": "code",
   "execution_count": 70,
   "metadata": {},
   "outputs": [],
   "source": [
    "#Show frequent words in ham and spam messages\n",
    "from collections import Counter\n",
    "\n",
    "CountH = Counter(\" \".join(SMS[SMS['Label']=='ham'][\"Data\"]).split()).most_common(30)\n",
    "df1 = pd.DataFrame.from_dict(CountH)\n",
    "df1 = df1.rename(columns={0: \"words in non-spam\", 1 : \"count\"})\n",
    "\n",
    "CountS = Counter(\" \".join(SMS[SMS['Label']=='spam'][\"Data\"]).split()).most_common(30)\n",
    "df2 = pd.DataFrame.from_dict(CountS)\n",
    "df2 = df2.rename(columns={0: \"words in spam\", 1 : \"count_\"})"
   ]
  },
  {
   "cell_type": "code",
   "execution_count": 73,
   "metadata": {},
   "outputs": [
    {
     "data": {
      "image/png": "[encoded data removed]",
      "text/plain": [
       "<matplotlib.figure.Figure at 0x12f2b908>"
      ]
     },
     "metadata": {},
     "output_type": "display_data"
    }
   ],
   "source": [
    "#Visualize the most frequent words in ham messages\n",
    "df1.plot.bar(legend = False, color = 'plum')\n",
    "y_pos = np.arange(len(df1[\"words in non-spam\"]))\n",
    "plt.xticks(y_pos, df1[\"words in non-spam\"])\n",
    "plt.title('Most frequent words in non-spam messages')\n",
    "plt.xlabel('Words')\n",
    "plt.ylabel('Count')\n",
    "plt.show()"
   ]
  },
  {
   "cell_type": "code",
   "execution_count": 77,
   "metadata": {},
   "outputs": [
    {
     "data": {
      "image/png": "[encoded data removed]",
      "text/plain": [
       "<matplotlib.figure.Figure at 0x13ab6518>"
      ]
     },
     "metadata": {},
     "output_type": "display_data"
    }
   ],
   "source": [
    "#Visualize most frequent words in spam messages\n",
    "df2.plot.bar(legend = False, color = 'maroon')\n",
    "y_pos = np.arange(len(df2[\"words in spam\"]))\n",
    "plt.xticks(y_pos, df2[\"words in spam\"])\n",
    "plt.title('Most frequent words in spam messages')\n",
    "plt.xlabel('Words')\n",
    "plt.ylabel('Count')\n",
    "plt.show()"
   ]
  },
  {
   "cell_type": "code",
   "execution_count": 78,
   "metadata": {
    "collapsed": true
   },
   "outputs": [],
   "source": [
    "#Import tools\n",
    "from sklearn import feature_extraction, model_selection, metrics\n",
    "from sklearn.model_selection import train_test_split\n",
    "from sklearn.feature_extraction.text import TfidfVectorizer,CountVectorizer"
   ]
  },
  {
   "cell_type": "code",
   "execution_count": 79,
   "metadata": {
    "collapsed": true
   },
   "outputs": [],
   "source": [
    "#Import machine learning algorithms\n",
    "from sklearn.naive_bayes import MultinomialNB\n",
    "from sklearn.neighbors import KNeighborsClassifier\n",
    "from sklearn.svm import SVC\n",
    "from sklearn.tree import DecisionTreeClassifier\n",
    "from sklearn.ensemble import RandomForestClassifier\n",
    "\n",
    "#Import performance metrics\n",
    "from sklearn.metrics import accuracy_score\n",
    "from sklearn.metrics import confusion_matrix\n",
    "from sklearn.metrics import classification_report"
   ]
  },
  {
   "cell_type": "code",
   "execution_count": 80,
   "metadata": {
    "collapsed": true
   },
   "outputs": [],
   "source": [
    "#Specify the vectors\n",
    "vectors = TfidfVectorizer(stop_words = 'english')\n",
    "vectors2 = CountVectorizer(stop_words = 'english')\n",
    "\n",
    "tfidf = vectors.fit_transform(SMS['Data'])\n",
    "tf = vectors2.fit_transform(SMS['Data'])\n",
    "\n",
    "#Splitting data into training and testing dataset\n",
    "x_train, x_test, y_train, y_test = train_test_split(tfidf,SMS['Status'],test_size = 0.33, random_state = 15)\n",
    "x_train1, x_test1, y_train1, y_test1 = train_test_split(tf,SMS['Status'],test_size = 0.33, random_state = 15)\n",
    "model_ = ['NB','KN','SVC','DT','RF']\n",
    "tfidf_result = []\n",
    "tf_result = []"
   ]
  },
  {
   "cell_type": "code",
   "execution_count": 81,
   "metadata": {},
   "outputs": [
    {
     "name": "stdout",
     "output_type": "stream",
     "text": [
      "tfidf:0.970636\n",
      "tf:0.972268\n"
     ]
    }
   ],
   "source": [
    "#Classify with Naive Bayes\n",
    "model1 = MultinomialNB()\n",
    "\n",
    "model1.fit(x_train, y_train)\n",
    "tfidf_result.append(accuracy_score(y_test, model1.predict(x_test)))\n",
    "print('tfidf:%f'% accuracy_score(y_test, model1.predict(x_test)))\n",
    "\n",
    "model1.fit(x_train1, y_train1)\n",
    "tf_result.append(accuracy_score(y_test1, model1.predict(x_test1)))\n",
    "print('tf:%f' %accuracy_score(y_test1, model1.predict(x_test1)))"
   ]
  },
  {
   "cell_type": "code",
   "execution_count": 82,
   "metadata": {},
   "outputs": [
    {
     "name": "stdout",
     "output_type": "stream",
     "text": [
      "             precision    recall  f1-score   support\n",
      "\n",
      "          0       0.99      1.00      0.99      1609\n",
      "          1       0.97      0.90      0.94       230\n",
      "\n",
      "avg / total       0.98      0.98      0.98      1839\n",
      "\n",
      "[[1603    6]\n",
      " [  22  208]]\n"
     ]
    }
   ],
   "source": [
    "#Performance metrics for NB + TFIDF\n",
    "print(classification_report(y_test, model1.predict(x_test)))\n",
    "print(confusion_matrix(y_test, model1.predict(x_test)))"
   ]
  },
  {
   "cell_type": "code",
   "execution_count": 83,
   "metadata": {},
   "outputs": [
    {
     "name": "stdout",
     "output_type": "stream",
     "text": [
      "             precision    recall  f1-score   support\n",
      "\n",
      "          0       0.99      0.98      0.98      1609\n",
      "          1       0.86      0.93      0.89       230\n",
      "\n",
      "avg / total       0.97      0.97      0.97      1839\n",
      "\n",
      "[[1573   36]\n",
      " [  15  215]]\n"
     ]
    }
   ],
   "source": [
    "#Performance metrics for NB + TF\n",
    "print(classification_report(y_test1, model1.predict(x_test1)))\n",
    "print(confusion_matrix(y_test1, model1.predict(x_test1)))"
   ]
  },
  {
   "cell_type": "code",
   "execution_count": 84,
   "metadata": {},
   "outputs": [
    {
     "name": "stdout",
     "output_type": "stream",
     "text": [
      "tfidf:0.911909\n",
      "tf:0.918978\n"
     ]
    }
   ],
   "source": [
    " #Classify with K-Nearest Neighbor\n",
    "model2 = KNeighborsClassifier()\n",
    "\n",
    "model2.fit(x_train,y_train)\n",
    "tfidf_result.append(accuracy_score(y_test, model2.predict(x_test)))\n",
    "print('tfidf:%f'% accuracy_score(y_test, model2.predict(x_test)))\n",
    "\n",
    "model2.fit(x_train1, y_train1)\n",
    "tf_result.append(accuracy_score(y_test1, model2.predict(x_test1)))\n",
    "print('tf:%f' %accuracy_score(y_test1, model2.predict(x_test1)))"
   ]
  },
  {
   "cell_type": "code",
   "execution_count": 85,
   "metadata": {},
   "outputs": [
    {
     "name": "stderr",
     "output_type": "stream",
     "text": [
      "C:\\Users\\NurAsiah\\AppData\\Local\\Enthought\\Canopy\\edm\\envs\\User\\lib\\site-packages\\sklearn\\metrics\\classification.py:1135: UndefinedMetricWarning: Precision and F-score are ill-defined and being set to 0.0 in labels with no predicted samples.\n",
      "  'precision', 'predicted', average, warn_for)\n"
     ]
    },
    {
     "name": "stdout",
     "output_type": "stream",
     "text": [
      "             precision    recall  f1-score   support\n",
      "\n",
      "          0       0.87      1.00      0.93      1609\n",
      "          1       0.00      0.00      0.00       230\n",
      "\n",
      "avg / total       0.77      0.87      0.82      1839\n",
      "\n",
      "[[1609    0]\n",
      " [ 230    0]]\n"
     ]
    }
   ],
   "source": [
    "#Performance metrics for KNN + TFIDF\n",
    "print(classification_report(y_test, model2.predict(x_test)))\n",
    "print(confusion_matrix(y_test, model2.predict(x_test)))"
   ]
  },
  {
   "cell_type": "code",
   "execution_count": 86,
   "metadata": {},
   "outputs": [
    {
     "name": "stdout",
     "output_type": "stream",
     "text": [
      "             precision    recall  f1-score   support\n",
      "\n",
      "          0       0.92      1.00      0.96      1609\n",
      "          1       1.00      0.35      0.52       230\n",
      "\n",
      "avg / total       0.93      0.92      0.90      1839\n",
      "\n",
      "[[1609    0]\n",
      " [ 149   81]]\n"
     ]
    }
   ],
   "source": [
    "#Performance metrics for KNN + TF\n",
    "print(classification_report(y_test1, model2.predict(x_test1)))\n",
    "print(confusion_matrix(y_test1, model2.predict(x_test1)))"
   ]
  },
  {
   "cell_type": "code",
   "execution_count": 87,
   "metadata": {},
   "outputs": [
    {
     "name": "stdout",
     "output_type": "stream",
     "text": [
      "tfidf:0.874932\n",
      "tf:0.874932\n"
     ]
    }
   ],
   "source": [
    "#Classify with Support Vector Machine\n",
    "model3 = SVC()\n",
    "\n",
    "model3.fit(x_train,y_train)\n",
    "tfidf_result.append(accuracy_score(y_test, model3.predict(x_test)))\n",
    "print('tfidf:%f'% accuracy_score(y_test, model3.predict(x_test)))\n",
    "\n",
    "model3.fit(x_train1, y_train1)\n",
    "tf_result.append(accuracy_score(y_test1, model3.predict(x_test1)))\n",
    "print('tf:%f' %accuracy_score(y_test1, model3.predict(x_test1)))"
   ]
  },
  {
   "cell_type": "code",
   "execution_count": 88,
   "metadata": {},
   "outputs": [
    {
     "name": "stdout",
     "output_type": "stream",
     "text": [
      "             precision    recall  f1-score   support\n",
      "\n",
      "          0       0.87      1.00      0.93      1609\n",
      "          1       0.00      0.00      0.00       230\n",
      "\n",
      "avg / total       0.77      0.87      0.82      1839\n",
      "\n",
      "[[1609    0]\n",
      " [ 230    0]]\n"
     ]
    }
   ],
   "source": [
    "#Performance metrics for SVM + TFIDF\n",
    "print(classification_report(y_test, model3.predict(x_test)))\n",
    "print(confusion_matrix(y_test, model3.predict(x_test)))"
   ]
  },
  {
   "cell_type": "code",
   "execution_count": 89,
   "metadata": {},
   "outputs": [
    {
     "name": "stdout",
     "output_type": "stream",
     "text": [
      "             precision    recall  f1-score   support\n",
      "\n",
      "          0       0.87      1.00      0.93      1609\n",
      "          1       0.00      0.00      0.00       230\n",
      "\n",
      "avg / total       0.77      0.87      0.82      1839\n",
      "\n",
      "[[1609    0]\n",
      " [ 230    0]]\n"
     ]
    }
   ],
   "source": [
    "#Performance metrics for SVM + TF\n",
    "print(classification_report(y_test1, model3.predict(x_test1)))\n",
    "print(confusion_matrix(y_test1, model3.predict(x_test1)))"
   ]
  },
  {
   "cell_type": "code",
   "execution_count": 90,
   "metadata": {},
   "outputs": [
    {
     "name": "stdout",
     "output_type": "stream",
     "text": [
      "tfidf:0.966830\n",
      "tf:0.960848\n"
     ]
    }
   ],
   "source": [
    "#Classify wwith Decision Tree\n",
    "model4 = DecisionTreeClassifier()\n",
    "\n",
    "model4.fit(x_train, y_train)\n",
    "tfidf_result.append(accuracy_score(y_test, model4.predict(x_test)))\n",
    "print('tfidf:%f'% accuracy_score(y_test, model4.predict(x_test)))\n",
    "\n",
    "model4.fit(x_train1, y_train1)\n",
    "tf_result.append(accuracy_score(y_test1, model4.predict(x_test1)))\n",
    "print('tf:%f' %accuracy_score(y_test1, model4.predict(x_test1)))"
   ]
  },
  {
   "cell_type": "code",
   "execution_count": 91,
   "metadata": {},
   "outputs": [
    {
     "name": "stdout",
     "output_type": "stream",
     "text": [
      "             precision    recall  f1-score   support\n",
      "\n",
      "          0       0.88      1.00      0.93      1609\n",
      "          1       0.29      0.01      0.02       230\n",
      "\n",
      "avg / total       0.80      0.87      0.82      1839\n",
      "\n",
      "[[1604    5]\n",
      " [ 228    2]]\n"
     ]
    }
   ],
   "source": [
    "#Performance metrics for DT + TFIDF\n",
    "print(classification_report(y_test, model4.predict(x_test)))\n",
    "print(confusion_matrix(y_test, model4.predict(x_test)))"
   ]
  },
  {
   "cell_type": "code",
   "execution_count": 92,
   "metadata": {},
   "outputs": [
    {
     "name": "stdout",
     "output_type": "stream",
     "text": [
      "             precision    recall  f1-score   support\n",
      "\n",
      "          0       0.98      0.98      0.98      1609\n",
      "          1       0.85      0.83      0.84       230\n",
      "\n",
      "avg / total       0.96      0.96      0.96      1839\n",
      "\n",
      "[[1576   33]\n",
      " [  39  191]]\n"
     ]
    }
   ],
   "source": [
    "#Performance metrics for DT + TF\n",
    "print(classification_report(y_test1, model4.predict(x_test1)))\n",
    "print(confusion_matrix(y_test1, model4.predict(x_test1)))"
   ]
  },
  {
   "cell_type": "code",
   "execution_count": 93,
   "metadata": {},
   "outputs": [
    {
     "name": "stdout",
     "output_type": "stream",
     "text": [
      "tfidf:0.974986\n",
      "tf:0.978249\n"
     ]
    }
   ],
   "source": [
    "#Classify with Random Forest\n",
    "model5 = RandomForestClassifier()\n",
    "\n",
    "model5.fit(x_train,y_train)\n",
    "tfidf_result.append(accuracy_score(y_test, model5.predict(x_test)))\n",
    "print('tfidf:%f'% accuracy_score(y_test, model5.predict(x_test)))\n",
    "\n",
    "model5.fit(x_train1, y_train1)\n",
    "tf_result.append(accuracy_score(y_test1, model5.predict(x_test1)))\n",
    "print('tf:%f' %accuracy_score(y_test1, model5.predict(x_test1)))"
   ]
  },
  {
   "cell_type": "code",
   "execution_count": 94,
   "metadata": {},
   "outputs": [
    {
     "name": "stdout",
     "output_type": "stream",
     "text": [
      "             precision    recall  f1-score   support\n",
      "\n",
      "          0       0.88      1.00      0.93      1609\n",
      "          1       1.00      0.01      0.02       230\n",
      "\n",
      "avg / total       0.89      0.88      0.82      1839\n",
      "\n",
      "[[1609    0]\n",
      " [ 228    2]]\n"
     ]
    }
   ],
   "source": [
    "#Performance metrics for RF + TFIDF\n",
    "print(classification_report(y_test, model5.predict(x_test)))\n",
    "print(confusion_matrix(y_test, model5.predict(x_test)))"
   ]
  },
  {
   "cell_type": "code",
   "execution_count": 95,
   "metadata": {},
   "outputs": [
    {
     "name": "stdout",
     "output_type": "stream",
     "text": [
      "             precision    recall  f1-score   support\n",
      "\n",
      "          0       0.98      1.00      0.99      1609\n",
      "          1       0.98      0.84      0.91       230\n",
      "\n",
      "avg / total       0.98      0.98      0.98      1839\n",
      "\n",
      "[[1606    3]\n",
      " [  37  193]]\n"
     ]
    }
   ],
   "source": [
    "#Performance metrics for RF + TF\n",
    "print(classification_report(y_test1, model5.predict(x_test1)))\n",
    "print(confusion_matrix(y_test1, model5.predict(x_test1)))"
   ]
  },
  {
   "cell_type": "code",
   "execution_count": 105,
   "metadata": {},
   "outputs": [
    {
     "data": {
      "image/png": "[encoded data removed]",
      "text/plain": [
       "<matplotlib.figure.Figure at 0x13a9a710>"
      ]
     },
     "metadata": {},
     "output_type": "display_data"
    }
   ],
   "source": [
    "#Visualize the accuracy performance\n",
    "fig, ax = plt.subplots()\n",
    "fig.set_size_inches(14, 8)\n",
    "width = 0.2\n",
    "ind = np.arange(5)\n",
    "ax.bar(ind,tfidf_result,width, label = 'tfidf', color = 'crimson')\n",
    "ax.bar(ind + width, tf_result, width, label = 'tf', color = 'seagreen')\n",
    "ax.set_xticklabels(('NB','NB','KN','SVC','TR','RF'))\n",
    "ax.set_xlabel('Algorithms')\n",
    "ax.set_ylabel('Accuracy')\n",
    "ax.legend()\n",
    "plt.show()"
   ]
  },
  {
   "cell_type": "code",
   "execution_count": 106,
   "metadata": {
    "collapsed": true
   },
   "outputs": [],
   "source": [
    "#Conclusion: Random Forest classifier performs the best (in terms of accuracy percentage) within the range of 97.4% to 97.9%"
   ]
  },
  {
   "cell_type": "markdown",
   "metadata": {
    "collapsed": true
   },
   "source": [
    "##### End of Scripts"
   ]
  }
 ],
 "metadata": {
  "kernelspec": {
   "display_name": "Python 3",
   "language": "python",
   "name": "python3"
  },
  "language_info": {
   "codemirror_mode": {
    "name": "ipython",
    "version": 3
   },
   "file_extension": ".py",
   "mimetype": "text/x-python",
   "name": "python",
   "nbconvert_exporter": "python",
   "pygments_lexer": "ipython3",
   "version": "3.6.0"
  }
 },
 "nbformat": 4,
 "nbformat_minor": 2
}
