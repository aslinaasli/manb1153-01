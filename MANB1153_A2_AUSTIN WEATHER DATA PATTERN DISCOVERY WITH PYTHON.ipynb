{
 "cells": [
  {
   "cell_type": "markdown",
   "metadata": {},
   "source": [
    "# MASTER OF SCIENCE IN BUSINESS INTELLIGENCE AND ANALYTICS\n",
    "\n",
    "### MANB1153 (DATA MINING) SEMESTER 2 SESSION 2017/ 2018\n",
    "\n",
    "\n",
    "### LECTURER: DR. SITI SOPHIAYATI BINTI YUHANIZ "
   ]
  },
  {
   "cell_type": "markdown",
   "metadata": {},
   "source": [
    "##### ASSIGNMENT 2: AUSTIN WEATHER DATA PATTERN DISCOVERY WITH PYTHON\n",
    "##### Student: ASLINA MAT ASLI (MAN171027)"
   ]
  },
  {
   "cell_type": "markdown",
   "metadata": {},
   "source": [
    "##### STEP 1: IMPORT LIBRARIES"
   ]
  },
  {
   "cell_type": "code",
   "execution_count": 82,
   "metadata": {},
   "outputs": [],
   "source": [
    "#import libraries\n",
    "import pandas as pd\n",
    "import numpy as np\n",
    "from matplotlib import style\n",
    "%matplotlib inline\n",
    "import matplotlib.pyplot as plt # graphics package\n",
    "import seaborn as sns\n",
    "from IPython.display import display, HTML"
   ]
  },
  {
   "cell_type": "markdown",
   "metadata": {},
   "source": [
    "##### STEP 2: READING AND CLEANING THE DATA"
   ]
  },
  {
   "cell_type": "code",
   "execution_count": 83,
   "metadata": {},
   "outputs": [
    {
     "name": "stdout",
     "output_type": "stream",
     "text": [
      "   13904  20110101  0053  12  OVC045     10.00  .1  .2  .3 ...   .18  .19  \\\n",
      "0  13904  20110101   153  12  OVC049     10.00             ...              \n",
      "1  13904  20110101   253  12  OVC060     10.00             ...   030        \n",
      "2  13904  20110101   353  12  OVC065     10.00             ...              \n",
      "3  13904  20110101   453  12  BKN070     10.00             ...              \n",
      "4  13904  20110101   553  12  BKN065     10.00             ...   015        \n",
      "\n",
      "   29.95  .20  AA  .21  .22  .23 29.95.1  .24  \n",
      "0  30.01       AA                  30.02       \n",
      "1  30.01       AA                  30.02       \n",
      "2  30.03       AA                  30.04       \n",
      "3  30.04       AA                  30.04       \n",
      "4  30.06       AA                  30.06       \n",
      "\n",
      "[5 rows x 44 columns]\n",
      "      0         1    2   3       4  5      6  7  8  9  ...   34 35     36 37  \\\n",
      "0  13904  20110101   53  12  OVC045     10.00          ...          29.95      \n",
      "1  13904  20110101  153  12  OVC049     10.00          ...          30.01      \n",
      "2  13904  20110101  253  12  OVC060     10.00          ...  030     30.01      \n",
      "3  13904  20110101  353  12  OVC065     10.00          ...          30.03      \n",
      "4  13904  20110101  453  12  BKN070     10.00          ...          30.04      \n",
      "\n",
      "   38 39 40 41     42 43  \n",
      "0  AA           29.95     \n",
      "1  AA           30.02     \n",
      "2  AA           30.02     \n",
      "3  AA           30.04     \n",
      "4  AA           30.04     \n",
      "\n",
      "[5 rows x 44 columns]\n"
     ]
    }
   ],
   "source": [
    "# Read in the data file: df\n",
    "df = pd.read_csv('data.txt')\n",
    "\n",
    "# Print the output of df.head()\n",
    "print(df.head())\n",
    "\n",
    "# Read in the data file with header=None: df_headers\n",
    "df_headers = pd.read_csv('data.txt', header=None)\n",
    "\n",
    "# Print the output of df_headers.head()\n",
    "print(df_headers.head())"
   ]
  },
  {
   "cell_type": "markdown",
   "metadata": {},
   "source": [
    "##### STEP 3: REASSIGNING COLUMN NAME"
   ]
  },
  {
   "cell_type": "code",
   "execution_count": 84,
   "metadata": {},
   "outputs": [],
   "source": [
    "#Defining column labels\n",
    "column_labels = 'Wban,date,Time,StationType,sky_condition,sky_conditionFlag,visibility,visibilityFlag,wx_and_obst_to_vision,wx_and_obst_to_visionFlag,dry_bulb_faren,dry_bulb_farenFlag,dry_bulb_cel,dry_bulb_celFlag,wet_bulb_faren,wet_bulb_farenFlag,wet_bulb_cel,wet_bulb_celFlag,dew_point_faren,dew_point_farenFlag,dew_point_cel,dew_point_celFlag,relative_humidity,relative_humidityFlag,wind_speed,wind_speedFlag,wind_direction,wind_directionFlag,value_for_wind_character,value_for_wind_characterFlag,station_pressure,station_pressureFlag,pressure_tendency,pressure_tendencyFlag,presschange,presschangeFlag,sea_level_pressure,sea_level_pressureFlag,record_type,hourly_precip,hourly_precipFlag,altimeter,altimeterFlag,junk'\n",
    "\n",
    "#Defining list to drop\n",
    "list_to_drop = ['sky_conditionFlag',\n",
    " 'visibilityFlag',\n",
    " 'wx_and_obst_to_vision',\n",
    " 'wx_and_obst_to_visionFlag',\n",
    " 'dry_bulb_farenFlag',\n",
    " 'dry_bulb_celFlag',\n",
    " 'wet_bulb_farenFlag',\n",
    " 'wet_bulb_celFlag',\n",
    " 'dew_point_farenFlag',\n",
    " 'dew_point_celFlag',\n",
    " 'relative_humidityFlag',\n",
    " 'wind_speedFlag',\n",
    " 'wind_directionFlag',\n",
    " 'value_for_wind_character',\n",
    " 'value_for_wind_characterFlag',\n",
    " 'station_pressureFlag',\n",
    " 'pressure_tendencyFlag',\n",
    " 'pressure_tendency',\n",
    " 'presschange',\n",
    " 'presschangeFlag',\n",
    " 'sea_level_pressureFlag',\n",
    " 'hourly_precip',\n",
    " 'hourly_precipFlag',\n",
    " 'altimeter',\n",
    " 'record_type',\n",
    " 'altimeterFlag',\n",
    " 'junk']"
   ]
  },
  {
   "cell_type": "code",
   "execution_count": 85,
   "metadata": {},
   "outputs": [
    {
     "name": "stdout",
     "output_type": "stream",
     "text": [
      "    Wban      date  Time  StationType sky_condition visibility dry_bulb_faren  \\\n",
      "0  13904  20110101   153           12        OVC049      10.00             51   \n",
      "1  13904  20110101   253           12        OVC060      10.00             51   \n",
      "2  13904  20110101   353           12        OVC065      10.00             50   \n",
      "3  13904  20110101   453           12        BKN070      10.00             50   \n",
      "4  13904  20110101   553           12        BKN065      10.00             49   \n",
      "\n",
      "  dry_bulb_cel wet_bulb_faren wet_bulb_cel dew_point_faren dew_point_cel  \\\n",
      "0         10.6             37          3.0              14         -10.0   \n",
      "1         10.6             37          2.9              13         -10.6   \n",
      "2         10.0             38          3.1              17          -8.3   \n",
      "3         10.0             37          2.8              15          -9.4   \n",
      "4          9.4             37          2.8              17          -8.3   \n",
      "\n",
      "  relative_humidity wind_speed wind_direction station_pressure  \\\n",
      "0                23         10            340            29.49   \n",
      "1                22         15            010            29.49   \n",
      "2                27          7            350            29.51   \n",
      "3                25         11            020            29.51   \n",
      "4                28          6            010            29.53   \n",
      "\n",
      "  sea_level_pressure  \n",
      "0              30.01  \n",
      "1              30.01  \n",
      "2              30.03  \n",
      "3              30.04  \n",
      "4              30.06  \n"
     ]
    }
   ],
   "source": [
    "# Split on the comma to create a list: column_labels_list\n",
    "column_labels_list = column_labels.split(',')\n",
    "\n",
    "# Assign the new column labels to the DataFrame: df.columns\n",
    "df.columns = column_labels_list\n",
    "\n",
    "# Remove the appropriate columns: df_dropped\n",
    "df_dropped = df.drop((list_to_drop), axis ='columns')\n",
    "\n",
    "# Print the output of df_dropped.head()\n",
    "print(df_dropped.head())"
   ]
  },
  {
   "cell_type": "code",
   "execution_count": 86,
   "metadata": {},
   "outputs": [
    {
     "name": "stdout",
     "output_type": "stream",
     "text": [
      "<class 'pandas.core.frame.DataFrame'>\n",
      "RangeIndex: 10336 entries, 0 to 10335\n",
      "Data columns (total 17 columns):\n",
      "Wban                  10336 non-null int64\n",
      "date                  10336 non-null int64\n",
      "Time                  10336 non-null int64\n",
      "StationType           10336 non-null int64\n",
      "sky_condition         10336 non-null object\n",
      "visibility            10324 non-null object\n",
      "dry_bulb_faren        10336 non-null object\n",
      "dry_bulb_cel          10336 non-null object\n",
      "wet_bulb_faren        10336 non-null object\n",
      "wet_bulb_cel          10336 non-null object\n",
      "dew_point_faren       10336 non-null object\n",
      "dew_point_cel         10336 non-null object\n",
      "relative_humidity     10336 non-null object\n",
      "wind_speed            10336 non-null object\n",
      "wind_direction        10336 non-null object\n",
      "station_pressure      10336 non-null object\n",
      "sea_level_pressure    10336 non-null object\n",
      "dtypes: int64(4), object(13)\n",
      "memory usage: 1.3+ MB\n"
     ]
    }
   ],
   "source": [
    "df_dropped.info()"
   ]
  },
  {
   "cell_type": "code",
   "execution_count": 87,
   "metadata": {},
   "outputs": [
    {
     "data": {
      "text/html": [
       "<div>\n",
       "<style scoped>\n",
       "    .dataframe tbody tr th:only-of-type {\n",
       "        vertical-align: middle;\n",
       "    }\n",
       "\n",
       "    .dataframe tbody tr th {\n",
       "        vertical-align: top;\n",
       "    }\n",
       "\n",
       "    .dataframe thead th {\n",
       "        text-align: right;\n",
       "    }\n",
       "</style>\n",
       "<table border=\"1\" class=\"dataframe\">\n",
       "  <thead>\n",
       "    <tr style=\"text-align: right;\">\n",
       "      <th></th>\n",
       "      <th>Wban</th>\n",
       "      <th>date</th>\n",
       "      <th>Time</th>\n",
       "      <th>StationType</th>\n",
       "    </tr>\n",
       "  </thead>\n",
       "  <tbody>\n",
       "    <tr>\n",
       "      <th>count</th>\n",
       "      <td>10336.0</td>\n",
       "      <td>1.033600e+04</td>\n",
       "      <td>10336.000000</td>\n",
       "      <td>10336.0</td>\n",
       "    </tr>\n",
       "    <tr>\n",
       "      <th>mean</th>\n",
       "      <td>13904.0</td>\n",
       "      <td>2.011066e+07</td>\n",
       "      <td>1153.480650</td>\n",
       "      <td>12.0</td>\n",
       "    </tr>\n",
       "    <tr>\n",
       "      <th>std</th>\n",
       "      <td>0.0</td>\n",
       "      <td>3.503883e+02</td>\n",
       "      <td>691.626657</td>\n",
       "      <td>0.0</td>\n",
       "    </tr>\n",
       "    <tr>\n",
       "      <th>min</th>\n",
       "      <td>13904.0</td>\n",
       "      <td>2.011010e+07</td>\n",
       "      <td>0.000000</td>\n",
       "      <td>12.0</td>\n",
       "    </tr>\n",
       "    <tr>\n",
       "      <th>25%</th>\n",
       "      <td>13904.0</td>\n",
       "      <td>2.011033e+07</td>\n",
       "      <td>553.000000</td>\n",
       "      <td>12.0</td>\n",
       "    </tr>\n",
       "    <tr>\n",
       "      <th>50%</th>\n",
       "      <td>13904.0</td>\n",
       "      <td>2.011063e+07</td>\n",
       "      <td>1107.500000</td>\n",
       "      <td>12.0</td>\n",
       "    </tr>\n",
       "    <tr>\n",
       "      <th>75%</th>\n",
       "      <td>13904.0</td>\n",
       "      <td>2.011100e+07</td>\n",
       "      <td>1753.000000</td>\n",
       "      <td>12.0</td>\n",
       "    </tr>\n",
       "    <tr>\n",
       "      <th>max</th>\n",
       "      <td>13904.0</td>\n",
       "      <td>2.011123e+07</td>\n",
       "      <td>2353.000000</td>\n",
       "      <td>12.0</td>\n",
       "    </tr>\n",
       "  </tbody>\n",
       "</table>\n",
       "</div>"
      ],
      "text/plain": [
       "          Wban          date          Time  StationType\n",
       "count  10336.0  1.033600e+04  10336.000000      10336.0\n",
       "mean   13904.0  2.011066e+07   1153.480650         12.0\n",
       "std        0.0  3.503883e+02    691.626657          0.0\n",
       "min    13904.0  2.011010e+07      0.000000         12.0\n",
       "25%    13904.0  2.011033e+07    553.000000         12.0\n",
       "50%    13904.0  2.011063e+07   1107.500000         12.0\n",
       "75%    13904.0  2.011100e+07   1753.000000         12.0\n",
       "max    13904.0  2.011123e+07   2353.000000         12.0"
      ]
     },
     "execution_count": 87,
     "metadata": {},
     "output_type": "execute_result"
    }
   ],
   "source": [
    "df_dropped.describe()"
   ]
  },
  {
   "cell_type": "markdown",
   "metadata": {},
   "source": [
    "##### STEP 4: CLEANING AND TIDYING DATETIME DATA"
   ]
  },
  {
   "cell_type": "code",
   "execution_count": 88,
   "metadata": {},
   "outputs": [
    {
     "name": "stdout",
     "output_type": "stream",
     "text": [
      "                      Wban      date  Time  StationType sky_condition  \\\n",
      "2011-01-01 01:53:00  13904  20110101  0153           12        OVC049   \n",
      "2011-01-01 02:53:00  13904  20110101  0253           12        OVC060   \n",
      "2011-01-01 03:53:00  13904  20110101  0353           12        OVC065   \n",
      "2011-01-01 04:53:00  13904  20110101  0453           12        BKN070   \n",
      "2011-01-01 05:53:00  13904  20110101  0553           12        BKN065   \n",
      "\n",
      "                    visibility dry_bulb_faren dry_bulb_cel wet_bulb_faren  \\\n",
      "2011-01-01 01:53:00      10.00             51         10.6             37   \n",
      "2011-01-01 02:53:00      10.00             51         10.6             37   \n",
      "2011-01-01 03:53:00      10.00             50         10.0             38   \n",
      "2011-01-01 04:53:00      10.00             50         10.0             37   \n",
      "2011-01-01 05:53:00      10.00             49          9.4             37   \n",
      "\n",
      "                    wet_bulb_cel dew_point_faren dew_point_cel  \\\n",
      "2011-01-01 01:53:00          3.0              14         -10.0   \n",
      "2011-01-01 02:53:00          2.9              13         -10.6   \n",
      "2011-01-01 03:53:00          3.1              17          -8.3   \n",
      "2011-01-01 04:53:00          2.8              15          -9.4   \n",
      "2011-01-01 05:53:00          2.8              17          -8.3   \n",
      "\n",
      "                    relative_humidity wind_speed wind_direction  \\\n",
      "2011-01-01 01:53:00                23         10            340   \n",
      "2011-01-01 02:53:00                22         15            010   \n",
      "2011-01-01 03:53:00                27          7            350   \n",
      "2011-01-01 04:53:00                25         11            020   \n",
      "2011-01-01 05:53:00                28          6            010   \n",
      "\n",
      "                    station_pressure sea_level_pressure  \n",
      "2011-01-01 01:53:00            29.49              30.01  \n",
      "2011-01-01 02:53:00            29.49              30.01  \n",
      "2011-01-01 03:53:00            29.51              30.03  \n",
      "2011-01-01 04:53:00            29.51              30.04  \n",
      "2011-01-01 05:53:00            29.53              30.06  \n"
     ]
    }
   ],
   "source": [
    "# Convert the date column to string: df_dropped['date']\n",
    "df_dropped['date'] = df_dropped['date'].astype(str)\n",
    "\n",
    "# Pad leading zeros to the Time column: df_dropped['Time']\n",
    "df_dropped['Time'] = df_dropped['Time'].apply(lambda x:'{:0>4}'.format(x))\n",
    "\n",
    "# Concatenate the new date and Time columns: date_string\n",
    "date_string = df_dropped['date'] + df_dropped['Time']\n",
    "\n",
    "# Convert the date_string Series to datetime: date_times\n",
    "date_times = pd.to_datetime(date_string, format='%Y%m%d%H%M')\n",
    "\n",
    "# Set the index to be the new date_times container: df_clean\n",
    "df_clean = df_dropped.set_index(date_times)\n",
    "\n",
    "# Print the output of df_clean.head()\n",
    "print(df_clean.head())"
   ]
  },
  {
   "cell_type": "markdown",
   "metadata": {},
   "source": [
    "##### STEP 5: CLEANING THE NUMERIC COLUMNS"
   ]
  },
  {
   "cell_type": "code",
   "execution_count": 89,
   "metadata": {},
   "outputs": [
    {
     "name": "stdout",
     "output_type": "stream",
     "text": [
      "2011-06-20 08:27:00     M\n",
      "2011-06-20 08:28:00     M\n",
      "2011-06-20 08:29:00     M\n",
      "2011-06-20 08:30:00     M\n",
      "2011-06-20 08:31:00     M\n",
      "2011-06-20 08:32:00     M\n",
      "2011-06-20 08:33:00     M\n",
      "2011-06-20 08:34:00     M\n",
      "2011-06-20 08:35:00     M\n",
      "2011-06-20 08:53:00    83\n",
      "Name: dry_bulb_faren, dtype: object\n",
      "2011-06-20 08:27:00     NaN\n",
      "2011-06-20 08:28:00     NaN\n",
      "2011-06-20 08:29:00     NaN\n",
      "2011-06-20 08:30:00     NaN\n",
      "2011-06-20 08:31:00     NaN\n",
      "2011-06-20 08:32:00     NaN\n",
      "2011-06-20 08:33:00     NaN\n",
      "2011-06-20 08:34:00     NaN\n",
      "2011-06-20 08:35:00     NaN\n",
      "2011-06-20 08:53:00    83.0\n",
      "Name: dry_bulb_faren, dtype: float64\n"
     ]
    }
   ],
   "source": [
    "# Print the dry_bulb_faren temperature between 8 AM and 9 AM on June 20, 2011\n",
    "print(df_clean.loc['2011-6-20 8:00:00':'2011-6-20 9:00:00', 'dry_bulb_faren'])\n",
    "\n",
    "# Convert the dry_bulb_faren column to numeric values: df_clean['dry_bulb_faren']\n",
    "df_clean['dry_bulb_faren'] = pd.to_numeric(df_clean['dry_bulb_faren'], errors='coerce')\n",
    "\n",
    "# Print the transformed dry_bulb_faren temperature between 8 AM and 9 AM on June 20, 2011\n",
    "print(df_clean.loc['2011-6-20 8:00:00':'2011-6-20 9:00:00', 'dry_bulb_faren'])\n",
    "\n",
    "# Convert the wind_speed and dew_point_faren columns to numeric values\n",
    "df_clean['wind_speed'] = pd.to_numeric(df_clean['wind_speed'], errors='coerce')\n",
    "df_clean['dew_point_faren'] = pd.to_numeric(df_clean['dew_point_faren'], errors='coerce')"
   ]
  },
  {
   "cell_type": "markdown",
   "metadata": {},
   "source": [
    "##### STEP 6: STATISTICAL EXPLORATORY DATA ANALYSIS"
   ]
  },
  {
   "cell_type": "markdown",
   "metadata": {},
   "source": [
    "##### SIGNAL MIN, MAX, MEDIAN \n",
    "####  Analyzing the 2011 Austin weather data. "
   ]
  },
  {
   "cell_type": "code",
   "execution_count": 90,
   "metadata": {},
   "outputs": [
    {
     "name": "stdout",
     "output_type": "stream",
     "text": [
      "72.0\n",
      "78.0\n",
      "48.0\n"
     ]
    }
   ],
   "source": [
    "# Print the median of the dry_bulb_faren column\n",
    "print(df_clean['dry_bulb_faren'].median())\n",
    "\n",
    "# Print the median of the dry_bulb_faren column for the time range '2011-Apr':'2011-Jun'\n",
    "print(df_clean.loc['2011-Apr':'2011-Jun', 'dry_bulb_faren'].median())\n",
    "\n",
    "# Print the median of the dry_bulb_faren column for the month of January\n",
    "print(df_clean.loc['2011-Jan', 'dry_bulb_faren'].median())"
   ]
  },
  {
   "cell_type": "markdown",
   "metadata": {},
   "source": [
    "##### SIGNAL VARIANCE"
   ]
  },
  {
   "cell_type": "markdown",
   "metadata": {},
   "source": [
    "#### Compare the 2011 weather data with the 30-year normals reported in 2010. \n",
    "#### Finding average on how much hotter was every day in 2011 than expected from the 30-year average?"
   ]
  },
  {
   "cell_type": "code",
   "execution_count": 91,
   "metadata": {},
   "outputs": [
    {
     "name": "stdout",
     "output_type": "stream",
     "text": [
      "   Temperature  DewPoint  Pressure            Date\n",
      "0         46.2      37.5       1.0  20100101 00:00\n",
      "1         44.6      37.1       1.0  20100101 01:00\n",
      "2         44.1      36.9       1.0  20100101 02:00\n",
      "3         43.8      36.9       1.0  20100101 03:00\n",
      "4         43.5      36.8       1.0  20100101 04:00\n",
      "             0         1         2               3\n",
      "0  Temperature  DewPoint  Pressure            Date\n",
      "1         46.2      37.5       1.0  20100101 00:00\n",
      "2         44.6      37.1       1.0  20100101 01:00\n",
      "3         44.1      36.9       1.0  20100101 02:00\n",
      "4         43.8      36.9       1.0  20100101 03:00\n"
     ]
    }
   ],
   "source": [
    "# Read in the data file: df\n",
    "df_climate = pd.read_csv('weather_data_austin_2010.csv')\n",
    "\n",
    "# Print the output of df.head()\n",
    "print(df_climate.head())\n",
    "\n",
    "# Read in the data file with header=None: df_headers\n",
    "df_climate_headers = pd.read_csv('weather_data_austin_2010.csv', header=None)\n",
    "\n",
    "# Print the output of df_headers.head()\n",
    "print(df_climate_headers.head())"
   ]
  },
  {
   "cell_type": "code",
   "execution_count": 92,
   "metadata": {},
   "outputs": [
    {
     "data": {
      "text/html": [
       "<div>\n",
       "<style scoped>\n",
       "    .dataframe tbody tr th:only-of-type {\n",
       "        vertical-align: middle;\n",
       "    }\n",
       "\n",
       "    .dataframe tbody tr th {\n",
       "        vertical-align: top;\n",
       "    }\n",
       "\n",
       "    .dataframe thead th {\n",
       "        text-align: right;\n",
       "    }\n",
       "</style>\n",
       "<table border=\"1\" class=\"dataframe\">\n",
       "  <thead>\n",
       "    <tr style=\"text-align: right;\">\n",
       "      <th></th>\n",
       "      <th>Date</th>\n",
       "      <th>Temperature</th>\n",
       "      <th>DewPoint</th>\n",
       "      <th>Pressure</th>\n",
       "    </tr>\n",
       "  </thead>\n",
       "  <tbody>\n",
       "    <tr>\n",
       "      <th>0</th>\n",
       "      <td>20100101 00:00</td>\n",
       "      <td>46.2</td>\n",
       "      <td>37.5</td>\n",
       "      <td>1.0</td>\n",
       "    </tr>\n",
       "    <tr>\n",
       "      <th>1</th>\n",
       "      <td>20100101 01:00</td>\n",
       "      <td>44.6</td>\n",
       "      <td>37.1</td>\n",
       "      <td>1.0</td>\n",
       "    </tr>\n",
       "    <tr>\n",
       "      <th>2</th>\n",
       "      <td>20100101 02:00</td>\n",
       "      <td>44.1</td>\n",
       "      <td>36.9</td>\n",
       "      <td>1.0</td>\n",
       "    </tr>\n",
       "    <tr>\n",
       "      <th>3</th>\n",
       "      <td>20100101 03:00</td>\n",
       "      <td>43.8</td>\n",
       "      <td>36.9</td>\n",
       "      <td>1.0</td>\n",
       "    </tr>\n",
       "    <tr>\n",
       "      <th>4</th>\n",
       "      <td>20100101 04:00</td>\n",
       "      <td>43.5</td>\n",
       "      <td>36.8</td>\n",
       "      <td>1.0</td>\n",
       "    </tr>\n",
       "  </tbody>\n",
       "</table>\n",
       "</div>"
      ],
      "text/plain": [
       "             Date  Temperature  DewPoint  Pressure\n",
       "0  20100101 00:00         46.2      37.5       1.0\n",
       "1  20100101 01:00         44.6      37.1       1.0\n",
       "2  20100101 02:00         44.1      36.9       1.0\n",
       "3  20100101 03:00         43.8      36.9       1.0\n",
       "4  20100101 04:00         43.5      36.8       1.0"
      ]
     },
     "execution_count": 92,
     "metadata": {},
     "output_type": "execute_result"
    }
   ],
   "source": [
    "df_climate.reindex(['Date','Temperature', 'DewPoint', 'Pressure'], axis=\"columns\").head()\n"
   ]
  },
  {
   "cell_type": "code",
   "execution_count": 93,
   "metadata": {},
   "outputs": [
    {
     "name": "stdout",
     "output_type": "stream",
     "text": [
      "<class 'pandas.core.frame.DataFrame'>\n",
      "DatetimeIndex: 8759 entries, 2010-01-01 00:00:00 to 2010-12-31 23:00:00\n",
      "Data columns (total 4 columns):\n",
      "Temperature    8759 non-null float64\n",
      "DewPoint       8759 non-null float64\n",
      "Pressure       8759 non-null float64\n",
      "Date           8759 non-null datetime64[ns]\n",
      "dtypes: datetime64[ns](1), float64(3)\n",
      "memory usage: 342.1 KB\n"
     ]
    }
   ],
   "source": [
    "df_climate.Date = pd.to_datetime(df_climate.Date)\n",
    "df_climate.set_index(df_climate.Date, inplace=True)\n",
    "df_climate.info()"
   ]
  },
  {
   "cell_type": "code",
   "execution_count": 94,
   "metadata": {},
   "outputs": [
    {
     "name": "stdout",
     "output_type": "stream",
     "text": [
      "1.330083921569873\n"
     ]
    }
   ],
   "source": [
    "# Downsample df_clean by day and aggregate by mean: daily_mean_2011\n",
    "daily_mean_2011 = df_clean.resample('D').mean()\n",
    "\n",
    "# Extract the dry_bulb_faren column from daily_mean_2011 using .values: daily_temp_2011\n",
    "daily_temp_2011 = daily_mean_2011['dry_bulb_faren'].values\n",
    "\n",
    "# Downsample df_climate by day and aggregate by mean: daily_climate\n",
    "daily_climate = df_climate.resample('D').mean()\n",
    "\n",
    "# Extract the Temperature column from daily_climate using .reset_index(): daily_temp_climate\n",
    "daily_temp_climate = daily_climate.reset_index()['Temperature']\n",
    "\n",
    "# Compute the difference between the two arrays and print the mean difference\n",
    "difference = daily_temp_2011 - daily_temp_climate\n",
    "print(difference.mean())"
   ]
  },
  {
   "cell_type": "markdown",
   "metadata": {},
   "source": [
    " ##### SUNNY OR CLAUDY\n",
    " #### Compare temperatures on sunny days against temperatures on overcast days."
   ]
  },
  {
   "cell_type": "code",
   "execution_count": 95,
   "metadata": {},
   "outputs": [
    {
     "name": "stdout",
     "output_type": "stream",
     "text": [
      "Wban               0.000000\n",
      "StationType        0.000000\n",
      "dry_bulb_faren     6.504304\n",
      "dew_point_faren   -4.339286\n",
      "wind_speed        -3.246062\n",
      "dtype: float64\n"
     ]
    }
   ],
   "source": [
    "# Select days that are sunny: sunny\n",
    "sunny = df_clean.loc[df_clean['sky_condition']=='CLR']\n",
    "\n",
    "# Select days that are overcast: overcast\n",
    "overcast = df_clean.loc[df_clean['sky_condition'].str.contains('OVC')]\n",
    "\n",
    "# Resample sunny and overcast, aggregating by maximum daily temperature\n",
    "sunny_daily_max = sunny.resample('D').max()\n",
    "overcast_daily_max = overcast.resample('D').max()\n",
    "\n",
    "# Print the difference between the mean of sunny_daily_max and overcast_daily_max\n",
    "print(sunny_daily_max.mean() - overcast_daily_max.mean())"
   ]
  },
  {
   "cell_type": "markdown",
   "metadata": {},
   "source": [
    "##### STEP 7: VISUAL EXPLATORY DATA ANALYSIS "
   ]
  },
  {
   "cell_type": "markdown",
   "metadata": {},
   "source": [
    "##### WEEKLY AVERAGE TEMPERATURE AND VISIBILITY \n",
    "#### Finding correlation between temperature and visibilitY by selecting the appropriate columns and then resample by week, aggregating the mean. "
   ]
  },
  {
   "cell_type": "code",
   "execution_count": 132,
   "metadata": {},
   "outputs": [
    {
     "name": "stdout",
     "output_type": "stream",
     "text": [
      "<class 'pandas.core.frame.DataFrame'>\n",
      "DatetimeIndex: 10336 entries, 2011-01-01 01:53:00 to 2011-12-31 23:53:00\n",
      "Data columns (total 17 columns):\n",
      "Wban                  10336 non-null int64\n",
      "date                  10336 non-null object\n",
      "Time                  10336 non-null object\n",
      "StationType           10336 non-null int64\n",
      "sky_condition         10336 non-null object\n",
      "visibility            10324 non-null object\n",
      "dry_bulb_faren        10325 non-null float64\n",
      "dry_bulb_cel          10336 non-null object\n",
      "wet_bulb_faren        10336 non-null object\n",
      "wet_bulb_cel          10336 non-null object\n",
      "dew_point_faren       10322 non-null float64\n",
      "dew_point_cel         10336 non-null object\n",
      "relative_humidity     10336 non-null object\n",
      "wind_speed            10317 non-null float64\n",
      "wind_direction        10336 non-null object\n",
      "station_pressure      10336 non-null object\n",
      "sea_level_pressure    10336 non-null object\n",
      "dtypes: float64(3), int64(2), object(12)\n",
      "memory usage: 1.7+ MB\n"
     ]
    }
   ],
   "source": [
    "df_clean.info()"
   ]
  },
  {
   "cell_type": "code",
   "execution_count": 133,
   "metadata": {},
   "outputs": [
    {
     "name": "stdout",
     "output_type": "stream",
     "text": [
      "<class 'pandas.core.frame.DataFrame'>\n",
      "RangeIndex: 10336 entries, 0 to 10335\n",
      "Data columns (total 17 columns):\n",
      "Wban                  10336 non-null int64\n",
      "date                  10336 non-null object\n",
      "Time                  10336 non-null object\n",
      "StationType           10336 non-null int64\n",
      "sky_condition         10336 non-null object\n",
      "visibility            10324 non-null object\n",
      "dry_bulb_faren        10336 non-null object\n",
      "dry_bulb_cel          10336 non-null object\n",
      "wet_bulb_faren        10336 non-null object\n",
      "wet_bulb_cel          10336 non-null object\n",
      "dew_point_faren       10336 non-null object\n",
      "dew_point_cel         10336 non-null object\n",
      "relative_humidity     10336 non-null object\n",
      "wind_speed            10336 non-null object\n",
      "wind_direction        10336 non-null object\n",
      "station_pressure      10336 non-null object\n",
      "sea_level_pressure    10336 non-null object\n",
      "dtypes: int64(2), object(15)\n",
      "memory usage: 1.3+ MB\n"
     ]
    }
   ],
   "source": [
    "df_dropped.info()"
   ]
  },
  {
   "cell_type": "code",
   "execution_count": 139,
   "metadata": {},
   "outputs": [
    {
     "name": "stdout",
     "output_type": "stream",
     "text": [
      "                visibility  dry_bulb_faren\n",
      "visibility         1.00000         0.49004\n",
      "dry_bulb_faren     0.49004         1.00000\n"
     ]
    },
    {
     "data": {
      "image/png": "[encoded data removed]",
      "text/plain": [
       "<matplotlib.figure.Figure at 0x246c7772710>"
      ]
     },
     "metadata": {},
     "output_type": "display_data"
    }
   ],
   "source": [
    "# Import matplotlib.pyplot as plt\n",
    "import matplotlib.pyplot as plt\n",
    "import seaborn as sns\n",
    "\n",
    "# Select the visibility and dry_bulb_faren columns and resample them: weekly_mean\n",
    "#weekly_mean = df_clean.loc[:, \"visibility\":\"dry_bulb_faren\"].resample('W').mean()\n",
    "df_clean['visibility'] = pd.to_numeric(df_clean['visibility'], errors='coerce')\n",
    "weekly_mean = df_clean[['visibility', 'dry_bulb_faren']].resample('W').mean()\n",
    "\n",
    "\n",
    "# Print the output of weekly_mean.corr()\n",
    "#print(weekly_mean.corr())\n",
    "correlation = weekly_mean.corr(method='pearson')\n",
    "print (correlation)\n",
    "\n",
    "# Plot weekly_mean with subplots=True\n",
    "weekly_mean.plot(subplots=True)\n",
    "\n",
    "plt.show()"
   ]
  },
  {
   "cell_type": "markdown",
   "metadata": {},
   "source": [
    "##### DAILY HOURS OF CLEAR SKY"
   ]
  },
  {
   "cell_type": "code",
   "execution_count": 140,
   "metadata": {},
   "outputs": [
    {
     "data": {
      "image/png": "[encoded data removed]",
      "text/plain": [
       "<matplotlib.figure.Figure at 0x246c73c16a0>"
      ]
     },
     "metadata": {},
     "output_type": "display_data"
    }
   ],
   "source": [
    "# Create a Boolean Series for sunny days: sunny\n",
    "sunny = df_clean.sky_condition.str.contains(\"CLR\")\n",
    "\n",
    "\n",
    "# Resample the Boolean Series by day and compute the sum: sunny_hours\n",
    "sunny_hours = sunny.resample('D').sum()\n",
    "\n",
    "\n",
    "# Resample the Boolean Series by day and compute the count: total_hours\n",
    "total_hours = sunny.resample(\"D\").count()\n",
    "\n",
    "\n",
    "# Divide sunny_hours by total_hours: sunny_fraction\n",
    "sunny_fraction = sunny_hours / total_hours\n",
    "\n",
    "\n",
    "# Make a box plot of sunny_fraction\n",
    "sunny_fraction.plot(kind='box')\n",
    "plt.show()\n"
   ]
  },
  {
   "cell_type": "markdown",
   "metadata": {},
   "source": [
    "##### HEAT OF HUMADITY"
   ]
  },
  {
   "cell_type": "code",
   "execution_count": 141,
   "metadata": {},
   "outputs": [
    {
     "data": {
      "image/png": "[encoded data removed]",
      "text/plain": [
       "<matplotlib.figure.Figure at 0x246c75f5da0>"
      ]
     },
     "metadata": {},
     "output_type": "display_data"
    }
   ],
   "source": [
    "# Resample dew_point_faren and dry_bulb_faren by Month, aggregating the maximum values: monthly_max\n",
    "monthly_max = df_clean[['dew_point_faren','dry_bulb_faren']].resample('M').max()\n",
    "\n",
    "# Generate a histogram with bins=8, alpha=0.5, subplots=True\n",
    "monthly_max.plot(kind='hist', bins=8, alpha=0.5, subplots=True)\n",
    "\n",
    "# Show the plot\n",
    "plt.show()"
   ]
  },
  {
   "cell_type": "markdown",
   "metadata": {},
   "source": [
    "##### PROBABILITY HIGH TEMPERATURE"
   ]
  },
  {
   "cell_type": "code",
   "execution_count": 142,
   "metadata": {},
   "outputs": [
    {
     "name": "stdout",
     "output_type": "stream",
     "text": [
      "95.3\n"
     ]
    },
    {
     "data": {
      "image/png": "[encoded data removed]",
      "text/plain": [
       "<matplotlib.figure.Figure at 0x246c75e07b8>"
      ]
     },
     "metadata": {},
     "output_type": "display_data"
    }
   ],
   "source": [
    "# Extract the maximum temperature in August 2010 from df_climate: august_max\n",
    "august_max = df_climate.loc['2010-08','Temperature'].max()\n",
    "print(august_max)\n",
    "\n",
    "\n",
    "# Resample the August 2011 temperatures in df_clean by day and aggregate the maximum value: august_2011\n",
    "august_2011 = df_clean.loc['2011-08', 'dry_bulb_faren'].resample('D').max()\n",
    "\n",
    "\n",
    "# Filter out days in august_2011 where the value exceeded august_max: august_2011_high\n",
    "august_2011_high = august_2011[august_2011 > august_max]\n",
    "\n",
    "\n",
    "# Construct a CDF of august_2011_high\n",
    "august_2011_high.plot(kind='hist', bins=25, normed=True, cumulative=True)\n",
    "\n",
    "\n",
    "# Display the plot\n",
    "plt.show()"
   ]
  },
  {
   "cell_type": "markdown",
   "metadata": {},
   "source": [
    "#### CONCLUSSION\n"
   ]
  },
  {
   "cell_type": "markdown",
   "metadata": {},
   "source": [
    "##### Messy weather and climate data from two different sources have many unrelated measurement and missing values, that need to be clean up in order to discover new insight. Task includes:\n",
    "##### Comparing and observed data to become useable form for analysis.\n",
    "\n",
    "## THANK YOU\n",
    "\n"
   ]
  },
  {
   "cell_type": "code",
   "execution_count": null,
   "metadata": {},
   "outputs": [],
   "source": []
  }
 ],
 "metadata": {
  "kernelspec": {
   "display_name": "Python 3",
   "language": "python",
   "name": "python3"
  },
  "language_info": {
   "codemirror_mode": {
    "name": "ipython",
    "version": 3
   },
   "file_extension": ".py",
   "mimetype": "text/x-python",
   "name": "python",
   "nbconvert_exporter": "python",
   "pygments_lexer": "ipython3",
   "version": "3.6.0"
  }
 },
 "nbformat": 4,
 "nbformat_minor": 2
}
