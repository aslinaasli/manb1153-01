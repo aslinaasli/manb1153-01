{
 "cells": [
  {
   "cell_type": "markdown",
   "metadata": {},
   "source": [
    "# Lab Report:\n",
    "### PREDICTION MODEL FOR CRIME\n",
    "\n",
    "\n",
    "### Introduction:This assingment focus on basic data exploration using pyhton.\n",
    "\n",
    "### Subject: MANB2153 – MACHINE LEARNING\n",
    "\n",
    "\n",
    "##### Prepared for: \n",
    "DR. NILAM NUR AMIR SJARIF\n",
    "##### Created by: \n",
    "ASLINA MAT ASLI (MAN171027)\n",
    "##### Date: \n",
    "April 15th, 2018  \n"
   ]
  },
  {
   "cell_type": "markdown",
   "metadata": {},
   "source": [
    "#### Step 1: IMPORT NECCESSARY LIBRARY"
   ]
  },
  {
   "cell_type": "code",
   "execution_count": 1,
   "metadata": {},
   "outputs": [],
   "source": [
    "#import libraries\n",
    "import pandas as pd\n",
    "import numpy as np\n",
    "import matplotlib.pyplot as plt; plt.rcdefaults()\n",
    "import matplotlib.pyplot as plt #graphic package\n",
    "from matplotlib import style\n",
    "import seaborn as sns\n",
    "import sklearn\n",
    "\n",
    "from IPython.display import display, HTML"
   ]
  },
  {
   "cell_type": "markdown",
   "metadata": {},
   "source": [
    "#### Step 2: IMPORT LONDON CRIME DATASET FROM (http://www.kaggle.com) and save it on the pc"
   ]
  },
  {
   "cell_type": "code",
   "execution_count": 2,
   "metadata": {},
   "outputs": [],
   "source": [
    "#load data from CSV file\n",
    "import csv\n",
    "csv_file = open(\"C:\\\\data\\\\london_crime.csv\", \"r\")\n",
    "csv_reader = csv.reader(csv_file, delimiter=',')\n",
    "#next(csv_reader)\n",
    "#for row in csv_reader:\n",
    "    #lsoa_code,borough,major_category, minor_category,total,year,month = row\n",
    "    #print(lsoa_code,borough,major_category,minor_category,total,year,month)\n",
    "#csv_file.close()"
   ]
  },
  {
   "cell_type": "markdown",
   "metadata": {},
   "source": [
    "#### Step 3: SUMMARIZING THE DATAFRAME"
   ]
  },
  {
   "cell_type": "code",
   "execution_count": 3,
   "metadata": {},
   "outputs": [
    {
     "name": "stdout",
     "output_type": "stream",
     "text": [
      "<class 'pandas.core.frame.DataFrame'>\n",
      "RangeIndex: 116047 entries, 0 to 116046\n",
      "Data columns (total 7 columns):\n",
      "lsoa_code         116047 non-null object\n",
      "borough           116047 non-null object\n",
      "major_category    116047 non-null object\n",
      "minor_category    116047 non-null object\n",
      "total             116047 non-null int64\n",
      "year              116047 non-null int64\n",
      "month             116047 non-null int64\n",
      "dtypes: int64(3), object(4)\n",
      "memory usage: 6.2+ MB\n"
     ]
    }
   ],
   "source": [
    "#Numbers of row, column and data type\n",
    "data = pd.read_csv(\"C:\\\\data\\\\london_crime.csv\")\n",
    "data.info()"
   ]
  },
  {
   "cell_type": "markdown",
   "metadata": {},
   "source": [
    "View the first and last 5 row"
   ]
  },
  {
   "cell_type": "code",
   "execution_count": 4,
   "metadata": {},
   "outputs": [
    {
     "data": {
      "text/html": [
       "<div>\n",
       "<style scoped>\n",
       "    .dataframe tbody tr th:only-of-type {\n",
       "        vertical-align: middle;\n",
       "    }\n",
       "\n",
       "    .dataframe tbody tr th {\n",
       "        vertical-align: top;\n",
       "    }\n",
       "\n",
       "    .dataframe thead th {\n",
       "        text-align: right;\n",
       "    }\n",
       "</style>\n",
       "<table border=\"1\" class=\"dataframe\">\n",
       "  <thead>\n",
       "    <tr style=\"text-align: right;\">\n",
       "      <th></th>\n",
       "      <th>lsoa_code</th>\n",
       "      <th>borough</th>\n",
       "      <th>major_category</th>\n",
       "      <th>minor_category</th>\n",
       "      <th>total</th>\n",
       "      <th>year</th>\n",
       "      <th>month</th>\n",
       "    </tr>\n",
       "  </thead>\n",
       "  <tbody>\n",
       "    <tr>\n",
       "      <th>0</th>\n",
       "      <td>E01000006</td>\n",
       "      <td>Barking and Dagenham</td>\n",
       "      <td>Burglary</td>\n",
       "      <td>Burglary in a Dwelling</td>\n",
       "      <td>0</td>\n",
       "      <td>2016</td>\n",
       "      <td>6</td>\n",
       "    </tr>\n",
       "    <tr>\n",
       "      <th>1</th>\n",
       "      <td>E01000006</td>\n",
       "      <td>Barking and Dagenham</td>\n",
       "      <td>Criminal Damage</td>\n",
       "      <td>Criminal Damage To Motor Vehicle</td>\n",
       "      <td>0</td>\n",
       "      <td>2016</td>\n",
       "      <td>1</td>\n",
       "    </tr>\n",
       "    <tr>\n",
       "      <th>2</th>\n",
       "      <td>E01000006</td>\n",
       "      <td>Barking and Dagenham</td>\n",
       "      <td>Burglary</td>\n",
       "      <td>Burglary in a Dwelling</td>\n",
       "      <td>0</td>\n",
       "      <td>2016</td>\n",
       "      <td>8</td>\n",
       "    </tr>\n",
       "    <tr>\n",
       "      <th>3</th>\n",
       "      <td>E01000006</td>\n",
       "      <td>Barking and Dagenham</td>\n",
       "      <td>Theft and Handling</td>\n",
       "      <td>Theft/Taking of Pedal Cycle</td>\n",
       "      <td>0</td>\n",
       "      <td>2016</td>\n",
       "      <td>4</td>\n",
       "    </tr>\n",
       "    <tr>\n",
       "      <th>4</th>\n",
       "      <td>E01000006</td>\n",
       "      <td>Barking and Dagenham</td>\n",
       "      <td>Violence Against the Person</td>\n",
       "      <td>Other violence</td>\n",
       "      <td>2</td>\n",
       "      <td>2016</td>\n",
       "      <td>11</td>\n",
       "    </tr>\n",
       "  </tbody>\n",
       "</table>\n",
       "</div>"
      ],
      "text/plain": [
       "   lsoa_code               borough               major_category  \\\n",
       "0  E01000006  Barking and Dagenham                     Burglary   \n",
       "1  E01000006  Barking and Dagenham              Criminal Damage   \n",
       "2  E01000006  Barking and Dagenham                     Burglary   \n",
       "3  E01000006  Barking and Dagenham           Theft and Handling   \n",
       "4  E01000006  Barking and Dagenham  Violence Against the Person   \n",
       "\n",
       "                     minor_category  total  year  month  \n",
       "0            Burglary in a Dwelling      0  2016      6  \n",
       "1  Criminal Damage To Motor Vehicle      0  2016      1  \n",
       "2            Burglary in a Dwelling      0  2016      8  \n",
       "3       Theft/Taking of Pedal Cycle      0  2016      4  \n",
       "4                    Other violence      2  2016     11  "
      ]
     },
     "execution_count": 4,
     "metadata": {},
     "output_type": "execute_result"
    }
   ],
   "source": [
    "data.head(5)"
   ]
  },
  {
   "cell_type": "code",
   "execution_count": 5,
   "metadata": {},
   "outputs": [
    {
     "data": {
      "text/html": [
       "<div>\n",
       "<style scoped>\n",
       "    .dataframe tbody tr th:only-of-type {\n",
       "        vertical-align: middle;\n",
       "    }\n",
       "\n",
       "    .dataframe tbody tr th {\n",
       "        vertical-align: top;\n",
       "    }\n",
       "\n",
       "    .dataframe thead th {\n",
       "        text-align: right;\n",
       "    }\n",
       "</style>\n",
       "<table border=\"1\" class=\"dataframe\">\n",
       "  <thead>\n",
       "    <tr style=\"text-align: right;\">\n",
       "      <th></th>\n",
       "      <th>lsoa_code</th>\n",
       "      <th>borough</th>\n",
       "      <th>major_category</th>\n",
       "      <th>minor_category</th>\n",
       "      <th>total</th>\n",
       "      <th>year</th>\n",
       "      <th>month</th>\n",
       "    </tr>\n",
       "  </thead>\n",
       "  <tbody>\n",
       "    <tr>\n",
       "      <th>116042</th>\n",
       "      <td>E01033608</td>\n",
       "      <td>Westminster</td>\n",
       "      <td>Burglary</td>\n",
       "      <td>Burglary in Other Buildings</td>\n",
       "      <td>0</td>\n",
       "      <td>2016</td>\n",
       "      <td>1</td>\n",
       "    </tr>\n",
       "    <tr>\n",
       "      <th>116043</th>\n",
       "      <td>E01033608</td>\n",
       "      <td>Westminster</td>\n",
       "      <td>Other Notifiable Offences</td>\n",
       "      <td>Other Notifiable</td>\n",
       "      <td>0</td>\n",
       "      <td>2016</td>\n",
       "      <td>5</td>\n",
       "    </tr>\n",
       "    <tr>\n",
       "      <th>116044</th>\n",
       "      <td>E01033608</td>\n",
       "      <td>Westminster</td>\n",
       "      <td>Criminal Damage</td>\n",
       "      <td>Other Criminal Damage</td>\n",
       "      <td>1</td>\n",
       "      <td>2016</td>\n",
       "      <td>4</td>\n",
       "    </tr>\n",
       "    <tr>\n",
       "      <th>116045</th>\n",
       "      <td>E01033608</td>\n",
       "      <td>Westminster</td>\n",
       "      <td>Theft and Handling</td>\n",
       "      <td>Theft/Taking Of Motor Vehicle</td>\n",
       "      <td>2</td>\n",
       "      <td>2016</td>\n",
       "      <td>9</td>\n",
       "    </tr>\n",
       "    <tr>\n",
       "      <th>116046</th>\n",
       "      <td>E01033608</td>\n",
       "      <td>Westminster</td>\n",
       "      <td>Theft and Handling</td>\n",
       "      <td>Theft From Motor Vehicle</td>\n",
       "      <td>2</td>\n",
       "      <td>2016</td>\n",
       "      <td>8</td>\n",
       "    </tr>\n",
       "  </tbody>\n",
       "</table>\n",
       "</div>"
      ],
      "text/plain": [
       "        lsoa_code      borough             major_category  \\\n",
       "116042  E01033608  Westminster                   Burglary   \n",
       "116043  E01033608  Westminster  Other Notifiable Offences   \n",
       "116044  E01033608  Westminster            Criminal Damage   \n",
       "116045  E01033608  Westminster         Theft and Handling   \n",
       "116046  E01033608  Westminster         Theft and Handling   \n",
       "\n",
       "                       minor_category  total  year  month  \n",
       "116042    Burglary in Other Buildings      0  2016      1  \n",
       "116043               Other Notifiable      0  2016      5  \n",
       "116044          Other Criminal Damage      1  2016      4  \n",
       "116045  Theft/Taking Of Motor Vehicle      2  2016      9  \n",
       "116046       Theft From Motor Vehicle      2  2016      8  "
      ]
     },
     "execution_count": 5,
     "metadata": {},
     "output_type": "execute_result"
    }
   ],
   "source": [
    "data.tail(5)"
   ]
  },
  {
   "cell_type": "code",
   "execution_count": 6,
   "metadata": {},
   "outputs": [
    {
     "name": "stdout",
     "output_type": "stream",
     "text": [
      "<bound method NDFrame.head of         lsoa_code               borough               major_category  \\\n",
      "0       E01000006  Barking and Dagenham                     Burglary   \n",
      "1       E01000006  Barking and Dagenham              Criminal Damage   \n",
      "2       E01000006  Barking and Dagenham                     Burglary   \n",
      "3       E01000006  Barking and Dagenham           Theft and Handling   \n",
      "4       E01000006  Barking and Dagenham  Violence Against the Person   \n",
      "5       E01000006  Barking and Dagenham                        Drugs   \n",
      "6       E01000006  Barking and Dagenham  Violence Against the Person   \n",
      "7       E01000006  Barking and Dagenham  Violence Against the Person   \n",
      "8       E01000006  Barking and Dagenham           Theft and Handling   \n",
      "9       E01000006  Barking and Dagenham  Violence Against the Person   \n",
      "10      E01000006  Barking and Dagenham           Theft and Handling   \n",
      "11      E01000006  Barking and Dagenham                        Drugs   \n",
      "12      E01000006  Barking and Dagenham           Theft and Handling   \n",
      "13      E01000006  Barking and Dagenham  Violence Against the Person   \n",
      "14      E01000006  Barking and Dagenham              Criminal Damage   \n",
      "15      E01000006  Barking and Dagenham  Violence Against the Person   \n",
      "16      E01000006  Barking and Dagenham  Violence Against the Person   \n",
      "17      E01000006  Barking and Dagenham  Violence Against the Person   \n",
      "18      E01000006  Barking and Dagenham                        Drugs   \n",
      "19      E01000006  Barking and Dagenham              Sexual Offences   \n",
      "20      E01000006  Barking and Dagenham                      Robbery   \n",
      "21      E01000006  Barking and Dagenham           Theft and Handling   \n",
      "22      E01000006  Barking and Dagenham              Criminal Damage   \n",
      "23      E01000006  Barking and Dagenham    Other Notifiable Offences   \n",
      "24      E01000006  Barking and Dagenham                        Drugs   \n",
      "25      E01000007  Barking and Dagenham    Other Notifiable Offences   \n",
      "26      E01000007  Barking and Dagenham              Criminal Damage   \n",
      "27      E01000007  Barking and Dagenham           Theft and Handling   \n",
      "28      E01000007  Barking and Dagenham                        Drugs   \n",
      "29      E01000007  Barking and Dagenham           Theft and Handling   \n",
      "...           ...                   ...                          ...   \n",
      "116017  E01033607           Westminster  Violence Against the Person   \n",
      "116018  E01033607           Westminster              Criminal Damage   \n",
      "116019  E01033607           Westminster                      Robbery   \n",
      "116020  E01033607           Westminster           Theft and Handling   \n",
      "116021  E01033607           Westminster  Violence Against the Person   \n",
      "116022  E01033607           Westminster                        Drugs   \n",
      "116023  E01033607           Westminster           Theft and Handling   \n",
      "116024  E01033607           Westminster              Criminal Damage   \n",
      "116025  E01033607           Westminster                     Burglary   \n",
      "116026  E01033607           Westminster  Violence Against the Person   \n",
      "116027  E01033608           Westminster           Theft and Handling   \n",
      "116028  E01033608           Westminster           Theft and Handling   \n",
      "116029  E01033608           Westminster                      Robbery   \n",
      "116030  E01033608           Westminster  Violence Against the Person   \n",
      "116031  E01033608           Westminster              Criminal Damage   \n",
      "116032  E01033608           Westminster              Criminal Damage   \n",
      "116033  E01033608           Westminster           Theft and Handling   \n",
      "116034  E01033608           Westminster                     Burglary   \n",
      "116035  E01033608           Westminster              Criminal Damage   \n",
      "116036  E01033608           Westminster           Theft and Handling   \n",
      "116037  E01033608           Westminster              Criminal Damage   \n",
      "116038  E01033608           Westminster              Criminal Damage   \n",
      "116039  E01033608           Westminster           Theft and Handling   \n",
      "116040  E01033608           Westminster              Criminal Damage   \n",
      "116041  E01033608           Westminster  Violence Against the Person   \n",
      "116042  E01033608           Westminster                     Burglary   \n",
      "116043  E01033608           Westminster    Other Notifiable Offences   \n",
      "116044  E01033608           Westminster              Criminal Damage   \n",
      "116045  E01033608           Westminster           Theft and Handling   \n",
      "116046  E01033608           Westminster           Theft and Handling   \n",
      "\n",
      "                                minor_category  total  year  month  \n",
      "0                       Burglary in a Dwelling      0  2016      6  \n",
      "1             Criminal Damage To Motor Vehicle      0  2016      1  \n",
      "2                       Burglary in a Dwelling      0  2016      8  \n",
      "3                  Theft/Taking of Pedal Cycle      0  2016      4  \n",
      "4                               Other violence      2  2016     11  \n",
      "5                          Possession Of Drugs      0  2016      2  \n",
      "6                          Assault with Injury      1  2016      5  \n",
      "7                             Offensive Weapon      0  2016      4  \n",
      "8                           Other Theft Person      0  2016      8  \n",
      "9                          Assault with Injury      0  2016      6  \n",
      "10                          Other Theft Person      1  2016      4  \n",
      "11                         Possession Of Drugs      0  2016      5  \n",
      "12                       Handling Stolen Goods      0  2016      5  \n",
      "13                              Common Assault      0  2016      6  \n",
      "14                 Criminal Damage To Dwelling      0  2016      2  \n",
      "15                                  Harassment      4  2016      7  \n",
      "16                                  Harassment      1  2016      8  \n",
      "17                              Other violence      0  2016      9  \n",
      "18                            Drug Trafficking      0  2016     11  \n",
      "19                                Other Sexual      0  2016     11  \n",
      "20                           Personal Property      0  2016      8  \n",
      "21               Theft/Taking Of Motor Vehicle      1  2016      2  \n",
      "22                       Other Criminal Damage      0  2016      5  \n",
      "23                            Other Notifiable      0  2016     11  \n",
      "24                         Possession Of Drugs      0  2016      7  \n",
      "25                              Going Equipped      0  2016      3  \n",
      "26                       Other Criminal Damage      0  2016     10  \n",
      "27                       Handling Stolen Goods      0  2016      9  \n",
      "28                                 Other Drugs      0  2016      1  \n",
      "29                    Theft From Motor Vehicle      0  2016     11  \n",
      "...                                        ...    ...   ...    ...  \n",
      "116017                     Assault with Injury      0  2016      3  \n",
      "116018             Criminal Damage To Dwelling      0  2016     12  \n",
      "116019                       Business Property      0  2016      2  \n",
      "116020  Motor Vehicle Interference & Tampering      2  2016      4  \n",
      "116021                          Common Assault      1  2016      2  \n",
      "116022                        Drug Trafficking      0  2016      5  \n",
      "116023  Motor Vehicle Interference & Tampering      0  2016      9  \n",
      "116024       Criminal Damage To Other Building      0  2016     12  \n",
      "116025             Burglary in Other Buildings      0  2016      6  \n",
      "116026                     Assault with Injury      0  2016     10  \n",
      "116027                      Other Theft Person      0  2016      8  \n",
      "116028                             Other Theft      0  2016      4  \n",
      "116029                       Business Property      0  2016      3  \n",
      "116030                          Other violence      0  2016      3  \n",
      "116031             Criminal Damage To Dwelling      0  2016     11  \n",
      "116032             Criminal Damage To Dwelling      0  2016     12  \n",
      "116033             Theft/Taking of Pedal Cycle      0  2016     11  \n",
      "116034             Burglary in Other Buildings      0  2016      6  \n",
      "116035       Criminal Damage To Other Building      0  2016      2  \n",
      "116036                Theft From Motor Vehicle      1  2016      5  \n",
      "116037        Criminal Damage To Motor Vehicle      0  2016      5  \n",
      "116038        Criminal Damage To Motor Vehicle      0  2016     12  \n",
      "116039                Theft From Motor Vehicle      2  2016      1  \n",
      "116040        Criminal Damage To Motor Vehicle      0  2016      8  \n",
      "116041                            Wounding/GBH      1  2016      3  \n",
      "116042             Burglary in Other Buildings      0  2016      1  \n",
      "116043                        Other Notifiable      0  2016      5  \n",
      "116044                   Other Criminal Damage      1  2016      4  \n",
      "116045           Theft/Taking Of Motor Vehicle      2  2016      9  \n",
      "116046                Theft From Motor Vehicle      2  2016      8  \n",
      "\n",
      "[116047 rows x 7 columns]>\n"
     ]
    }
   ],
   "source": [
    "#Understand data with descriptive statistic\n",
    "print (data.head)"
   ]
  },
  {
   "cell_type": "code",
   "execution_count": 7,
   "metadata": {
    "scrolled": true
   },
   "outputs": [
    {
     "name": "stdout",
     "output_type": "stream",
     "text": [
      "(116047, 7)\n"
     ]
    }
   ],
   "source": [
    "print(data.shape)"
   ]
  },
  {
   "cell_type": "code",
   "execution_count": 8,
   "metadata": {},
   "outputs": [
    {
     "name": "stdout",
     "output_type": "stream",
     "text": [
      "<bound method NDFrame.describe of         lsoa_code               borough               major_category  \\\n",
      "0       E01000006  Barking and Dagenham                     Burglary   \n",
      "1       E01000006  Barking and Dagenham              Criminal Damage   \n",
      "2       E01000006  Barking and Dagenham                     Burglary   \n",
      "3       E01000006  Barking and Dagenham           Theft and Handling   \n",
      "4       E01000006  Barking and Dagenham  Violence Against the Person   \n",
      "5       E01000006  Barking and Dagenham                        Drugs   \n",
      "6       E01000006  Barking and Dagenham  Violence Against the Person   \n",
      "7       E01000006  Barking and Dagenham  Violence Against the Person   \n",
      "8       E01000006  Barking and Dagenham           Theft and Handling   \n",
      "9       E01000006  Barking and Dagenham  Violence Against the Person   \n",
      "10      E01000006  Barking and Dagenham           Theft and Handling   \n",
      "11      E01000006  Barking and Dagenham                        Drugs   \n",
      "12      E01000006  Barking and Dagenham           Theft and Handling   \n",
      "13      E01000006  Barking and Dagenham  Violence Against the Person   \n",
      "14      E01000006  Barking and Dagenham              Criminal Damage   \n",
      "15      E01000006  Barking and Dagenham  Violence Against the Person   \n",
      "16      E01000006  Barking and Dagenham  Violence Against the Person   \n",
      "17      E01000006  Barking and Dagenham  Violence Against the Person   \n",
      "18      E01000006  Barking and Dagenham                        Drugs   \n",
      "19      E01000006  Barking and Dagenham              Sexual Offences   \n",
      "20      E01000006  Barking and Dagenham                      Robbery   \n",
      "21      E01000006  Barking and Dagenham           Theft and Handling   \n",
      "22      E01000006  Barking and Dagenham              Criminal Damage   \n",
      "23      E01000006  Barking and Dagenham    Other Notifiable Offences   \n",
      "24      E01000006  Barking and Dagenham                        Drugs   \n",
      "25      E01000007  Barking and Dagenham    Other Notifiable Offences   \n",
      "26      E01000007  Barking and Dagenham              Criminal Damage   \n",
      "27      E01000007  Barking and Dagenham           Theft and Handling   \n",
      "28      E01000007  Barking and Dagenham                        Drugs   \n",
      "29      E01000007  Barking and Dagenham           Theft and Handling   \n",
      "...           ...                   ...                          ...   \n",
      "116017  E01033607           Westminster  Violence Against the Person   \n",
      "116018  E01033607           Westminster              Criminal Damage   \n",
      "116019  E01033607           Westminster                      Robbery   \n",
      "116020  E01033607           Westminster           Theft and Handling   \n",
      "116021  E01033607           Westminster  Violence Against the Person   \n",
      "116022  E01033607           Westminster                        Drugs   \n",
      "116023  E01033607           Westminster           Theft and Handling   \n",
      "116024  E01033607           Westminster              Criminal Damage   \n",
      "116025  E01033607           Westminster                     Burglary   \n",
      "116026  E01033607           Westminster  Violence Against the Person   \n",
      "116027  E01033608           Westminster           Theft and Handling   \n",
      "116028  E01033608           Westminster           Theft and Handling   \n",
      "116029  E01033608           Westminster                      Robbery   \n",
      "116030  E01033608           Westminster  Violence Against the Person   \n",
      "116031  E01033608           Westminster              Criminal Damage   \n",
      "116032  E01033608           Westminster              Criminal Damage   \n",
      "116033  E01033608           Westminster           Theft and Handling   \n",
      "116034  E01033608           Westminster                     Burglary   \n",
      "116035  E01033608           Westminster              Criminal Damage   \n",
      "116036  E01033608           Westminster           Theft and Handling   \n",
      "116037  E01033608           Westminster              Criminal Damage   \n",
      "116038  E01033608           Westminster              Criminal Damage   \n",
      "116039  E01033608           Westminster           Theft and Handling   \n",
      "116040  E01033608           Westminster              Criminal Damage   \n",
      "116041  E01033608           Westminster  Violence Against the Person   \n",
      "116042  E01033608           Westminster                     Burglary   \n",
      "116043  E01033608           Westminster    Other Notifiable Offences   \n",
      "116044  E01033608           Westminster              Criminal Damage   \n",
      "116045  E01033608           Westminster           Theft and Handling   \n",
      "116046  E01033608           Westminster           Theft and Handling   \n",
      "\n",
      "                                minor_category  total  year  month  \n",
      "0                       Burglary in a Dwelling      0  2016      6  \n",
      "1             Criminal Damage To Motor Vehicle      0  2016      1  \n",
      "2                       Burglary in a Dwelling      0  2016      8  \n",
      "3                  Theft/Taking of Pedal Cycle      0  2016      4  \n",
      "4                               Other violence      2  2016     11  \n",
      "5                          Possession Of Drugs      0  2016      2  \n",
      "6                          Assault with Injury      1  2016      5  \n",
      "7                             Offensive Weapon      0  2016      4  \n",
      "8                           Other Theft Person      0  2016      8  \n",
      "9                          Assault with Injury      0  2016      6  \n",
      "10                          Other Theft Person      1  2016      4  \n",
      "11                         Possession Of Drugs      0  2016      5  \n",
      "12                       Handling Stolen Goods      0  2016      5  \n",
      "13                              Common Assault      0  2016      6  \n",
      "14                 Criminal Damage To Dwelling      0  2016      2  \n",
      "15                                  Harassment      4  2016      7  \n",
      "16                                  Harassment      1  2016      8  \n",
      "17                              Other violence      0  2016      9  \n",
      "18                            Drug Trafficking      0  2016     11  \n",
      "19                                Other Sexual      0  2016     11  \n",
      "20                           Personal Property      0  2016      8  \n",
      "21               Theft/Taking Of Motor Vehicle      1  2016      2  \n",
      "22                       Other Criminal Damage      0  2016      5  \n",
      "23                            Other Notifiable      0  2016     11  \n",
      "24                         Possession Of Drugs      0  2016      7  \n",
      "25                              Going Equipped      0  2016      3  \n",
      "26                       Other Criminal Damage      0  2016     10  \n",
      "27                       Handling Stolen Goods      0  2016      9  \n",
      "28                                 Other Drugs      0  2016      1  \n",
      "29                    Theft From Motor Vehicle      0  2016     11  \n",
      "...                                        ...    ...   ...    ...  \n",
      "116017                     Assault with Injury      0  2016      3  \n",
      "116018             Criminal Damage To Dwelling      0  2016     12  \n",
      "116019                       Business Property      0  2016      2  \n",
      "116020  Motor Vehicle Interference & Tampering      2  2016      4  \n",
      "116021                          Common Assault      1  2016      2  \n",
      "116022                        Drug Trafficking      0  2016      5  \n",
      "116023  Motor Vehicle Interference & Tampering      0  2016      9  \n",
      "116024       Criminal Damage To Other Building      0  2016     12  \n",
      "116025             Burglary in Other Buildings      0  2016      6  \n",
      "116026                     Assault with Injury      0  2016     10  \n",
      "116027                      Other Theft Person      0  2016      8  \n",
      "116028                             Other Theft      0  2016      4  \n",
      "116029                       Business Property      0  2016      3  \n",
      "116030                          Other violence      0  2016      3  \n",
      "116031             Criminal Damage To Dwelling      0  2016     11  \n",
      "116032             Criminal Damage To Dwelling      0  2016     12  \n",
      "116033             Theft/Taking of Pedal Cycle      0  2016     11  \n",
      "116034             Burglary in Other Buildings      0  2016      6  \n",
      "116035       Criminal Damage To Other Building      0  2016      2  \n",
      "116036                Theft From Motor Vehicle      1  2016      5  \n",
      "116037        Criminal Damage To Motor Vehicle      0  2016      5  \n",
      "116038        Criminal Damage To Motor Vehicle      0  2016     12  \n",
      "116039                Theft From Motor Vehicle      2  2016      1  \n",
      "116040        Criminal Damage To Motor Vehicle      0  2016      8  \n",
      "116041                            Wounding/GBH      1  2016      3  \n",
      "116042             Burglary in Other Buildings      0  2016      1  \n",
      "116043                        Other Notifiable      0  2016      5  \n",
      "116044                   Other Criminal Damage      1  2016      4  \n",
      "116045           Theft/Taking Of Motor Vehicle      2  2016      9  \n",
      "116046                Theft From Motor Vehicle      2  2016      8  \n",
      "\n",
      "[116047 rows x 7 columns]>\n"
     ]
    }
   ],
   "source": [
    "print(data.describe)"
   ]
  },
  {
   "cell_type": "code",
   "execution_count": 9,
   "metadata": {},
   "outputs": [
    {
     "data": {
      "text/html": [
       "<div>\n",
       "<style scoped>\n",
       "    .dataframe tbody tr th:only-of-type {\n",
       "        vertical-align: middle;\n",
       "    }\n",
       "\n",
       "    .dataframe tbody tr th {\n",
       "        vertical-align: top;\n",
       "    }\n",
       "\n",
       "    .dataframe thead th {\n",
       "        text-align: right;\n",
       "    }\n",
       "</style>\n",
       "<table border=\"1\" class=\"dataframe\">\n",
       "  <thead>\n",
       "    <tr style=\"text-align: right;\">\n",
       "      <th></th>\n",
       "      <th>lsoa_code</th>\n",
       "      <th>borough</th>\n",
       "      <th>major_category</th>\n",
       "      <th>minor_category</th>\n",
       "      <th>total</th>\n",
       "      <th>year</th>\n",
       "      <th>month</th>\n",
       "    </tr>\n",
       "  </thead>\n",
       "  <tbody>\n",
       "    <tr>\n",
       "      <th>116042</th>\n",
       "      <td>False</td>\n",
       "      <td>False</td>\n",
       "      <td>False</td>\n",
       "      <td>False</td>\n",
       "      <td>False</td>\n",
       "      <td>False</td>\n",
       "      <td>False</td>\n",
       "    </tr>\n",
       "    <tr>\n",
       "      <th>116043</th>\n",
       "      <td>False</td>\n",
       "      <td>False</td>\n",
       "      <td>False</td>\n",
       "      <td>False</td>\n",
       "      <td>False</td>\n",
       "      <td>False</td>\n",
       "      <td>False</td>\n",
       "    </tr>\n",
       "    <tr>\n",
       "      <th>116044</th>\n",
       "      <td>False</td>\n",
       "      <td>False</td>\n",
       "      <td>False</td>\n",
       "      <td>False</td>\n",
       "      <td>False</td>\n",
       "      <td>False</td>\n",
       "      <td>False</td>\n",
       "    </tr>\n",
       "    <tr>\n",
       "      <th>116045</th>\n",
       "      <td>False</td>\n",
       "      <td>False</td>\n",
       "      <td>False</td>\n",
       "      <td>False</td>\n",
       "      <td>False</td>\n",
       "      <td>False</td>\n",
       "      <td>False</td>\n",
       "    </tr>\n",
       "    <tr>\n",
       "      <th>116046</th>\n",
       "      <td>False</td>\n",
       "      <td>False</td>\n",
       "      <td>False</td>\n",
       "      <td>False</td>\n",
       "      <td>False</td>\n",
       "      <td>False</td>\n",
       "      <td>False</td>\n",
       "    </tr>\n",
       "  </tbody>\n",
       "</table>\n",
       "</div>"
      ],
      "text/plain": [
       "        lsoa_code  borough  major_category  minor_category  total   year  \\\n",
       "116042      False    False           False           False  False  False   \n",
       "116043      False    False           False           False  False  False   \n",
       "116044      False    False           False           False  False  False   \n",
       "116045      False    False           False           False  False  False   \n",
       "116046      False    False           False           False  False  False   \n",
       "\n",
       "        month  \n",
       "116042  False  \n",
       "116043  False  \n",
       "116044  False  \n",
       "116045  False  \n",
       "116046  False  "
      ]
     },
     "execution_count": 9,
     "metadata": {},
     "output_type": "execute_result"
    }
   ],
   "source": [
    "#Data pre-processing\n",
    "#checking missing value/null\n",
    "data.isnull().tail()"
   ]
  },
  {
   "cell_type": "code",
   "execution_count": 10,
   "metadata": {},
   "outputs": [
    {
     "data": {
      "text/html": [
       "<div>\n",
       "<style scoped>\n",
       "    .dataframe tbody tr th:only-of-type {\n",
       "        vertical-align: middle;\n",
       "    }\n",
       "\n",
       "    .dataframe tbody tr th {\n",
       "        vertical-align: top;\n",
       "    }\n",
       "\n",
       "    .dataframe thead th {\n",
       "        text-align: right;\n",
       "    }\n",
       "</style>\n",
       "<table border=\"1\" class=\"dataframe\">\n",
       "  <thead>\n",
       "    <tr style=\"text-align: right;\">\n",
       "      <th></th>\n",
       "      <th>lsoa_code</th>\n",
       "      <th>borough</th>\n",
       "      <th>major_category</th>\n",
       "      <th>minor_category</th>\n",
       "      <th>total</th>\n",
       "      <th>year</th>\n",
       "      <th>month</th>\n",
       "    </tr>\n",
       "  </thead>\n",
       "  <tbody>\n",
       "    <tr>\n",
       "      <th>116042</th>\n",
       "      <td>True</td>\n",
       "      <td>True</td>\n",
       "      <td>True</td>\n",
       "      <td>True</td>\n",
       "      <td>True</td>\n",
       "      <td>True</td>\n",
       "      <td>True</td>\n",
       "    </tr>\n",
       "    <tr>\n",
       "      <th>116043</th>\n",
       "      <td>True</td>\n",
       "      <td>True</td>\n",
       "      <td>True</td>\n",
       "      <td>True</td>\n",
       "      <td>True</td>\n",
       "      <td>True</td>\n",
       "      <td>True</td>\n",
       "    </tr>\n",
       "    <tr>\n",
       "      <th>116044</th>\n",
       "      <td>True</td>\n",
       "      <td>True</td>\n",
       "      <td>True</td>\n",
       "      <td>True</td>\n",
       "      <td>True</td>\n",
       "      <td>True</td>\n",
       "      <td>True</td>\n",
       "    </tr>\n",
       "    <tr>\n",
       "      <th>116045</th>\n",
       "      <td>True</td>\n",
       "      <td>True</td>\n",
       "      <td>True</td>\n",
       "      <td>True</td>\n",
       "      <td>True</td>\n",
       "      <td>True</td>\n",
       "      <td>True</td>\n",
       "    </tr>\n",
       "    <tr>\n",
       "      <th>116046</th>\n",
       "      <td>True</td>\n",
       "      <td>True</td>\n",
       "      <td>True</td>\n",
       "      <td>True</td>\n",
       "      <td>True</td>\n",
       "      <td>True</td>\n",
       "      <td>True</td>\n",
       "    </tr>\n",
       "  </tbody>\n",
       "</table>\n",
       "</div>"
      ],
      "text/plain": [
       "        lsoa_code  borough  major_category  minor_category  total  year  month\n",
       "116042       True     True            True            True   True  True   True\n",
       "116043       True     True            True            True   True  True   True\n",
       "116044       True     True            True            True   True  True   True\n",
       "116045       True     True            True            True   True  True   True\n",
       "116046       True     True            True            True   True  True   True"
      ]
     },
     "execution_count": 10,
     "metadata": {},
     "output_type": "execute_result"
    }
   ],
   "source": [
    "#Data pre-processing\n",
    "#checking missing value/null\n",
    "data.notnull().tail()"
   ]
  },
  {
   "cell_type": "code",
   "execution_count": 11,
   "metadata": {},
   "outputs": [
    {
     "data": {
      "text/plain": [
       "lsoa_code         0\n",
       "borough           0\n",
       "major_category    0\n",
       "minor_category    0\n",
       "total             0\n",
       "year              0\n",
       "month             0\n",
       "dtype: int64"
      ]
     },
     "execution_count": 11,
     "metadata": {},
     "output_type": "execute_result"
    }
   ],
   "source": [
    "#checking null value and sum\n",
    "data.isnull().sum()"
   ]
  },
  {
   "cell_type": "code",
   "execution_count": 12,
   "metadata": {},
   "outputs": [
    {
     "data": {
      "text/plain": [
       "lsoa_code         116047\n",
       "borough           116047\n",
       "major_category    116047\n",
       "minor_category    116047\n",
       "total             116047\n",
       "year              116047\n",
       "month             116047\n",
       "dtype: int64"
      ]
     },
     "execution_count": 12,
     "metadata": {},
     "output_type": "execute_result"
    }
   ],
   "source": [
    "#checking notnull value and sum\n",
    "data.notnull().sum()"
   ]
  },
  {
   "cell_type": "code",
   "execution_count": 13,
   "metadata": {},
   "outputs": [
    {
     "data": {
      "text/plain": [
       "0"
      ]
     },
     "execution_count": 13,
     "metadata": {},
     "output_type": "execute_result"
    }
   ],
   "source": [
    "#checking duplicate instances\n",
    "data.duplicated().sum()"
   ]
  },
  {
   "cell_type": "markdown",
   "metadata": {},
   "source": [
    "Using built-in describe() function to performs summary statistics calculations on all numeric columns, and returns them as a DataFrame."
   ]
  },
  {
   "cell_type": "code",
   "execution_count": 14,
   "metadata": {
    "scrolled": true
   },
   "outputs": [
    {
     "data": {
      "text/html": [
       "<div>\n",
       "<style scoped>\n",
       "    .dataframe tbody tr th:only-of-type {\n",
       "        vertical-align: middle;\n",
       "    }\n",
       "\n",
       "    .dataframe tbody tr th {\n",
       "        vertical-align: top;\n",
       "    }\n",
       "\n",
       "    .dataframe thead th {\n",
       "        text-align: right;\n",
       "    }\n",
       "</style>\n",
       "<table border=\"1\" class=\"dataframe\">\n",
       "  <thead>\n",
       "    <tr style=\"text-align: right;\">\n",
       "      <th></th>\n",
       "      <th>count</th>\n",
       "      <th>mean</th>\n",
       "      <th>std</th>\n",
       "      <th>min</th>\n",
       "      <th>25%</th>\n",
       "      <th>50%</th>\n",
       "      <th>75%</th>\n",
       "      <th>max</th>\n",
       "    </tr>\n",
       "  </thead>\n",
       "  <tbody>\n",
       "    <tr>\n",
       "      <th>total</th>\n",
       "      <td>116047.0</td>\n",
       "      <td>0.493550</td>\n",
       "      <td>1.564692</td>\n",
       "      <td>0.0</td>\n",
       "      <td>0.0</td>\n",
       "      <td>0.0</td>\n",
       "      <td>1.0</td>\n",
       "      <td>112.0</td>\n",
       "    </tr>\n",
       "    <tr>\n",
       "      <th>year</th>\n",
       "      <td>116047.0</td>\n",
       "      <td>2016.000000</td>\n",
       "      <td>0.000000</td>\n",
       "      <td>2016.0</td>\n",
       "      <td>2016.0</td>\n",
       "      <td>2016.0</td>\n",
       "      <td>2016.0</td>\n",
       "      <td>2016.0</td>\n",
       "    </tr>\n",
       "    <tr>\n",
       "      <th>month</th>\n",
       "      <td>116047.0</td>\n",
       "      <td>6.490008</td>\n",
       "      <td>3.454861</td>\n",
       "      <td>1.0</td>\n",
       "      <td>3.0</td>\n",
       "      <td>6.0</td>\n",
       "      <td>9.0</td>\n",
       "      <td>12.0</td>\n",
       "    </tr>\n",
       "  </tbody>\n",
       "</table>\n",
       "</div>"
      ],
      "text/plain": [
       "          count         mean       std     min     25%     50%     75%     max\n",
       "total  116047.0     0.493550  1.564692     0.0     0.0     0.0     1.0   112.0\n",
       "year   116047.0  2016.000000  0.000000  2016.0  2016.0  2016.0  2016.0  2016.0\n",
       "month  116047.0     6.490008  3.454861     1.0     3.0     6.0     9.0    12.0"
      ]
     },
     "execution_count": 14,
     "metadata": {},
     "output_type": "execute_result"
    }
   ],
   "source": [
    "#Data Exploration - transpose\n",
    "data.describe().transpose()"
   ]
  },
  {
   "cell_type": "markdown",
   "metadata": {},
   "source": [
    "#### Step 4: EXPLORING THE DATA\n"
   ]
  },
  {
   "cell_type": "markdown",
   "metadata": {},
   "source": [
    "#### Change value dtype to numeric and then show histogram of numerical data"
   ]
  },
  {
   "cell_type": "code",
   "execution_count": 15,
   "metadata": {},
   "outputs": [
    {
     "data": {
      "text/plain": [
       "lsoa_code         object\n",
       "borough           object\n",
       "major_category    object\n",
       "minor_category    object\n",
       "total              int64\n",
       "year               int64\n",
       "month              int64\n",
       "dtype: object"
      ]
     },
     "execution_count": 15,
     "metadata": {},
     "output_type": "execute_result"
    }
   ],
   "source": [
    "data.dtypes"
   ]
  },
  {
   "cell_type": "code",
   "execution_count": 16,
   "metadata": {},
   "outputs": [
    {
     "data": {
      "image/png": "[encoded data removed]",
      "text/plain": [
       "<matplotlib.figure.Figure at 0x24ea5927240>"
      ]
     },
     "metadata": {},
     "output_type": "display_data"
    }
   ],
   "source": [
    "from scipy.stats import mode\n",
    "mode(data['total'])\n",
    "data['total'].fillna(mode(data['total']).mode[0], inplace=True)\n",
    "\n",
    "data['total'].dtypes\n",
    "dataint = data[['month','year', 'total']]\n",
    "dataint.hist()\n",
    "plt.show();"
   ]
  },
  {
   "cell_type": "code",
   "execution_count": 17,
   "metadata": {
    "scrolled": true
   },
   "outputs": [
    {
     "data": {
      "image/png": "[encoded data removed]",
      "text/plain": [
       "<matplotlib.figure.Figure at 0x24ea591f7f0>"
      ]
     },
     "metadata": {},
     "output_type": "display_data"
    },
    {
     "data": {
      "image/png": "[encoded data removed]",
      "text/plain": [
       "<matplotlib.figure.Figure at 0x24ea596c400>"
      ]
     },
     "metadata": {},
     "output_type": "display_data"
    }
   ],
   "source": [
    "#Show histogram total of major_crime recorded per month \n",
    "dataint = data[['month', 'minor_category']]\n",
    "dataint.hist()\n",
    "\n",
    "dataint = data[['major_category', 'month']]\n",
    "dataint.hist()\n",
    "plt.show();"
   ]
  },
  {
   "cell_type": "markdown",
   "metadata": {},
   "source": [
    "Count the total number of crime:"
   ]
  },
  {
   "cell_type": "code",
   "execution_count": 20,
   "metadata": {},
   "outputs": [
    {
     "ename": "AttributeError",
     "evalue": "'DataFrame' object has no attribute 'value'",
     "output_type": "error",
     "traceback": [
      "\u001b[0;31m---------------------------------------------------------------------------\u001b[0m",
      "\u001b[0;31mAttributeError\u001b[0m                            Traceback (most recent call last)",
      "\u001b[0;32m<ipython-input-20-0c2a037c0c68>\u001b[0m in \u001b[0;36m<module>\u001b[0;34m()\u001b[0m\n\u001b[1;32m      1\u001b[0m \u001b[1;31m#crime_category = data.major_category[data['major_category']].count()\u001b[0m\u001b[1;33m\u001b[0m\u001b[1;33m\u001b[0m\u001b[0m\n\u001b[0;32m----> 2\u001b[0;31m \u001b[0mtotal_crime\u001b[0m \u001b[1;33m=\u001b[0m \u001b[0mdata\u001b[0m\u001b[1;33m.\u001b[0m\u001b[0mvalue\u001b[0m\u001b[1;33m[\u001b[0m\u001b[0mdata\u001b[0m\u001b[1;33m[\u001b[0m\u001b[1;34m'value'\u001b[0m\u001b[1;33m]\u001b[0m\u001b[1;33m]\u001b[0m\u001b[1;33m.\u001b[0m\u001b[0mcount\u001b[0m\u001b[1;33m(\u001b[0m\u001b[1;33m)\u001b[0m\u001b[1;33m\u001b[0m\u001b[0m\n\u001b[0m\u001b[1;32m      3\u001b[0m \u001b[1;31m#print(crime_category)\u001b[0m\u001b[1;33m\u001b[0m\u001b[1;33m\u001b[0m\u001b[0m\n\u001b[1;32m      4\u001b[0m \u001b[0mprint\u001b[0m\u001b[1;33m(\u001b[0m\u001b[0mtotal_crime\u001b[0m\u001b[1;33m)\u001b[0m\u001b[1;33m\u001b[0m\u001b[0m\n",
      "\u001b[0;32mc:\\users\\aslina asli\\anaconda3\\lib\\site-packages\\pandas\\core\\generic.py\u001b[0m in \u001b[0;36m__getattr__\u001b[0;34m(self, name)\u001b[0m\n\u001b[1;32m   3612\u001b[0m             \u001b[1;32mif\u001b[0m \u001b[0mname\u001b[0m \u001b[1;32min\u001b[0m \u001b[0mself\u001b[0m\u001b[1;33m.\u001b[0m\u001b[0m_info_axis\u001b[0m\u001b[1;33m:\u001b[0m\u001b[1;33m\u001b[0m\u001b[0m\n\u001b[1;32m   3613\u001b[0m                 \u001b[1;32mreturn\u001b[0m \u001b[0mself\u001b[0m\u001b[1;33m[\u001b[0m\u001b[0mname\u001b[0m\u001b[1;33m]\u001b[0m\u001b[1;33m\u001b[0m\u001b[0m\n\u001b[0;32m-> 3614\u001b[0;31m             \u001b[1;32mreturn\u001b[0m \u001b[0mobject\u001b[0m\u001b[1;33m.\u001b[0m\u001b[0m__getattribute__\u001b[0m\u001b[1;33m(\u001b[0m\u001b[0mself\u001b[0m\u001b[1;33m,\u001b[0m \u001b[0mname\u001b[0m\u001b[1;33m)\u001b[0m\u001b[1;33m\u001b[0m\u001b[0m\n\u001b[0m\u001b[1;32m   3615\u001b[0m \u001b[1;33m\u001b[0m\u001b[0m\n\u001b[1;32m   3616\u001b[0m     \u001b[1;32mdef\u001b[0m \u001b[0m__setattr__\u001b[0m\u001b[1;33m(\u001b[0m\u001b[0mself\u001b[0m\u001b[1;33m,\u001b[0m \u001b[0mname\u001b[0m\u001b[1;33m,\u001b[0m \u001b[0mvalue\u001b[0m\u001b[1;33m)\u001b[0m\u001b[1;33m:\u001b[0m\u001b[1;33m\u001b[0m\u001b[0m\n",
      "\u001b[0;31mAttributeError\u001b[0m: 'DataFrame' object has no attribute 'value'"
     ]
    }
   ],
   "source": [
    "#crime_category = data.major_category[data['major_category']].count()\n",
    "total_crime = data.value[data['value']].count()\n",
    "#print(crime_category)\n",
    "print(total_crime)"
   ]
  },
  {
   "cell_type": "markdown",
   "metadata": {},
   "source": [
    "#### Explore the class and value of data"
   ]
  },
  {
   "cell_type": "code",
   "execution_count": 21,
   "metadata": {},
   "outputs": [
    {
     "data": {
      "text/plain": [
       "array(['Burglary', 'Criminal Damage', 'Theft and Handling',\n",
       "       'Violence Against the Person', 'Drugs', 'Sexual Offences',\n",
       "       'Robbery', 'Other Notifiable Offences', 'Fraud or Forgery'],\n",
       "      dtype=object)"
      ]
     },
     "execution_count": 21,
     "metadata": {},
     "output_type": "execute_result"
    }
   ],
   "source": [
    "#Exploration class of data\n",
    "data['major_category'].unique()"
   ]
  },
  {
   "cell_type": "code",
   "execution_count": 22,
   "metadata": {},
   "outputs": [
    {
     "name": "stdout",
     "output_type": "stream",
     "text": [
      "Theft and Handling             33759\n",
      "Violence Against the Person    27347\n",
      "Criminal Damage                17727\n",
      "Drugs                          10313\n",
      "Burglary                        9082\n",
      "Robbery                         8025\n",
      "Other Notifiable Offences       6737\n",
      "Fraud or Forgery                2140\n",
      "Sexual Offences                  917\n",
      "Name: major_category, dtype: int64\n"
     ]
    }
   ],
   "source": [
    "#Exploration of class value\n",
    "crime_total = pd.value_counts(data[\"major_category\"]) \n",
    "print (crime_total)\n"
   ]
  },
  {
   "cell_type": "code",
   "execution_count": 23,
   "metadata": {},
   "outputs": [
    {
     "name": "stdout",
     "output_type": "stream",
     "text": [
      "Croydon                   5226\n",
      "Barnet                    4892\n",
      "Ealing                    4718\n",
      "Bromley                   4561\n",
      "Lambeth                   4507\n",
      "Enfield                   4433\n",
      "Wandsworth                4327\n",
      "Brent                     4214\n",
      "Newham                    4091\n",
      "Southwark                 4082\n",
      "Lewisham                  4026\n",
      "Hillingdon                3826\n",
      "Redbridge                 3769\n",
      "Hackney                   3611\n",
      "Haringey                  3594\n",
      "Greenwich                 3573\n",
      "Tower Hamlets             3544\n",
      "Waltham Forest            3504\n",
      "Havering                  3484\n",
      "Hounslow                  3477\n",
      "Bexley                    3286\n",
      "Camden                    3245\n",
      "Westminster               3189\n",
      "Harrow                    3125\n",
      "Islington                 3070\n",
      "Hammersmith and Fulham    2934\n",
      "Merton                    2883\n",
      "Sutton                    2817\n",
      "Barking and Dagenham      2628\n",
      "Kensington and Chelsea    2583\n",
      "Richmond upon Thames      2541\n",
      "Kingston upon Thames      2201\n",
      "City of London              86\n",
      "Name: borough, dtype: int64\n"
     ]
    }
   ],
   "source": [
    "crime_total_by_city = pd.value_counts(data[\"borough\"]) \n",
    "print (crime_total_by_city)\n"
   ]
  },
  {
   "cell_type": "code",
   "execution_count": 24,
   "metadata": {},
   "outputs": [
    {
     "data": {
      "text/html": [
       "<div>\n",
       "<style scoped>\n",
       "    .dataframe tbody tr th:only-of-type {\n",
       "        vertical-align: middle;\n",
       "    }\n",
       "\n",
       "    .dataframe tbody tr th {\n",
       "        vertical-align: top;\n",
       "    }\n",
       "\n",
       "    .dataframe thead th {\n",
       "        text-align: right;\n",
       "    }\n",
       "</style>\n",
       "<table border=\"1\" class=\"dataframe\">\n",
       "  <thead>\n",
       "    <tr style=\"text-align: right;\">\n",
       "      <th></th>\n",
       "      <th>total</th>\n",
       "      <th>year</th>\n",
       "      <th>month</th>\n",
       "    </tr>\n",
       "  </thead>\n",
       "  <tbody>\n",
       "    <tr>\n",
       "      <th>count</th>\n",
       "      <td>116047.000000</td>\n",
       "      <td>116047.0</td>\n",
       "      <td>116047.000000</td>\n",
       "    </tr>\n",
       "    <tr>\n",
       "      <th>mean</th>\n",
       "      <td>0.493550</td>\n",
       "      <td>2016.0</td>\n",
       "      <td>6.490008</td>\n",
       "    </tr>\n",
       "    <tr>\n",
       "      <th>std</th>\n",
       "      <td>1.564692</td>\n",
       "      <td>0.0</td>\n",
       "      <td>3.454861</td>\n",
       "    </tr>\n",
       "    <tr>\n",
       "      <th>min</th>\n",
       "      <td>0.000000</td>\n",
       "      <td>2016.0</td>\n",
       "      <td>1.000000</td>\n",
       "    </tr>\n",
       "    <tr>\n",
       "      <th>25%</th>\n",
       "      <td>0.000000</td>\n",
       "      <td>2016.0</td>\n",
       "      <td>3.000000</td>\n",
       "    </tr>\n",
       "    <tr>\n",
       "      <th>50%</th>\n",
       "      <td>0.000000</td>\n",
       "      <td>2016.0</td>\n",
       "      <td>6.000000</td>\n",
       "    </tr>\n",
       "    <tr>\n",
       "      <th>75%</th>\n",
       "      <td>1.000000</td>\n",
       "      <td>2016.0</td>\n",
       "      <td>9.000000</td>\n",
       "    </tr>\n",
       "    <tr>\n",
       "      <th>max</th>\n",
       "      <td>112.000000</td>\n",
       "      <td>2016.0</td>\n",
       "      <td>12.000000</td>\n",
       "    </tr>\n",
       "  </tbody>\n",
       "</table>\n",
       "</div>"
      ],
      "text/plain": [
       "               total      year          month\n",
       "count  116047.000000  116047.0  116047.000000\n",
       "mean        0.493550    2016.0       6.490008\n",
       "std         1.564692       0.0       3.454861\n",
       "min         0.000000    2016.0       1.000000\n",
       "25%         0.000000    2016.0       3.000000\n",
       "50%         0.000000    2016.0       6.000000\n",
       "75%         1.000000    2016.0       9.000000\n",
       "max       112.000000    2016.0      12.000000"
      ]
     },
     "execution_count": 24,
     "metadata": {},
     "output_type": "execute_result"
    }
   ],
   "source": [
    "data.describe()"
   ]
  },
  {
   "cell_type": "code",
   "execution_count": 25,
   "metadata": {},
   "outputs": [
    {
     "data": {
      "text/plain": [
       "count    116047.000000\n",
       "mean          0.493550\n",
       "std           1.564692\n",
       "min           0.000000\n",
       "25%           0.000000\n",
       "50%           0.000000\n",
       "75%           1.000000\n",
       "max         112.000000\n",
       "Name: total, dtype: float64"
      ]
     },
     "execution_count": 25,
     "metadata": {},
     "output_type": "execute_result"
    }
   ],
   "source": [
    "data['total'].describe()"
   ]
  },
  {
   "cell_type": "code",
   "execution_count": 26,
   "metadata": {},
   "outputs": [
    {
     "data": {
      "text/plain": [
       "lsoa_code         object\n",
       "borough           object\n",
       "major_category    object\n",
       "minor_category    object\n",
       "total              int64\n",
       "year               int64\n",
       "month              int64\n",
       "dtype: object"
      ]
     },
     "execution_count": 26,
     "metadata": {},
     "output_type": "execute_result"
    }
   ],
   "source": [
    "data.dtypes"
   ]
  },
  {
   "cell_type": "code",
   "execution_count": 27,
   "metadata": {},
   "outputs": [
    {
     "data": {
      "text/html": [
       "<div>\n",
       "<style scoped>\n",
       "    .dataframe tbody tr th:only-of-type {\n",
       "        vertical-align: middle;\n",
       "    }\n",
       "\n",
       "    .dataframe tbody tr th {\n",
       "        vertical-align: top;\n",
       "    }\n",
       "\n",
       "    .dataframe thead th {\n",
       "        text-align: right;\n",
       "    }\n",
       "</style>\n",
       "<table border=\"1\" class=\"dataframe\">\n",
       "  <thead>\n",
       "    <tr style=\"text-align: right;\">\n",
       "      <th></th>\n",
       "      <th>lsoa_code</th>\n",
       "      <th>borough</th>\n",
       "      <th>major_category</th>\n",
       "      <th>minor_category</th>\n",
       "      <th>total</th>\n",
       "      <th>year</th>\n",
       "      <th>month</th>\n",
       "    </tr>\n",
       "  </thead>\n",
       "  <tbody>\n",
       "    <tr>\n",
       "      <th>0</th>\n",
       "      <td>E01000006</td>\n",
       "      <td>Barking and Dagenham</td>\n",
       "      <td>Burglary</td>\n",
       "      <td>Burglary in a Dwelling</td>\n",
       "      <td>0</td>\n",
       "      <td>2016</td>\n",
       "      <td>6</td>\n",
       "    </tr>\n",
       "    <tr>\n",
       "      <th>1</th>\n",
       "      <td>E01000006</td>\n",
       "      <td>Barking and Dagenham</td>\n",
       "      <td>Criminal Damage</td>\n",
       "      <td>Criminal Damage To Motor Vehicle</td>\n",
       "      <td>0</td>\n",
       "      <td>2016</td>\n",
       "      <td>1</td>\n",
       "    </tr>\n",
       "    <tr>\n",
       "      <th>2</th>\n",
       "      <td>E01000006</td>\n",
       "      <td>Barking and Dagenham</td>\n",
       "      <td>Burglary</td>\n",
       "      <td>Burglary in a Dwelling</td>\n",
       "      <td>0</td>\n",
       "      <td>2016</td>\n",
       "      <td>8</td>\n",
       "    </tr>\n",
       "    <tr>\n",
       "      <th>3</th>\n",
       "      <td>E01000006</td>\n",
       "      <td>Barking and Dagenham</td>\n",
       "      <td>Theft and Handling</td>\n",
       "      <td>Theft/Taking of Pedal Cycle</td>\n",
       "      <td>0</td>\n",
       "      <td>2016</td>\n",
       "      <td>4</td>\n",
       "    </tr>\n",
       "    <tr>\n",
       "      <th>4</th>\n",
       "      <td>E01000006</td>\n",
       "      <td>Barking and Dagenham</td>\n",
       "      <td>Violence Against the Person</td>\n",
       "      <td>Other violence</td>\n",
       "      <td>2</td>\n",
       "      <td>2016</td>\n",
       "      <td>11</td>\n",
       "    </tr>\n",
       "  </tbody>\n",
       "</table>\n",
       "</div>"
      ],
      "text/plain": [
       "   lsoa_code               borough               major_category  \\\n",
       "0  E01000006  Barking and Dagenham                     Burglary   \n",
       "1  E01000006  Barking and Dagenham              Criminal Damage   \n",
       "2  E01000006  Barking and Dagenham                     Burglary   \n",
       "3  E01000006  Barking and Dagenham           Theft and Handling   \n",
       "4  E01000006  Barking and Dagenham  Violence Against the Person   \n",
       "\n",
       "                     minor_category  total  year  month  \n",
       "0            Burglary in a Dwelling      0  2016      6  \n",
       "1  Criminal Damage To Motor Vehicle      0  2016      1  \n",
       "2            Burglary in a Dwelling      0  2016      8  \n",
       "3       Theft/Taking of Pedal Cycle      0  2016      4  \n",
       "4                    Other violence      2  2016     11  "
      ]
     },
     "execution_count": 27,
     "metadata": {},
     "output_type": "execute_result"
    }
   ],
   "source": [
    "data.head()"
   ]
  },
  {
   "cell_type": "code",
   "execution_count": 28,
   "metadata": {},
   "outputs": [
    {
     "data": {
      "text/plain": [
       "array(['Burglary', 'Criminal Damage', 'Theft and Handling',\n",
       "       'Violence Against the Person', 'Drugs', 'Sexual Offences',\n",
       "       'Robbery', 'Other Notifiable Offences', 'Fraud or Forgery'],\n",
       "      dtype=object)"
      ]
     },
     "execution_count": 28,
     "metadata": {},
     "output_type": "execute_result"
    }
   ],
   "source": [
    "#Exploration class of data\n",
    "data['major_category'].unique()#Exploration class of data"
   ]
  },
  {
   "cell_type": "code",
   "execution_count": 29,
   "metadata": {},
   "outputs": [
    {
     "data": {
      "text/plain": [
       "array(['Burglary in a Dwelling', 'Criminal Damage To Motor Vehicle',\n",
       "       'Theft/Taking of Pedal Cycle', 'Other violence',\n",
       "       'Possession Of Drugs', 'Assault with Injury', 'Offensive Weapon',\n",
       "       'Other Theft Person', 'Handling Stolen Goods', 'Common Assault',\n",
       "       'Criminal Damage To Dwelling', 'Harassment', 'Drug Trafficking',\n",
       "       'Other Sexual', 'Personal Property',\n",
       "       'Theft/Taking Of Motor Vehicle', 'Other Criminal Damage',\n",
       "       'Other Notifiable', 'Going Equipped', 'Other Drugs',\n",
       "       'Theft From Motor Vehicle', 'Theft From Shops',\n",
       "       'Criminal Damage To Other Building', 'Wounding/GBH',\n",
       "       'Other Fraud & Forgery', 'Motor Vehicle Interference & Tampering',\n",
       "       'Other Theft', 'Burglary in Other Buildings', 'Business Property',\n",
       "       'Murder', 'Counted per Victim', 'Rape'], dtype=object)"
      ]
     },
     "execution_count": 29,
     "metadata": {},
     "output_type": "execute_result"
    }
   ],
   "source": [
    "#Exploration class of data\n",
    "data['minor_category'].unique()"
   ]
  },
  {
   "cell_type": "code",
   "execution_count": 30,
   "metadata": {},
   "outputs": [
    {
     "data": {
      "text/plain": [
       "array(['Barking and Dagenham', 'Barnet', 'Bexley', 'Brent', 'Bromley',\n",
       "       'Camden', 'City of London', 'Croydon', 'Ealing', 'Enfield',\n",
       "       'Greenwich', 'Hackney', 'Hammersmith and Fulham', 'Haringey',\n",
       "       'Harrow', 'Havering', 'Hillingdon', 'Hounslow', 'Islington',\n",
       "       'Kensington and Chelsea', 'Kingston upon Thames', 'Lambeth',\n",
       "       'Lewisham', 'Merton', 'Newham', 'Redbridge',\n",
       "       'Richmond upon Thames', 'Southwark', 'Sutton', 'Tower Hamlets',\n",
       "       'Waltham Forest', 'Wandsworth', 'Westminster'], dtype=object)"
      ]
     },
     "execution_count": 30,
     "metadata": {},
     "output_type": "execute_result"
    }
   ],
   "source": [
    "#Exploration class of data\n",
    "data['borough'].unique()"
   ]
  },
  {
   "cell_type": "code",
   "execution_count": 31,
   "metadata": {},
   "outputs": [
    {
     "data": {
      "text/html": [
       "<div>\n",
       "<style scoped>\n",
       "    .dataframe tbody tr th:only-of-type {\n",
       "        vertical-align: middle;\n",
       "    }\n",
       "\n",
       "    .dataframe tbody tr th {\n",
       "        vertical-align: top;\n",
       "    }\n",
       "\n",
       "    .dataframe thead th {\n",
       "        text-align: right;\n",
       "    }\n",
       "</style>\n",
       "<table border=\"1\" class=\"dataframe\">\n",
       "  <thead>\n",
       "    <tr style=\"text-align: right;\">\n",
       "      <th></th>\n",
       "      <th></th>\n",
       "      <th>total</th>\n",
       "    </tr>\n",
       "    <tr>\n",
       "      <th>borough</th>\n",
       "      <th>major_category</th>\n",
       "      <th></th>\n",
       "    </tr>\n",
       "  </thead>\n",
       "  <tbody>\n",
       "    <tr>\n",
       "      <th rowspan=\"9\" valign=\"top\">Barking and Dagenham</th>\n",
       "      <th>Burglary</th>\n",
       "      <td>201</td>\n",
       "    </tr>\n",
       "    <tr>\n",
       "      <th>Criminal Damage</th>\n",
       "      <td>413</td>\n",
       "    </tr>\n",
       "    <tr>\n",
       "      <th>Drugs</th>\n",
       "      <td>229</td>\n",
       "    </tr>\n",
       "    <tr>\n",
       "      <th>Fraud or Forgery</th>\n",
       "      <td>75</td>\n",
       "    </tr>\n",
       "    <tr>\n",
       "      <th>Other Notifiable Offences</th>\n",
       "      <td>148</td>\n",
       "    </tr>\n",
       "    <tr>\n",
       "      <th>Robbery</th>\n",
       "      <td>179</td>\n",
       "    </tr>\n",
       "    <tr>\n",
       "      <th>Sexual Offences</th>\n",
       "      <td>21</td>\n",
       "    </tr>\n",
       "    <tr>\n",
       "      <th>Theft and Handling</th>\n",
       "      <td>733</td>\n",
       "    </tr>\n",
       "    <tr>\n",
       "      <th>Violence Against the Person</th>\n",
       "      <td>629</td>\n",
       "    </tr>\n",
       "    <tr>\n",
       "      <th rowspan=\"9\" valign=\"top\">Barnet</th>\n",
       "      <th>Burglary</th>\n",
       "      <td>425</td>\n",
       "    </tr>\n",
       "    <tr>\n",
       "      <th>Criminal Damage</th>\n",
       "      <td>819</td>\n",
       "    </tr>\n",
       "    <tr>\n",
       "      <th>Drugs</th>\n",
       "      <td>410</td>\n",
       "    </tr>\n",
       "    <tr>\n",
       "      <th>Fraud or Forgery</th>\n",
       "      <td>71</td>\n",
       "    </tr>\n",
       "    <tr>\n",
       "      <th>Other Notifiable Offences</th>\n",
       "      <td>250</td>\n",
       "    </tr>\n",
       "    <tr>\n",
       "      <th>Robbery</th>\n",
       "      <td>324</td>\n",
       "    </tr>\n",
       "    <tr>\n",
       "      <th>Sexual Offences</th>\n",
       "      <td>30</td>\n",
       "    </tr>\n",
       "    <tr>\n",
       "      <th>Theft and Handling</th>\n",
       "      <td>1415</td>\n",
       "    </tr>\n",
       "    <tr>\n",
       "      <th>Violence Against the Person</th>\n",
       "      <td>1148</td>\n",
       "    </tr>\n",
       "    <tr>\n",
       "      <th rowspan=\"9\" valign=\"top\">Bexley</th>\n",
       "      <th>Burglary</th>\n",
       "      <td>256</td>\n",
       "    </tr>\n",
       "    <tr>\n",
       "      <th>Criminal Damage</th>\n",
       "      <td>525</td>\n",
       "    </tr>\n",
       "    <tr>\n",
       "      <th>Drugs</th>\n",
       "      <td>307</td>\n",
       "    </tr>\n",
       "    <tr>\n",
       "      <th>Fraud or Forgery</th>\n",
       "      <td>45</td>\n",
       "    </tr>\n",
       "    <tr>\n",
       "      <th>Other Notifiable Offences</th>\n",
       "      <td>178</td>\n",
       "    </tr>\n",
       "    <tr>\n",
       "      <th>Robbery</th>\n",
       "      <td>210</td>\n",
       "    </tr>\n",
       "    <tr>\n",
       "      <th>Sexual Offences</th>\n",
       "      <td>14</td>\n",
       "    </tr>\n",
       "    <tr>\n",
       "      <th>Theft and Handling</th>\n",
       "      <td>948</td>\n",
       "    </tr>\n",
       "    <tr>\n",
       "      <th>Violence Against the Person</th>\n",
       "      <td>803</td>\n",
       "    </tr>\n",
       "    <tr>\n",
       "      <th rowspan=\"3\" valign=\"top\">Brent</th>\n",
       "      <th>Burglary</th>\n",
       "      <td>350</td>\n",
       "    </tr>\n",
       "    <tr>\n",
       "      <th>Criminal Damage</th>\n",
       "      <td>625</td>\n",
       "    </tr>\n",
       "    <tr>\n",
       "      <th>Drugs</th>\n",
       "      <td>407</td>\n",
       "    </tr>\n",
       "    <tr>\n",
       "      <th>...</th>\n",
       "      <th>...</th>\n",
       "      <td>...</td>\n",
       "    </tr>\n",
       "    <tr>\n",
       "      <th rowspan=\"3\" valign=\"top\">Tower Hamlets</th>\n",
       "      <th>Sexual Offences</th>\n",
       "      <td>34</td>\n",
       "    </tr>\n",
       "    <tr>\n",
       "      <th>Theft and Handling</th>\n",
       "      <td>1070</td>\n",
       "    </tr>\n",
       "    <tr>\n",
       "      <th>Violence Against the Person</th>\n",
       "      <td>811</td>\n",
       "    </tr>\n",
       "    <tr>\n",
       "      <th rowspan=\"9\" valign=\"top\">Waltham Forest</th>\n",
       "      <th>Burglary</th>\n",
       "      <td>254</td>\n",
       "    </tr>\n",
       "    <tr>\n",
       "      <th>Criminal Damage</th>\n",
       "      <td>504</td>\n",
       "    </tr>\n",
       "    <tr>\n",
       "      <th>Drugs</th>\n",
       "      <td>314</td>\n",
       "    </tr>\n",
       "    <tr>\n",
       "      <th>Fraud or Forgery</th>\n",
       "      <td>62</td>\n",
       "    </tr>\n",
       "    <tr>\n",
       "      <th>Other Notifiable Offences</th>\n",
       "      <td>210</td>\n",
       "    </tr>\n",
       "    <tr>\n",
       "      <th>Robbery</th>\n",
       "      <td>265</td>\n",
       "    </tr>\n",
       "    <tr>\n",
       "      <th>Sexual Offences</th>\n",
       "      <td>33</td>\n",
       "    </tr>\n",
       "    <tr>\n",
       "      <th>Theft and Handling</th>\n",
       "      <td>1034</td>\n",
       "    </tr>\n",
       "    <tr>\n",
       "      <th>Violence Against the Person</th>\n",
       "      <td>828</td>\n",
       "    </tr>\n",
       "    <tr>\n",
       "      <th rowspan=\"9\" valign=\"top\">Wandsworth</th>\n",
       "      <th>Burglary</th>\n",
       "      <td>338</td>\n",
       "    </tr>\n",
       "    <tr>\n",
       "      <th>Criminal Damage</th>\n",
       "      <td>687</td>\n",
       "    </tr>\n",
       "    <tr>\n",
       "      <th>Drugs</th>\n",
       "      <td>345</td>\n",
       "    </tr>\n",
       "    <tr>\n",
       "      <th>Fraud or Forgery</th>\n",
       "      <td>79</td>\n",
       "    </tr>\n",
       "    <tr>\n",
       "      <th>Other Notifiable Offences</th>\n",
       "      <td>249</td>\n",
       "    </tr>\n",
       "    <tr>\n",
       "      <th>Robbery</th>\n",
       "      <td>324</td>\n",
       "    </tr>\n",
       "    <tr>\n",
       "      <th>Sexual Offences</th>\n",
       "      <td>31</td>\n",
       "    </tr>\n",
       "    <tr>\n",
       "      <th>Theft and Handling</th>\n",
       "      <td>1251</td>\n",
       "    </tr>\n",
       "    <tr>\n",
       "      <th>Violence Against the Person</th>\n",
       "      <td>1023</td>\n",
       "    </tr>\n",
       "    <tr>\n",
       "      <th rowspan=\"9\" valign=\"top\">Westminster</th>\n",
       "      <th>Burglary</th>\n",
       "      <td>207</td>\n",
       "    </tr>\n",
       "    <tr>\n",
       "      <th>Criminal Damage</th>\n",
       "      <td>503</td>\n",
       "    </tr>\n",
       "    <tr>\n",
       "      <th>Drugs</th>\n",
       "      <td>289</td>\n",
       "    </tr>\n",
       "    <tr>\n",
       "      <th>Fraud or Forgery</th>\n",
       "      <td>80</td>\n",
       "    </tr>\n",
       "    <tr>\n",
       "      <th>Other Notifiable Offences</th>\n",
       "      <td>188</td>\n",
       "    </tr>\n",
       "    <tr>\n",
       "      <th>Robbery</th>\n",
       "      <td>197</td>\n",
       "    </tr>\n",
       "    <tr>\n",
       "      <th>Sexual Offences</th>\n",
       "      <td>28</td>\n",
       "    </tr>\n",
       "    <tr>\n",
       "      <th>Theft and Handling</th>\n",
       "      <td>935</td>\n",
       "    </tr>\n",
       "    <tr>\n",
       "      <th>Violence Against the Person</th>\n",
       "      <td>762</td>\n",
       "    </tr>\n",
       "  </tbody>\n",
       "</table>\n",
       "<p>295 rows × 1 columns</p>\n",
       "</div>"
      ],
      "text/plain": [
       "                                                  total\n",
       "borough              major_category                    \n",
       "Barking and Dagenham Burglary                       201\n",
       "                     Criminal Damage                413\n",
       "                     Drugs                          229\n",
       "                     Fraud or Forgery                75\n",
       "                     Other Notifiable Offences      148\n",
       "                     Robbery                        179\n",
       "                     Sexual Offences                 21\n",
       "                     Theft and Handling             733\n",
       "                     Violence Against the Person    629\n",
       "Barnet               Burglary                       425\n",
       "                     Criminal Damage                819\n",
       "                     Drugs                          410\n",
       "                     Fraud or Forgery                71\n",
       "                     Other Notifiable Offences      250\n",
       "                     Robbery                        324\n",
       "                     Sexual Offences                 30\n",
       "                     Theft and Handling            1415\n",
       "                     Violence Against the Person   1148\n",
       "Bexley               Burglary                       256\n",
       "                     Criminal Damage                525\n",
       "                     Drugs                          307\n",
       "                     Fraud or Forgery                45\n",
       "                     Other Notifiable Offences      178\n",
       "                     Robbery                        210\n",
       "                     Sexual Offences                 14\n",
       "                     Theft and Handling             948\n",
       "                     Violence Against the Person    803\n",
       "Brent                Burglary                       350\n",
       "                     Criminal Damage                625\n",
       "                     Drugs                          407\n",
       "...                                                 ...\n",
       "Tower Hamlets        Sexual Offences                 34\n",
       "                     Theft and Handling            1070\n",
       "                     Violence Against the Person    811\n",
       "Waltham Forest       Burglary                       254\n",
       "                     Criminal Damage                504\n",
       "                     Drugs                          314\n",
       "                     Fraud or Forgery                62\n",
       "                     Other Notifiable Offences      210\n",
       "                     Robbery                        265\n",
       "                     Sexual Offences                 33\n",
       "                     Theft and Handling            1034\n",
       "                     Violence Against the Person    828\n",
       "Wandsworth           Burglary                       338\n",
       "                     Criminal Damage                687\n",
       "                     Drugs                          345\n",
       "                     Fraud or Forgery                79\n",
       "                     Other Notifiable Offences      249\n",
       "                     Robbery                        324\n",
       "                     Sexual Offences                 31\n",
       "                     Theft and Handling            1251\n",
       "                     Violence Against the Person   1023\n",
       "Westminster          Burglary                       207\n",
       "                     Criminal Damage                503\n",
       "                     Drugs                          289\n",
       "                     Fraud or Forgery                80\n",
       "                     Other Notifiable Offences      188\n",
       "                     Robbery                        197\n",
       "                     Sexual Offences                 28\n",
       "                     Theft and Handling             935\n",
       "                     Violence Against the Person    762\n",
       "\n",
       "[295 rows x 1 columns]"
      ]
     },
     "execution_count": 31,
     "metadata": {},
     "output_type": "execute_result"
    }
   ],
   "source": [
    "#Explore the total of crime recorded in borough by crime type\n",
    "pd.DataFrame(data.groupby(['borough','major_category']).total.count())"
   ]
  },
  {
   "cell_type": "code",
   "execution_count": 32,
   "metadata": {},
   "outputs": [
    {
     "data": {
      "text/html": [
       "<div>\n",
       "<style scoped>\n",
       "    .dataframe tbody tr th:only-of-type {\n",
       "        vertical-align: middle;\n",
       "    }\n",
       "\n",
       "    .dataframe tbody tr th {\n",
       "        vertical-align: top;\n",
       "    }\n",
       "\n",
       "    .dataframe thead th {\n",
       "        text-align: right;\n",
       "    }\n",
       "</style>\n",
       "<table border=\"1\" class=\"dataframe\">\n",
       "  <thead>\n",
       "    <tr style=\"text-align: right;\">\n",
       "      <th></th>\n",
       "      <th>min</th>\n",
       "      <th>max</th>\n",
       "      <th>mean</th>\n",
       "    </tr>\n",
       "    <tr>\n",
       "      <th>major_category</th>\n",
       "      <th></th>\n",
       "      <th></th>\n",
       "      <th></th>\n",
       "    </tr>\n",
       "  </thead>\n",
       "  <tbody>\n",
       "    <tr>\n",
       "      <th>Burglary</th>\n",
       "      <td>0</td>\n",
       "      <td>17</td>\n",
       "      <td>0.573332</td>\n",
       "    </tr>\n",
       "    <tr>\n",
       "      <th>Criminal Damage</th>\n",
       "      <td>0</td>\n",
       "      <td>16</td>\n",
       "      <td>0.280702</td>\n",
       "    </tr>\n",
       "    <tr>\n",
       "      <th>Drugs</th>\n",
       "      <td>0</td>\n",
       "      <td>30</td>\n",
       "      <td>0.307767</td>\n",
       "    </tr>\n",
       "    <tr>\n",
       "      <th>Fraud or Forgery</th>\n",
       "      <td>0</td>\n",
       "      <td>0</td>\n",
       "      <td>0.000000</td>\n",
       "    </tr>\n",
       "    <tr>\n",
       "      <th>Other Notifiable Offences</th>\n",
       "      <td>0</td>\n",
       "      <td>8</td>\n",
       "      <td>0.173519</td>\n",
       "    </tr>\n",
       "    <tr>\n",
       "      <th>Robbery</th>\n",
       "      <td>0</td>\n",
       "      <td>17</td>\n",
       "      <td>0.206604</td>\n",
       "    </tr>\n",
       "    <tr>\n",
       "      <th>Sexual Offences</th>\n",
       "      <td>0</td>\n",
       "      <td>0</td>\n",
       "      <td>0.000000</td>\n",
       "    </tr>\n",
       "    <tr>\n",
       "      <th>Theft and Handling</th>\n",
       "      <td>0</td>\n",
       "      <td>112</td>\n",
       "      <td>0.677716</td>\n",
       "    </tr>\n",
       "    <tr>\n",
       "      <th>Violence Against the Person</th>\n",
       "      <td>0</td>\n",
       "      <td>32</td>\n",
       "      <td>0.665960</td>\n",
       "    </tr>\n",
       "  </tbody>\n",
       "</table>\n",
       "</div>"
      ],
      "text/plain": [
       "                             min  max      mean\n",
       "major_category                                 \n",
       "Burglary                       0   17  0.573332\n",
       "Criminal Damage                0   16  0.280702\n",
       "Drugs                          0   30  0.307767\n",
       "Fraud or Forgery               0    0  0.000000\n",
       "Other Notifiable Offences      0    8  0.173519\n",
       "Robbery                        0   17  0.206604\n",
       "Sexual Offences                0    0  0.000000\n",
       "Theft and Handling             0  112  0.677716\n",
       "Violence Against the Person    0   32  0.665960"
      ]
     },
     "execution_count": 32,
     "metadata": {},
     "output_type": "execute_result"
    }
   ],
   "source": [
    "data.groupby('major_category').total.agg(['min', 'max','mean'])"
   ]
  },
  {
   "cell_type": "code",
   "execution_count": 33,
   "metadata": {},
   "outputs": [
    {
     "data": {
      "text/html": [
       "<div>\n",
       "<style scoped>\n",
       "    .dataframe tbody tr th:only-of-type {\n",
       "        vertical-align: middle;\n",
       "    }\n",
       "\n",
       "    .dataframe tbody tr th {\n",
       "        vertical-align: top;\n",
       "    }\n",
       "\n",
       "    .dataframe thead th {\n",
       "        text-align: right;\n",
       "    }\n",
       "</style>\n",
       "<table border=\"1\" class=\"dataframe\">\n",
       "  <thead>\n",
       "    <tr style=\"text-align: right;\">\n",
       "      <th></th>\n",
       "      <th></th>\n",
       "      <th>total</th>\n",
       "    </tr>\n",
       "    <tr>\n",
       "      <th>major_category</th>\n",
       "      <th>minor_category</th>\n",
       "      <th></th>\n",
       "    </tr>\n",
       "  </thead>\n",
       "  <tbody>\n",
       "    <tr>\n",
       "      <th rowspan=\"2\" valign=\"top\">Burglary</th>\n",
       "      <th>Burglary in Other Buildings</th>\n",
       "      <td>4582</td>\n",
       "    </tr>\n",
       "    <tr>\n",
       "      <th>Burglary in a Dwelling</th>\n",
       "      <td>4500</td>\n",
       "    </tr>\n",
       "    <tr>\n",
       "      <th rowspan=\"4\" valign=\"top\">Criminal Damage</th>\n",
       "      <th>Criminal Damage To Dwelling</th>\n",
       "      <td>4429</td>\n",
       "    </tr>\n",
       "    <tr>\n",
       "      <th>Criminal Damage To Motor Vehicle</th>\n",
       "      <td>4375</td>\n",
       "    </tr>\n",
       "    <tr>\n",
       "      <th>Criminal Damage To Other Building</th>\n",
       "      <td>4460</td>\n",
       "    </tr>\n",
       "    <tr>\n",
       "      <th>Other Criminal Damage</th>\n",
       "      <td>4463</td>\n",
       "    </tr>\n",
       "    <tr>\n",
       "      <th rowspan=\"3\" valign=\"top\">Drugs</th>\n",
       "      <th>Drug Trafficking</th>\n",
       "      <td>4396</td>\n",
       "    </tr>\n",
       "    <tr>\n",
       "      <th>Other Drugs</th>\n",
       "      <td>1380</td>\n",
       "    </tr>\n",
       "    <tr>\n",
       "      <th>Possession Of Drugs</th>\n",
       "      <td>4537</td>\n",
       "    </tr>\n",
       "    <tr>\n",
       "      <th rowspan=\"2\" valign=\"top\">Fraud or Forgery</th>\n",
       "      <th>Counted per Victim</th>\n",
       "      <td>1271</td>\n",
       "    </tr>\n",
       "    <tr>\n",
       "      <th>Other Fraud &amp; Forgery</th>\n",
       "      <td>869</td>\n",
       "    </tr>\n",
       "    <tr>\n",
       "      <th rowspan=\"2\" valign=\"top\">Other Notifiable Offences</th>\n",
       "      <th>Going Equipped</th>\n",
       "      <td>2258</td>\n",
       "    </tr>\n",
       "    <tr>\n",
       "      <th>Other Notifiable</th>\n",
       "      <td>4479</td>\n",
       "    </tr>\n",
       "    <tr>\n",
       "      <th rowspan=\"2\" valign=\"top\">Robbery</th>\n",
       "      <th>Business Property</th>\n",
       "      <td>3535</td>\n",
       "    </tr>\n",
       "    <tr>\n",
       "      <th>Personal Property</th>\n",
       "      <td>4490</td>\n",
       "    </tr>\n",
       "    <tr>\n",
       "      <th rowspan=\"2\" valign=\"top\">Sexual Offences</th>\n",
       "      <th>Other Sexual</th>\n",
       "      <td>671</td>\n",
       "    </tr>\n",
       "    <tr>\n",
       "      <th>Rape</th>\n",
       "      <td>246</td>\n",
       "    </tr>\n",
       "    <tr>\n",
       "      <th rowspan=\"8\" valign=\"top\">Theft and Handling</th>\n",
       "      <th>Handling Stolen Goods</th>\n",
       "      <td>3765</td>\n",
       "    </tr>\n",
       "    <tr>\n",
       "      <th>Motor Vehicle Interference &amp; Tampering</th>\n",
       "      <td>4469</td>\n",
       "    </tr>\n",
       "    <tr>\n",
       "      <th>Other Theft</th>\n",
       "      <td>4431</td>\n",
       "    </tr>\n",
       "    <tr>\n",
       "      <th>Other Theft Person</th>\n",
       "      <td>4336</td>\n",
       "    </tr>\n",
       "    <tr>\n",
       "      <th>Theft From Motor Vehicle</th>\n",
       "      <td>4421</td>\n",
       "    </tr>\n",
       "    <tr>\n",
       "      <th>Theft From Shops</th>\n",
       "      <td>3411</td>\n",
       "    </tr>\n",
       "    <tr>\n",
       "      <th>Theft/Taking Of Motor Vehicle</th>\n",
       "      <td>4531</td>\n",
       "    </tr>\n",
       "    <tr>\n",
       "      <th>Theft/Taking of Pedal Cycle</th>\n",
       "      <td>4395</td>\n",
       "    </tr>\n",
       "    <tr>\n",
       "      <th rowspan=\"7\" valign=\"top\">Violence Against the Person</th>\n",
       "      <th>Assault with Injury</th>\n",
       "      <td>4564</td>\n",
       "    </tr>\n",
       "    <tr>\n",
       "      <th>Common Assault</th>\n",
       "      <td>4435</td>\n",
       "    </tr>\n",
       "    <tr>\n",
       "      <th>Harassment</th>\n",
       "      <td>4525</td>\n",
       "    </tr>\n",
       "    <tr>\n",
       "      <th>Murder</th>\n",
       "      <td>808</td>\n",
       "    </tr>\n",
       "    <tr>\n",
       "      <th>Offensive Weapon</th>\n",
       "      <td>4175</td>\n",
       "    </tr>\n",
       "    <tr>\n",
       "      <th>Other violence</th>\n",
       "      <td>4378</td>\n",
       "    </tr>\n",
       "    <tr>\n",
       "      <th>Wounding/GBH</th>\n",
       "      <td>4462</td>\n",
       "    </tr>\n",
       "  </tbody>\n",
       "</table>\n",
       "</div>"
      ],
      "text/plain": [
       "                                                                    total\n",
       "major_category              minor_category                               \n",
       "Burglary                    Burglary in Other Buildings              4582\n",
       "                            Burglary in a Dwelling                   4500\n",
       "Criminal Damage             Criminal Damage To Dwelling              4429\n",
       "                            Criminal Damage To Motor Vehicle         4375\n",
       "                            Criminal Damage To Other Building        4460\n",
       "                            Other Criminal Damage                    4463\n",
       "Drugs                       Drug Trafficking                         4396\n",
       "                            Other Drugs                              1380\n",
       "                            Possession Of Drugs                      4537\n",
       "Fraud or Forgery            Counted per Victim                       1271\n",
       "                            Other Fraud & Forgery                     869\n",
       "Other Notifiable Offences   Going Equipped                           2258\n",
       "                            Other Notifiable                         4479\n",
       "Robbery                     Business Property                        3535\n",
       "                            Personal Property                        4490\n",
       "Sexual Offences             Other Sexual                              671\n",
       "                            Rape                                      246\n",
       "Theft and Handling          Handling Stolen Goods                    3765\n",
       "                            Motor Vehicle Interference & Tampering   4469\n",
       "                            Other Theft                              4431\n",
       "                            Other Theft Person                       4336\n",
       "                            Theft From Motor Vehicle                 4421\n",
       "                            Theft From Shops                         3411\n",
       "                            Theft/Taking Of Motor Vehicle            4531\n",
       "                            Theft/Taking of Pedal Cycle              4395\n",
       "Violence Against the Person Assault with Injury                      4564\n",
       "                            Common Assault                           4435\n",
       "                            Harassment                               4525\n",
       "                            Murder                                    808\n",
       "                            Offensive Weapon                         4175\n",
       "                            Other violence                           4378\n",
       "                            Wounding/GBH                             4462"
      ]
     },
     "execution_count": 33,
     "metadata": {},
     "output_type": "execute_result"
    }
   ],
   "source": [
    "#Explore the total of crime under major and minor category\n",
    "pd.DataFrame(data.groupby(['major_category','minor_category']).total.count())"
   ]
  },
  {
   "cell_type": "markdown",
   "metadata": {},
   "source": [
    "### Numerical conversion\n",
    "#### 1.Convert all strings values to numerical value. \n",
    "#### 2.Show data state after conversion. \n",
    "#### 3.Check what is the unique string contains inside columns value\n",
    "#### 4.Call unique function. \n",
    "#### 5.Finally, show correlation heatmap between numerical values in dataset using Seaborn "
   ]
  },
  {
   "cell_type": "code",
   "execution_count": 34,
   "metadata": {},
   "outputs": [],
   "source": [
    "data_corr = data.loc[:, \"lsoa_code\":\"month\"]\n",
    "\n",
    "#Define a generic function using Pandas replace function\n",
    "def coding(col, codeDict):\n",
    "  colCoded = pd.Series(col, copy=True)\n",
    "  for key, value in codeDict.items():\n",
    "    colCoded.replace(key, value, inplace=True)\n",
    "  return colCoded\n",
    " \n",
    "#Coding to numerical value\n",
    "data_corr[\"major_category\"] = coding(data_corr[\"major_category\"], {'Burglary':0,'Criminal Damage':1, 'Drugs':2,'Robbery':3, 'Theft and Handling':4,'Violence Against the Person':5, 'Fraud or Forgery':6,'Other Notifiable Offences':7,'Sexual Offences':8})\n",
    "##############################\n",
    "data_corr[\"minor_category\"] = coding(data_corr[\"minor_category\"], {'Burglary in Other Buildings':0,'Other violence':1,'Personal Property':2,'Other Theft':3,'Offensive Weapon':4,'Criminal Damage To Other Building':5,'Theft/Taking of Pedal Cycle':6,'Motor Vehicle Interference & Tampering':7,'Theft/Taking Of Motor Vehicle':8,'Wounding/GBH':9,'Other Theft Person':10,'Common Assault':11,'Theft From Shops':12,'Possession Of Drugs':13,'Harassment':14,'Handling Stolen Goods':15,'Criminal Damage To Dwelling':16,'Burglary in a Dwelling':17,'Criminal Damage To Motor Vehicle':18,'Other Criminal Damage':19,'Counted per Victim':20,'Going Equipped':21,'Other Fraud & Forgery':22,'Assault with Injury':23,'Drug Trafficking':24, 'Other Drugs':25,'Business Property':26,'Other Notifiable':27,'Other Sexual':28, 'Theft From Motor Vehicle':29,'Rape':30,'Murder':31})\n",
    "##############################\n",
    "data_corr[\"borough\"] = coding(data_corr[\"borough\"], {'Barking and Dagenham':0,'Barnet':1, 'Bexley':2,'Brent':3, 'Bromley':4,'Camden':5, 'City of London':6,'Croydon':7,'Ealing':8,'Enfield':9,'Greenwich':10, 'Hackney':11,'Hammersmith and Fulham':12, 'Haringey':13,'Harrow':14,'Havering':15,'Hillingdon':16,'Hounslow':17,'Islington':18, 'Kensington and Chelsea':19,'Kingston upon Thames':20,'Lambeth':21,'Lewisham':22,'Merton':23, 'Newham':24,'Redbridge':25,'Richmond upon Thames':26,'Southwark':27,'Sutton':28, 'Tower Hamlets':29,'Waltham Forest':30,'Wandsworth':31,'Westminster':32})\n",
    "\n",
    "#print data_corr.head()"
   ]
  },
  {
   "cell_type": "code",
   "execution_count": 35,
   "metadata": {},
   "outputs": [
    {
     "name": "stdout",
     "output_type": "stream",
     "text": [
      "        lsoa_code  borough  major_category  minor_category  total  year  month\n",
      "0       E01000006        0               0              17      0  2016      6\n",
      "1       E01000006        0               1              18      0  2016      1\n",
      "2       E01000006        0               0              17      0  2016      8\n",
      "3       E01000006        0               4               6      0  2016      4\n",
      "4       E01000006        0               5               1      2  2016     11\n",
      "5       E01000006        0               2              13      0  2016      2\n",
      "6       E01000006        0               5              23      1  2016      5\n",
      "7       E01000006        0               5               4      0  2016      4\n",
      "8       E01000006        0               4              10      0  2016      8\n",
      "9       E01000006        0               5              23      0  2016      6\n",
      "10      E01000006        0               4              10      1  2016      4\n",
      "11      E01000006        0               2              13      0  2016      5\n",
      "12      E01000006        0               4              15      0  2016      5\n",
      "13      E01000006        0               5              11      0  2016      6\n",
      "14      E01000006        0               1              16      0  2016      2\n",
      "15      E01000006        0               5              14      4  2016      7\n",
      "16      E01000006        0               5              14      1  2016      8\n",
      "17      E01000006        0               5               1      0  2016      9\n",
      "18      E01000006        0               2              24      0  2016     11\n",
      "19      E01000006        0               8              28      0  2016     11\n",
      "20      E01000006        0               3               2      0  2016      8\n",
      "21      E01000006        0               4               8      1  2016      2\n",
      "22      E01000006        0               1              19      0  2016      5\n",
      "23      E01000006        0               7              27      0  2016     11\n",
      "24      E01000006        0               2              13      0  2016      7\n",
      "25      E01000007        0               7              21      0  2016      3\n",
      "26      E01000007        0               1              19      0  2016     10\n",
      "27      E01000007        0               4              15      0  2016      9\n",
      "28      E01000007        0               2              25      0  2016      1\n",
      "29      E01000007        0               4              29      0  2016     11\n",
      "...           ...      ...             ...             ...    ...   ...    ...\n",
      "116017  E01033607       32               5              23      0  2016      3\n",
      "116018  E01033607       32               1              16      0  2016     12\n",
      "116019  E01033607       32               3              26      0  2016      2\n",
      "116020  E01033607       32               4               7      2  2016      4\n",
      "116021  E01033607       32               5              11      1  2016      2\n",
      "116022  E01033607       32               2              24      0  2016      5\n",
      "116023  E01033607       32               4               7      0  2016      9\n",
      "116024  E01033607       32               1               5      0  2016     12\n",
      "116025  E01033607       32               0               0      0  2016      6\n",
      "116026  E01033607       32               5              23      0  2016     10\n",
      "116027  E01033608       32               4              10      0  2016      8\n",
      "116028  E01033608       32               4               3      0  2016      4\n",
      "116029  E01033608       32               3              26      0  2016      3\n",
      "116030  E01033608       32               5               1      0  2016      3\n",
      "116031  E01033608       32               1              16      0  2016     11\n",
      "116032  E01033608       32               1              16      0  2016     12\n",
      "116033  E01033608       32               4               6      0  2016     11\n",
      "116034  E01033608       32               0               0      0  2016      6\n",
      "116035  E01033608       32               1               5      0  2016      2\n",
      "116036  E01033608       32               4              29      1  2016      5\n",
      "116037  E01033608       32               1              18      0  2016      5\n",
      "116038  E01033608       32               1              18      0  2016     12\n",
      "116039  E01033608       32               4              29      2  2016      1\n",
      "116040  E01033608       32               1              18      0  2016      8\n",
      "116041  E01033608       32               5               9      1  2016      3\n",
      "116042  E01033608       32               0               0      0  2016      1\n",
      "116043  E01033608       32               7              27      0  2016      5\n",
      "116044  E01033608       32               1              19      1  2016      4\n",
      "116045  E01033608       32               4               8      2  2016      9\n",
      "116046  E01033608       32               4              29      2  2016      8\n",
      "\n",
      "[116047 rows x 7 columns]\n"
     ]
    }
   ],
   "source": [
    "print (data_corr)"
   ]
  },
  {
   "cell_type": "code",
   "execution_count": 36,
   "metadata": {},
   "outputs": [
    {
     "name": "stdout",
     "output_type": "stream",
     "text": [
      "<class 'pandas.core.frame.DataFrame'>\n",
      "RangeIndex: 116047 entries, 0 to 116046\n",
      "Data columns (total 7 columns):\n",
      "lsoa_code         116047 non-null object\n",
      "borough           116047 non-null int64\n",
      "major_category    116047 non-null int64\n",
      "minor_category    116047 non-null int64\n",
      "total             116047 non-null int64\n",
      "year              116047 non-null int64\n",
      "month             116047 non-null int64\n",
      "dtypes: int64(6), object(1)\n",
      "memory usage: 6.2+ MB\n",
      "None\n"
     ]
    }
   ],
   "source": [
    "print (data_corr.info())"
   ]
  },
  {
   "cell_type": "markdown",
   "metadata": {},
   "source": [
    "#### Remove unwanted column (lsoa_code)"
   ]
  },
  {
   "cell_type": "code",
   "execution_count": 38,
   "metadata": {},
   "outputs": [
    {
     "data": {
      "text/html": [
       "<div>\n",
       "<style scoped>\n",
       "    .dataframe tbody tr th:only-of-type {\n",
       "        vertical-align: middle;\n",
       "    }\n",
       "\n",
       "    .dataframe tbody tr th {\n",
       "        vertical-align: top;\n",
       "    }\n",
       "\n",
       "    .dataframe thead th {\n",
       "        text-align: right;\n",
       "    }\n",
       "</style>\n",
       "<table border=\"1\" class=\"dataframe\">\n",
       "  <thead>\n",
       "    <tr style=\"text-align: right;\">\n",
       "      <th></th>\n",
       "      <th>lsoa_code</th>\n",
       "      <th>borough</th>\n",
       "      <th>major_category</th>\n",
       "      <th>minor_category</th>\n",
       "      <th>total</th>\n",
       "      <th>year</th>\n",
       "      <th>month</th>\n",
       "    </tr>\n",
       "  </thead>\n",
       "  <tbody>\n",
       "    <tr>\n",
       "      <th>0</th>\n",
       "      <td>E01000006</td>\n",
       "      <td>Barking and Dagenham</td>\n",
       "      <td>Burglary</td>\n",
       "      <td>Burglary in a Dwelling</td>\n",
       "      <td>0</td>\n",
       "      <td>2016</td>\n",
       "      <td>6</td>\n",
       "    </tr>\n",
       "    <tr>\n",
       "      <th>1</th>\n",
       "      <td>E01000006</td>\n",
       "      <td>Barking and Dagenham</td>\n",
       "      <td>Criminal Damage</td>\n",
       "      <td>Criminal Damage To Motor Vehicle</td>\n",
       "      <td>0</td>\n",
       "      <td>2016</td>\n",
       "      <td>1</td>\n",
       "    </tr>\n",
       "    <tr>\n",
       "      <th>2</th>\n",
       "      <td>E01000006</td>\n",
       "      <td>Barking and Dagenham</td>\n",
       "      <td>Burglary</td>\n",
       "      <td>Burglary in a Dwelling</td>\n",
       "      <td>0</td>\n",
       "      <td>2016</td>\n",
       "      <td>8</td>\n",
       "    </tr>\n",
       "    <tr>\n",
       "      <th>3</th>\n",
       "      <td>E01000006</td>\n",
       "      <td>Barking and Dagenham</td>\n",
       "      <td>Theft and Handling</td>\n",
       "      <td>Theft/Taking of Pedal Cycle</td>\n",
       "      <td>0</td>\n",
       "      <td>2016</td>\n",
       "      <td>4</td>\n",
       "    </tr>\n",
       "    <tr>\n",
       "      <th>4</th>\n",
       "      <td>E01000006</td>\n",
       "      <td>Barking and Dagenham</td>\n",
       "      <td>Violence Against the Person</td>\n",
       "      <td>Other violence</td>\n",
       "      <td>2</td>\n",
       "      <td>2016</td>\n",
       "      <td>11</td>\n",
       "    </tr>\n",
       "  </tbody>\n",
       "</table>\n",
       "</div>"
      ],
      "text/plain": [
       "   lsoa_code               borough               major_category  \\\n",
       "0  E01000006  Barking and Dagenham                     Burglary   \n",
       "1  E01000006  Barking and Dagenham              Criminal Damage   \n",
       "2  E01000006  Barking and Dagenham                     Burglary   \n",
       "3  E01000006  Barking and Dagenham           Theft and Handling   \n",
       "4  E01000006  Barking and Dagenham  Violence Against the Person   \n",
       "\n",
       "                     minor_category  total  year  month  \n",
       "0            Burglary in a Dwelling      0  2016      6  \n",
       "1  Criminal Damage To Motor Vehicle      0  2016      1  \n",
       "2            Burglary in a Dwelling      0  2016      8  \n",
       "3       Theft/Taking of Pedal Cycle      0  2016      4  \n",
       "4                    Other violence      2  2016     11  "
      ]
     },
     "execution_count": 38,
     "metadata": {},
     "output_type": "execute_result"
    }
   ],
   "source": [
    "data.head()"
   ]
  },
  {
   "cell_type": "code",
   "execution_count": 39,
   "metadata": {},
   "outputs": [
    {
     "name": "stdout",
     "output_type": "stream",
     "text": [
      "<class 'pandas.core.frame.DataFrame'>\n",
      "RangeIndex: 116047 entries, 0 to 116046\n",
      "Data columns (total 7 columns):\n",
      "lsoa_code         116047 non-null object\n",
      "borough           116047 non-null int64\n",
      "major_category    116047 non-null int64\n",
      "minor_category    116047 non-null int64\n",
      "total             116047 non-null int64\n",
      "year              116047 non-null int64\n",
      "month             116047 non-null int64\n",
      "dtypes: int64(6), object(1)\n",
      "memory usage: 6.2+ MB\n"
     ]
    }
   ],
   "source": [
    "data_corr.info()"
   ]
  },
  {
   "cell_type": "code",
   "execution_count": 40,
   "metadata": {},
   "outputs": [
    {
     "data": {
      "text/plain": [
       "borough               major_category             \n",
       "Barking and Dagenham  Burglary                       0.56\n",
       "                      Criminal Damage                0.36\n",
       "                      Drugs                          0.28\n",
       "                      Fraud or Forgery               0.00\n",
       "                      Other Notifiable Offences      0.20\n",
       "                      Robbery                        0.20\n",
       "                      Sexual Offences                0.00\n",
       "                      Theft and Handling             0.52\n",
       "                      Violence Against the Person    0.73\n",
       "Barnet                Burglary                       0.62\n",
       "                      Criminal Damage                0.22\n",
       "                      Drugs                          0.15\n",
       "                      Fraud or Forgery               0.00\n",
       "                      Other Notifiable Offences      0.17\n",
       "                      Robbery                        0.09\n",
       "                      Sexual Offences                0.00\n",
       "                      Theft and Handling             0.51\n",
       "                      Violence Against the Person    0.51\n",
       "Bexley                Burglary                       0.30\n",
       "                      Criminal Damage                0.27\n",
       "                      Drugs                          0.20\n",
       "                      Fraud or Forgery               0.00\n",
       "                      Other Notifiable Offences      0.10\n",
       "                      Robbery                        0.05\n",
       "                      Sexual Offences                0.00\n",
       "                      Theft and Handling             0.38\n",
       "                      Violence Against the Person    0.44\n",
       "Brent                 Burglary                       0.61\n",
       "                      Criminal Damage                0.29\n",
       "                      Drugs                          0.36\n",
       "                                                     ... \n",
       "Tower Hamlets         Sexual Offences                0.00\n",
       "                      Theft and Handling             0.87\n",
       "                      Violence Against the Person    0.84\n",
       "Waltham Forest        Burglary                       0.59\n",
       "                      Criminal Damage                0.28\n",
       "                      Drugs                          0.24\n",
       "                      Fraud or Forgery               0.00\n",
       "                      Other Notifiable Offences      0.22\n",
       "                      Robbery                        0.24\n",
       "                      Sexual Offences                0.00\n",
       "                      Theft and Handling             0.58\n",
       "                      Violence Against the Person    0.69\n",
       "Wandsworth            Burglary                       0.63\n",
       "                      Criminal Damage                0.22\n",
       "                      Drugs                          0.17\n",
       "                      Fraud or Forgery               0.00\n",
       "                      Other Notifiable Offences      0.08\n",
       "                      Robbery                        0.15\n",
       "                      Sexual Offences                0.00\n",
       "                      Theft and Handling             0.70\n",
       "                      Violence Against the Person    0.52\n",
       "Westminster           Burglary                       0.98\n",
       "                      Criminal Damage                0.41\n",
       "                      Drugs                          0.61\n",
       "                      Fraud or Forgery               0.00\n",
       "                      Other Notifiable Offences      0.40\n",
       "                      Robbery                        0.62\n",
       "                      Sexual Offences                0.00\n",
       "                      Theft and Handling             2.20\n",
       "                      Violence Against the Person    1.17\n",
       "Name: total, Length: 295, dtype: float64"
      ]
     },
     "execution_count": 40,
     "metadata": {},
     "output_type": "execute_result"
    }
   ],
   "source": [
    "#Explore the effect of crimecategory for area tendency\n",
    "np.round(data.groupby(['borough','major_category'])['total'].mean(),2)"
   ]
  },
  {
   "cell_type": "code",
   "execution_count": 41,
   "metadata": {},
   "outputs": [
    {
     "data": {
      "text/plain": [
       "borough               minor_category                        \n",
       "Barking and Dagenham  Assault with Injury                       1.03\n",
       "                      Burglary in Other Buildings               0.39\n",
       "                      Burglary in a Dwelling                    0.69\n",
       "                      Business Property                         0.05\n",
       "                      Common Assault                            1.28\n",
       "                      Counted per Victim                        0.00\n",
       "                      Criminal Damage To Dwelling               0.24\n",
       "                      Criminal Damage To Motor Vehicle          0.65\n",
       "                      Criminal Damage To Other Building         0.11\n",
       "                      Drug Trafficking                          0.04\n",
       "                      Going Equipped                            0.02\n",
       "                      Handling Stolen Goods                     0.00\n",
       "                      Harassment                                1.38\n",
       "                      Motor Vehicle Interference & Tampering    0.18\n",
       "                      Murder                                    0.00\n",
       "                      Offensive Weapon                          0.13\n",
       "                      Other Criminal Damage                     0.42\n",
       "                      Other Drugs                               0.00\n",
       "                      Other Fraud & Forgery                     0.00\n",
       "                      Other Notifiable                          0.30\n",
       "                      Other Sexual                              0.00\n",
       "                      Other Theft                               1.00\n",
       "                      Other Theft Person                        0.31\n",
       "                      Other violence                            0.22\n",
       "                      Personal Property                         0.33\n",
       "                      Possession Of Drugs                       0.60\n",
       "                      Rape                                      0.00\n",
       "                      Theft From Motor Vehicle                  0.96\n",
       "                      Theft From Shops                          0.84\n",
       "                      Theft/Taking Of Motor Vehicle             0.79\n",
       "                                                                ... \n",
       "Westminster           Burglary in a Dwelling                    0.82\n",
       "                      Business Property                         0.04\n",
       "                      Common Assault                            2.17\n",
       "                      Counted per Victim                        0.00\n",
       "                      Criminal Damage To Dwelling               0.32\n",
       "                      Criminal Damage To Motor Vehicle          0.56\n",
       "                      Criminal Damage To Other Building         0.31\n",
       "                      Drug Trafficking                          0.02\n",
       "                      Going Equipped                            0.00\n",
       "                      Handling Stolen Goods                     0.09\n",
       "                      Harassment                                2.37\n",
       "                      Motor Vehicle Interference & Tampering    0.25\n",
       "                      Murder                                    0.00\n",
       "                      Offensive Weapon                          0.10\n",
       "                      Other Criminal Damage                     0.48\n",
       "                      Other Drugs                               0.02\n",
       "                      Other Fraud & Forgery                     0.00\n",
       "                      Other Notifiable                          0.60\n",
       "                      Other Sexual                              0.00\n",
       "                      Other Theft                               9.07\n",
       "                      Other Theft Person                        2.69\n",
       "                      Other violence                            0.34\n",
       "                      Personal Property                         1.21\n",
       "                      Possession Of Drugs                       1.52\n",
       "                      Rape                                      0.00\n",
       "                      Theft From Motor Vehicle                  1.47\n",
       "                      Theft From Shops                          1.80\n",
       "                      Theft/Taking Of Motor Vehicle             0.85\n",
       "                      Theft/Taking of Pedal Cycle               0.68\n",
       "                      Wounding/GBH                              0.73\n",
       "Name: total, Length: 1042, dtype: float64"
      ]
     },
     "execution_count": 41,
     "metadata": {},
     "output_type": "execute_result"
    }
   ],
   "source": [
    "#Explore the effect of crimecategory for area tendency\n",
    "np.round(data.groupby(['borough','minor_category'])['total'].mean(),2)"
   ]
  },
  {
   "cell_type": "markdown",
   "metadata": {},
   "source": [
    "#### Step 5: DATA MANIPULATION"
   ]
  },
  {
   "cell_type": "markdown",
   "metadata": {},
   "source": [
    "\n",
    "#### DISPLAY CORRELATED ATTRIBUTE PAIR"
   ]
  },
  {
   "cell_type": "markdown",
   "metadata": {},
   "source": [
    "#### Display correlated attribute pair the attribute pair correlation value and how each attribute related to others."
   ]
  },
  {
   "cell_type": "code",
   "execution_count": 42,
   "metadata": {},
   "outputs": [
    {
     "data": {
      "image/png": "[encoded data removed]",
      "text/plain": [
       "<matplotlib.figure.Figure at 0x24ea84bf320>"
      ]
     },
     "metadata": {},
     "output_type": "display_data"
    }
   ],
   "source": [
    "import seaborn as sns\n",
    "## Resize to make the heatmap bigger\n",
    "a4_dims = (11.7, 8.27)\n",
    "fig, ax = plt.subplots(figsize=a4_dims)\n",
    "\n",
    "corr = data_corr.corr()\n",
    "sns.heatmap(corr, ax=ax, \n",
    "            xticklabels=corr.columns.values,\n",
    "            yticklabels=corr.columns.values)\n",
    "plt.show()"
   ]
  },
  {
   "cell_type": "markdown",
   "metadata": {},
   "source": [
    "### Display correlated attribute pair\n",
    "#### 1.To see the attribute pair correlation value\n",
    "#### 2.How each attribute related to others."
   ]
  },
  {
   "cell_type": "code",
   "execution_count": 43,
   "metadata": {},
   "outputs": [
    {
     "name": "stdout",
     "output_type": "stream",
     "text": [
      "                 borough  major_category  minor_category     total  year  \\\n",
      "borough         1.000000        0.009455       -0.002517  0.033433   NaN   \n",
      "major_category  0.009455        1.000000        0.137733  0.025361   NaN   \n",
      "minor_category -0.002517        0.137733        1.000000 -0.033221   NaN   \n",
      "total           0.033433        0.025361       -0.033221  1.000000   NaN   \n",
      "year                 NaN             NaN             NaN       NaN   NaN   \n",
      "month           0.002108        0.000664       -0.002025  0.007592   NaN   \n",
      "\n",
      "                   month  \n",
      "borough         0.002108  \n",
      "major_category  0.000664  \n",
      "minor_category -0.002025  \n",
      "total           0.007592  \n",
      "year                 NaN  \n",
      "month           1.000000  \n"
     ]
    }
   ],
   "source": [
    "#correlation function\n",
    "'''method: {'pearson','kendall','sparman'}\n",
    "pearson: standard correlation coefficient\n",
    "kendall : kendall tau correlation coefficient\n",
    "spearman : spearman rank correlation\n",
    "'''\n",
    "\n",
    "correlation = data_corr.corr(method='pearson')\n",
    "print (correlation)\n"
   ]
  },
  {
   "cell_type": "code",
   "execution_count": 44,
   "metadata": {},
   "outputs": [
    {
     "data": {
      "image/png": "[encoded data removed]",
      "text/plain": [
       "<matplotlib.figure.Figure at 0x24ea84bff60>"
      ]
     },
     "metadata": {},
     "output_type": "display_data"
    }
   ],
   "source": [
    "plt.figure(figsize=(13,6))\n",
    "sns.heatmap(data_corr.corr(method='pearson'), annot=True)\n",
    "plt.title('Correlation between diffeerent attributes')\n",
    "plt.show()\n",
    "plt.savefig(\"Figure 2_Correlation Attribute.png\") #save figure"
   ]
  },
  {
   "cell_type": "markdown",
   "metadata": {},
   "source": [
    "#### Step 6: CLASSIFICATION MODEL FOR ALL FEATURES"
   ]
  },
  {
   "cell_type": "code",
   "execution_count": 45,
   "metadata": {},
   "outputs": [
    {
     "data": {
      "text/html": [
       "<div>\n",
       "<style scoped>\n",
       "    .dataframe tbody tr th:only-of-type {\n",
       "        vertical-align: middle;\n",
       "    }\n",
       "\n",
       "    .dataframe tbody tr th {\n",
       "        vertical-align: top;\n",
       "    }\n",
       "\n",
       "    .dataframe thead th {\n",
       "        text-align: right;\n",
       "    }\n",
       "</style>\n",
       "<table border=\"1\" class=\"dataframe\">\n",
       "  <thead>\n",
       "    <tr style=\"text-align: right;\">\n",
       "      <th></th>\n",
       "      <th>borough</th>\n",
       "      <th>major_category</th>\n",
       "      <th>minor_category</th>\n",
       "      <th>total</th>\n",
       "      <th>year</th>\n",
       "      <th>month</th>\n",
       "    </tr>\n",
       "  </thead>\n",
       "  <tbody>\n",
       "    <tr>\n",
       "      <th>0</th>\n",
       "      <td>0</td>\n",
       "      <td>0</td>\n",
       "      <td>17</td>\n",
       "      <td>0</td>\n",
       "      <td>2016</td>\n",
       "      <td>6</td>\n",
       "    </tr>\n",
       "    <tr>\n",
       "      <th>1</th>\n",
       "      <td>0</td>\n",
       "      <td>1</td>\n",
       "      <td>18</td>\n",
       "      <td>0</td>\n",
       "      <td>2016</td>\n",
       "      <td>1</td>\n",
       "    </tr>\n",
       "    <tr>\n",
       "      <th>2</th>\n",
       "      <td>0</td>\n",
       "      <td>0</td>\n",
       "      <td>17</td>\n",
       "      <td>0</td>\n",
       "      <td>2016</td>\n",
       "      <td>8</td>\n",
       "    </tr>\n",
       "    <tr>\n",
       "      <th>3</th>\n",
       "      <td>0</td>\n",
       "      <td>4</td>\n",
       "      <td>6</td>\n",
       "      <td>0</td>\n",
       "      <td>2016</td>\n",
       "      <td>4</td>\n",
       "    </tr>\n",
       "    <tr>\n",
       "      <th>4</th>\n",
       "      <td>0</td>\n",
       "      <td>5</td>\n",
       "      <td>1</td>\n",
       "      <td>2</td>\n",
       "      <td>2016</td>\n",
       "      <td>11</td>\n",
       "    </tr>\n",
       "  </tbody>\n",
       "</table>\n",
       "</div>"
      ],
      "text/plain": [
       "   borough  major_category  minor_category  total  year  month\n",
       "0        0               0              17      0  2016      6\n",
       "1        0               1              18      0  2016      1\n",
       "2        0               0              17      0  2016      8\n",
       "3        0               4               6      0  2016      4\n",
       "4        0               5               1      2  2016     11"
      ]
     },
     "execution_count": 45,
     "metadata": {},
     "output_type": "execute_result"
    }
   ],
   "source": [
    "#drop unwanted column\n",
    "lsoa_code = data['lsoa_code']\n",
    "y = np.where(lsoa_code == 'Yes',1,0)\n",
    "\n",
    "data_forpredict = data_corr.loc[:, \"borough\":\"month\"]\n",
    "data_forpredict.head()\n"
   ]
  },
  {
   "cell_type": "code",
   "execution_count": 46,
   "metadata": {},
   "outputs": [
    {
     "name": "stdout",
     "output_type": "stream",
     "text": [
      "Feature space holds 116047 observations and 6 features\n",
      "Unique target labels: [0]\n"
     ]
    }
   ],
   "source": [
    "# Pull out features for future use\n",
    "features = data_forpredict.columns\n",
    "X = data_forpredict.as_matrix().astype(np.float)\n",
    "\n",
    "# This is important\n",
    "from sklearn.preprocessing import StandardScaler\n",
    "scaler = StandardScaler()\n",
    "X = scaler.fit_transform(X)\n",
    "\n",
    "print (\"Feature space holds %d observations and %d features\" % X.shape)\n",
    "print (\"Unique target labels:\", np.unique(y))"
   ]
  },
  {
   "cell_type": "markdown",
   "metadata": {},
   "source": [
    "#### Train and Test set using scikit-learn libraries"
   ]
  },
  {
   "cell_type": "code",
   "execution_count": 48,
   "metadata": {},
   "outputs": [],
   "source": [
    "from sklearn.cross_validation import KFold\n",
    "\n",
    "def run_cv(X,y,clf_class,**kwargs):\n",
    "    # Construct a kfolds object\n",
    "    kf = KFold(len(y),n_folds=5,shuffle=True)\n",
    "    y_pred = y.copy()\n",
    "\n",
    "    # Iterate through folds\n",
    "    for train_index, test_index in kf:\n",
    "        X_train, X_test = X[train_index], X[test_index]\n",
    "        y_train = y[train_index]\n",
    "        # Initialize a classifier with key word arguments\n",
    "        clf = clf_class(**kwargs)\n",
    "        clf.fit(X_train,y_train)\n",
    "        y_pred[test_index] = clf.predict(X_test)\n",
    "    return y_pred"
   ]
  },
  {
   "cell_type": "markdown",
   "metadata": {},
   "source": [
    "#### Prediction Algorithm"
   ]
  },
  {
   "cell_type": "code",
   "execution_count": 91,
   "metadata": {},
   "outputs": [
    {
     "name": "stdout",
     "output_type": "stream",
     "text": [
      "Naive Bayes:\n",
      "1.000"
     ]
    },
    {
     "name": "stderr",
     "output_type": "stream",
     "text": [
      "c:\\users\\aslina asli\\anaconda3\\lib\\site-packages\\sklearn\\naive_bayes.py:455: RuntimeWarning: divide by zero encountered in log\n",
      "  self.class_log_prior_ = (np.log(self.class_count_) -\n"
     ]
    },
    {
     "name": "stdout",
     "output_type": "stream",
     "text": [
      "\n",
      "Random forest:\n",
      "1.000\n",
      "K-nearest-neighbors:\n",
      "1.000\n"
     ]
    }
   ],
   "source": [
    "from sklearn.naive_bayes import BernoulliNB as NB\n",
    "from sklearn.ensemble import RandomForestClassifier as RF\n",
    "from sklearn.neighbors import KNeighborsClassifier as KNN\n",
    "\n",
    "def accuracy(y_true,y_pred):\n",
    "    return np.mean(y_true == y_pred)\n",
    "\n",
    "print (\"Naive Bayes:\")\n",
    "print (\"%.3f\" % accuracy(y, run_cv(X,y,NB)))\n",
    "print (\"Random forest:\")\n",
    "print (\"%.3f\" % accuracy(y, run_cv(X,y,RF)))\n",
    "print (\"K-nearest-neighbors:\")\n",
    "print (\"%.3f\" % accuracy(y, run_cv(X,y,KNN)))"
   ]
  },
  {
   "cell_type": "code",
   "execution_count": 92,
   "metadata": {},
   "outputs": [],
   "source": [
    "#Declare neccessary function for confusion matrix\n",
    "from sklearn.metrics import confusion_matrix\n",
    "\n",
    "y = np.array(y)\n",
    "class_names = np.unique(y)\n",
    "\n",
    "import itertools\n",
    "import numpy as np\n",
    "import matplotlib.pyplot as plt\n",
    "\n",
    "from sklearn import svm, datasets\n",
    "from sklearn.model_selection import train_test_split\n",
    "from sklearn.metrics import confusion_matrix\n",
    "\n",
    "def plot_confusion_matrix(cm, classes,\n",
    "                          normalize=False,\n",
    "                          title='Confusion matrix',\n",
    "                          cmap=plt.cm.Blues):\n",
    "    \"\"\"\n",
    "    This function prints and plots the confusion matrix.\n",
    "    Normalization can be applied by setting `normalize=True`.\n",
    "    \"\"\"\n",
    "    plt.imshow(cm, interpolation='nearest', cmap=cmap)\n",
    "    plt.title(title)\n",
    "    plt.colorbar()\n",
    "    tick_marks = np.arange(len(classes))\n",
    "    plt.xticks(tick_marks, classes, rotation=45)\n",
    "    plt.yticks(tick_marks, classes)\n",
    "\n",
    "    thresh = cm.max() / 2.\n",
    "    for i, j in itertools.product(range(cm.shape[0]), range(cm.shape[1])):\n",
    "        plt.text(j, i, cm[i, j],\n",
    "                 horizontalalignment=\"center\",\n",
    "                 color=\"white\" if cm[i, j] > thresh else \"black\")\n",
    "\n",
    "    plt.tight_layout()\n",
    "    plt.ylabel('True label')\n",
    "    plt.xlabel('Predicted label')"
   ]
  },
  {
   "cell_type": "code",
   "execution_count": 93,
   "metadata": {},
   "outputs": [
    {
     "name": "stderr",
     "output_type": "stream",
     "text": [
      "c:\\users\\aslina asli\\anaconda3\\lib\\site-packages\\sklearn\\naive_bayes.py:455: RuntimeWarning: divide by zero encountered in log\n",
      "  self.class_log_prior_ = (np.log(self.class_count_) -\n"
     ]
    },
    {
     "data": {
      "image/png": "[encoded data removed]",
      "text/plain": [
       "<matplotlib.figure.Figure at 0x24ea80e9908>"
      ]
     },
     "metadata": {},
     "output_type": "display_data"
    },
    {
     "data": {
      "image/png": "[encoded data removed]",
      "text/plain": [
       "<matplotlib.figure.Figure at 0x24eab373518>"
      ]
     },
     "metadata": {},
     "output_type": "display_data"
    },
    {
     "data": {
      "image/png": "[encoded data removed]",
      "text/plain": [
       "<matplotlib.figure.Figure at 0x24ea82cee48>"
      ]
     },
     "metadata": {},
     "output_type": "display_data"
    }
   ],
   "source": [
    "# Compute confusion matrix\n",
    "cnf_matrix = confusion_matrix(y,run_cv(X,y,NB))\n",
    "cnf_matrix2 = confusion_matrix(y,run_cv(X,y,RF))\n",
    "cnf_matrix3 = confusion_matrix(y,run_cv(X,y,KNN))\n",
    "np.set_printoptions(precision=2)\n",
    "\n",
    "# Plot non-normalized confusion matrix\n",
    "plot_confusion_matrix(cnf_matrix, classes=class_names,\n",
    "                      title='Naive Bayes')\n",
    "plt.show()\n",
    "plot_confusion_matrix(cnf_matrix2, classes=class_names,\n",
    "                      title='Random Forest')\n",
    "plt.show()\n",
    "plot_confusion_matrix(cnf_matrix3, classes=class_names,\n",
    "                      title='KNN')\n",
    "plt.show()"
   ]
  },
  {
   "cell_type": "markdown",
   "metadata": {},
   "source": [
    "#### Step 7: CLASSIFICATION MODEL BY SELECTED FEATURES"
   ]
  },
  {
   "cell_type": "code",
   "execution_count": 94,
   "metadata": {},
   "outputs": [
    {
     "data": {
      "text/html": [
       "<div>\n",
       "<style scoped>\n",
       "    .dataframe tbody tr th:only-of-type {\n",
       "        vertical-align: middle;\n",
       "    }\n",
       "\n",
       "    .dataframe tbody tr th {\n",
       "        vertical-align: top;\n",
       "    }\n",
       "\n",
       "    .dataframe thead th {\n",
       "        text-align: right;\n",
       "    }\n",
       "</style>\n",
       "<table border=\"1\" class=\"dataframe\">\n",
       "  <thead>\n",
       "    <tr style=\"text-align: right;\">\n",
       "      <th></th>\n",
       "      <th>borough</th>\n",
       "      <th>major_category</th>\n",
       "      <th>minor_category</th>\n",
       "    </tr>\n",
       "  </thead>\n",
       "  <tbody>\n",
       "    <tr>\n",
       "      <th>0</th>\n",
       "      <td>0</td>\n",
       "      <td>0</td>\n",
       "      <td>17</td>\n",
       "    </tr>\n",
       "    <tr>\n",
       "      <th>1</th>\n",
       "      <td>0</td>\n",
       "      <td>1</td>\n",
       "      <td>18</td>\n",
       "    </tr>\n",
       "    <tr>\n",
       "      <th>2</th>\n",
       "      <td>0</td>\n",
       "      <td>0</td>\n",
       "      <td>17</td>\n",
       "    </tr>\n",
       "    <tr>\n",
       "      <th>3</th>\n",
       "      <td>0</td>\n",
       "      <td>4</td>\n",
       "      <td>6</td>\n",
       "    </tr>\n",
       "    <tr>\n",
       "      <th>4</th>\n",
       "      <td>0</td>\n",
       "      <td>5</td>\n",
       "      <td>1</td>\n",
       "    </tr>\n",
       "  </tbody>\n",
       "</table>\n",
       "</div>"
      ],
      "text/plain": [
       "   borough  major_category  minor_category\n",
       "0        0               0              17\n",
       "1        0               1              18\n",
       "2        0               0              17\n",
       "3        0               4               6\n",
       "4        0               5               1"
      ]
     },
     "execution_count": 94,
     "metadata": {},
     "output_type": "execute_result"
    }
   ],
   "source": [
    "data_forpredict_selected = data_corr[['borough','major_category','minor_category']]\n",
    "data_forpredict_selected.head()"
   ]
  },
  {
   "cell_type": "code",
   "execution_count": 96,
   "metadata": {},
   "outputs": [
    {
     "name": "stdout",
     "output_type": "stream",
     "text": [
      "Feature space holds 116047 observations and 6 features\n",
      "Unique target labels: [0]\n"
     ]
    },
    {
     "data": {
      "text/html": [
       "<div>\n",
       "<style scoped>\n",
       "    .dataframe tbody tr th:only-of-type {\n",
       "        vertical-align: middle;\n",
       "    }\n",
       "\n",
       "    .dataframe tbody tr th {\n",
       "        vertical-align: top;\n",
       "    }\n",
       "\n",
       "    .dataframe thead th {\n",
       "        text-align: right;\n",
       "    }\n",
       "</style>\n",
       "<table border=\"1\" class=\"dataframe\">\n",
       "  <thead>\n",
       "    <tr style=\"text-align: right;\">\n",
       "      <th></th>\n",
       "      <th>borough</th>\n",
       "      <th>major_category</th>\n",
       "      <th>minor_category</th>\n",
       "    </tr>\n",
       "  </thead>\n",
       "  <tbody>\n",
       "    <tr>\n",
       "      <th>0</th>\n",
       "      <td>0</td>\n",
       "      <td>0</td>\n",
       "      <td>17</td>\n",
       "    </tr>\n",
       "    <tr>\n",
       "      <th>1</th>\n",
       "      <td>0</td>\n",
       "      <td>1</td>\n",
       "      <td>18</td>\n",
       "    </tr>\n",
       "    <tr>\n",
       "      <th>2</th>\n",
       "      <td>0</td>\n",
       "      <td>0</td>\n",
       "      <td>17</td>\n",
       "    </tr>\n",
       "    <tr>\n",
       "      <th>3</th>\n",
       "      <td>0</td>\n",
       "      <td>4</td>\n",
       "      <td>6</td>\n",
       "    </tr>\n",
       "    <tr>\n",
       "      <th>4</th>\n",
       "      <td>0</td>\n",
       "      <td>5</td>\n",
       "      <td>1</td>\n",
       "    </tr>\n",
       "  </tbody>\n",
       "</table>\n",
       "</div>"
      ],
      "text/plain": [
       "   borough  major_category  minor_category\n",
       "0        0               0              17\n",
       "1        0               1              18\n",
       "2        0               0              17\n",
       "3        0               4               6\n",
       "4        0               5               1"
      ]
     },
     "execution_count": 96,
     "metadata": {},
     "output_type": "execute_result"
    }
   ],
   "source": [
    "# This is important\n",
    "from sklearn.preprocessing import StandardScaler\n",
    "scaler = StandardScaler()\n",
    "X = scaler.fit_transform(X)\n",
    "\n",
    "print (\"Feature space holds %d observations and %d features\" % X.shape)\n",
    "print (\"Unique target labels:\", np.unique(y))\n",
    "data_forpredict_selected.head()"
   ]
  },
  {
   "cell_type": "code",
   "execution_count": 99,
   "metadata": {},
   "outputs": [
    {
     "name": "stdout",
     "output_type": "stream",
     "text": [
      "Naive Bayes: \n"
     ]
    },
    {
     "name": "stderr",
     "output_type": "stream",
     "text": [
      "c:\\users\\aslina asli\\anaconda3\\lib\\site-packages\\sklearn\\naive_bayes.py:455: RuntimeWarning: divide by zero encountered in log\n",
      "  self.class_log_prior_ = (np.log(self.class_count_) -\n"
     ]
    },
    {
     "name": "stdout",
     "output_type": "stream",
     "text": [
      "1.000\n",
      "Random forest:\n",
      "1.000\n",
      "K-nearest-neighbors:\n",
      "1.000\n"
     ]
    }
   ],
   "source": [
    "from sklearn.naive_bayes import BernoulliNB as NB\n",
    "from sklearn.ensemble import RandomForestClassifier as RF\n",
    "from sklearn.neighbors import KNeighborsClassifier as KNN\n",
    "\n",
    "\n",
    "def accuracy(y_true,y_pred):\n",
    "    # NumPy interprets True and False as 1. and 0.\n",
    "    return np.mean(y_true == y_pred)\n",
    "\n",
    "print (\"Naive Bayes: \")\n",
    "print (\"%.3f\" % accuracy(y, run_cv(X,y,NB)))\n",
    "print (\"Random forest:\")\n",
    "print (\"%.3f\" % accuracy(y, run_cv(X,y,RF)))\n",
    "print (\"K-nearest-neighbors:\")\n",
    "print (\"%.3f\" % accuracy(y, run_cv(X,y,KNN)))"
   ]
  },
  {
   "cell_type": "code",
   "execution_count": 100,
   "metadata": {},
   "outputs": [
    {
     "name": "stderr",
     "output_type": "stream",
     "text": [
      "c:\\users\\aslina asli\\anaconda3\\lib\\site-packages\\sklearn\\naive_bayes.py:455: RuntimeWarning: divide by zero encountered in log\n",
      "  self.class_log_prior_ = (np.log(self.class_count_) -\n"
     ]
    },
    {
     "data": {
      "image/png": "[encoded data removed]",
      "text/plain": [
       "<matplotlib.figure.Figure at 0x24ea86a9320>"
      ]
     },
     "metadata": {},
     "output_type": "display_data"
    },
    {
     "data": {
      "image/png": "[encoded data removed]",
      "text/plain": [
       "<matplotlib.figure.Figure at 0x24eaa1def28>"
      ]
     },
     "metadata": {},
     "output_type": "display_data"
    },
    {
     "data": {
      "image/png": "[encoded data removed]",
      "text/plain": [
       "<matplotlib.figure.Figure at 0x24ea8324710>"
      ]
     },
     "metadata": {},
     "output_type": "display_data"
    }
   ],
   "source": [
    "# Compute confusion matrix\n",
    "cnf_matrix = confusion_matrix(y,run_cv(X,y,NB))\n",
    "cnf_matrix2 = confusion_matrix(y,run_cv(X,y,RF))\n",
    "cnf_matrix3 = confusion_matrix(y,run_cv(X,y,KNN))\n",
    "np.set_printoptions(precision=2)\n",
    "\n",
    "# Plot non-normalized confusion matrix\n",
    "plot_confusion_matrix(cnf_matrix, classes=class_names,\n",
    "                     title='Naive Bayes')\n",
    "plt.show()\n",
    "plot_confusion_matrix(cnf_matrix2, classes=class_names,\n",
    "                      title='Random Forest')\n",
    "plt.show()\n",
    "plot_confusion_matrix(cnf_matrix3, classes=class_names,\n",
    "                      title='KNN')\n",
    "plt.show()\n",
    "\n"
   ]
  },
  {
   "cell_type": "code",
   "execution_count": 101,
   "metadata": {},
   "outputs": [
    {
     "name": "stdout",
     "output_type": "stream",
     "text": [
      "Classification Report for Naive Bayes\n"
     ]
    },
    {
     "name": "stderr",
     "output_type": "stream",
     "text": [
      "c:\\users\\aslina asli\\anaconda3\\lib\\site-packages\\sklearn\\naive_bayes.py:455: RuntimeWarning: divide by zero encountered in log\n",
      "  self.class_log_prior_ = (np.log(self.class_count_) -\n"
     ]
    },
    {
     "name": "stdout",
     "output_type": "stream",
     "text": [
      "[[116047]]\n",
      "NB:Confusion Matrix\n",
      "[[116047]]\n",
      "Confusion matrix plot of NB\n"
     ]
    },
    {
     "data": {
      "image/png": "[encoded data removed]",
      "text/plain": [
       "<matplotlib.figure.Figure at 0x24eab37af98>"
      ]
     },
     "metadata": {},
     "output_type": "display_data"
    },
    {
     "name": "stdout",
     "output_type": "stream",
     "text": [
      "Classification Report for RF\n",
      "[[116047]]\n",
      "RF:Confusion Matrix\n",
      "[[116047]]\n",
      "Confusion matrix plot of RF\n"
     ]
    },
    {
     "data": {
      "image/png": "[encoded data removed]",
      "text/plain": [
       "<matplotlib.figure.Figure at 0x24ea9f83748>"
      ]
     },
     "metadata": {},
     "output_type": "display_data"
    },
    {
     "name": "stdout",
     "output_type": "stream",
     "text": [
      "Classification Report for KNN\n",
      "[[116047]]\n",
      "KNN:Confusion Matrix\n",
      "[[116047]]\n",
      "Confusion matrix plot of KNN\n"
     ]
    },
    {
     "data": {
      "image/png": "[encoded data removed]",
      "text/plain": [
       "<matplotlib.figure.Figure at 0x24ea8ea5be0>"
      ]
     },
     "metadata": {},
     "output_type": "display_data"
    }
   ],
   "source": [
    "# classification report \n",
    "from sklearn.metrics import classification_report\n",
    "from sklearn.metrics import confusion_matrix\n",
    "print('Classification Report for Naive Bayes') \n",
    "print(confusion_matrix(y,run_cv(X,y,NB)))\n",
    "print('NB:Confusion Matrix') \n",
    "print(cnf_matrix) \n",
    "ax=plt.matshow(cnf_matrix,cmap=plt.cm.Reds) \n",
    "print('Confusion matrix plot of NB') \n",
    "plt.colorbar(ax) \n",
    "plt.xlabel('Predicted') \n",
    "plt.ylabel('True') \n",
    "plt.show()\n",
    "\n",
    "#######################################################\n",
    "print('Classification Report for RF') \n",
    "print(confusion_matrix(y,run_cv(X,y,RF)))\n",
    "print('RF:Confusion Matrix') \n",
    "print(cnf_matrix2) \n",
    "ax=plt.matshow(cnf_matrix2,cmap=plt.cm.Reds) \n",
    "print('Confusion matrix plot of RF') \n",
    "plt.colorbar(ax) \n",
    "plt.xlabel('Predicted') \n",
    "plt.ylabel('True') \n",
    "plt.show()\n",
    "########################################################\n",
    "print('Classification Report for KNN') \n",
    "print(confusion_matrix(y,run_cv(X,y,KNN)))\n",
    "print('KNN:Confusion Matrix') \n",
    "print(cnf_matrix3) \n",
    "ax=plt.matshow(cnf_matrix3,cmap=plt.cm.Reds) \n",
    "print('Confusion matrix plot of KNN') \n",
    "plt.colorbar(ax) \n",
    "plt.xlabel('Predicted') \n",
    "plt.ylabel('True') \n",
    "plt.show()"
   ]
  },
  {
   "cell_type": "markdown",
   "metadata": {},
   "source": [
    "#### Step 8: CONCLUSION\n",
    "\n",
    "Accuracy for train & test dataset for 3 classifier is equal to 1.\n",
    "Perhaps, it goes the same to the actual dataset with accuracy equal to 1 for all 3 different classifer (NB, RF and KNN).\n",
    "\n",
    "Based on the result, we can conclude that dataset provided predicted with 100% accuracy which was not always happened. However, things like the best features selection to be train and test are very important in order to have a good result of accuracy.\n"
   ]
  }
 ],
 "metadata": {
  "kernelspec": {
   "display_name": "Python 3",
   "language": "python",
   "name": "python3"
  },
  "language_info": {
   "codemirror_mode": {
    "name": "ipython",
    "version": 3
   },
   "file_extension": ".py",
   "mimetype": "text/x-python",
   "name": "python",
   "nbconvert_exporter": "python",
   "pygments_lexer": "ipython3",
   "version": "3.6.0"
  }
 },
 "nbformat": 4,
 "nbformat_minor": 2
}
